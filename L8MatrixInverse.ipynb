{
 "metadata": {
  "celltoolbar": "Slideshow",
  "name": "",
  "signature": "sha256:6edf338be522b5811b240bfba2b119c799f1321b81fc12a9776050d2a2edb95d"
 },
 "nbformat": 3,
 "nbformat_minor": 0,
 "worksheets": [
  {
   "cells": [
    {
     "cell_type": "heading",
     "level": 1,
     "metadata": {
      "internals": {
       "slide_type": "subslide"
      },
      "slideshow": {
       "slide_type": "slide"
      }
     },
     "source": [
      "The Inverse of a Matrix"
     ]
    },
    {
     "cell_type": "code",
     "collapsed": false,
     "input": [
      "%matplotlib inline\n",
      "%config InlineBackend.figure_format='retina'\n",
      "# import libraries\n",
      "import numpy as np\n",
      "import matplotlib as mp\n",
      "import pandas as pd\n",
      "import matplotlib.pyplot as plt\n",
      "import laUtilities as ut\n",
      "import slideUtilities as sl\n",
      "import demoUtilities as dm\n",
      "from IPython.display import Image\n",
      "from IPython.display import display_html\n",
      "from IPython.display import display\n",
      "from IPython.display import Math\n",
      "from IPython.display import Latex\n",
      "reload(dm)\n",
      "reload(ut)\n",
      "print ''"
     ],
     "language": "python",
     "metadata": {
      "internals": {},
      "slideshow": {
       "slide_type": "skip"
      }
     },
     "outputs": [
      {
       "output_type": "stream",
       "stream": "stdout",
       "text": [
        "\n"
       ]
      }
     ],
     "prompt_number": 1
    },
    {
     "cell_type": "code",
     "collapsed": false,
     "input": [
      "%%html\n",
      "<style>\n",
      " .container.slides .celltoolbar, .container.slides .hide-in-slideshow {\n",
      "    display: None ! important;\n",
      "}\n",
      "</style>"
     ],
     "language": "python",
     "metadata": {
      "internals": {},
      "slideshow": {
       "slide_type": "skip"
      }
     },
     "outputs": [
      {
       "html": [
        "<style>\n",
        " .container.slides .celltoolbar, .container.slides .hide-in-slideshow {\n",
        "    display: None ! important;\n",
        "}\n",
        "</style>"
       ],
       "metadata": {},
       "output_type": "display_data",
       "text": [
        "<IPython.core.display.HTML at 0x1036db7d0>"
       ]
      }
     ],
     "prompt_number": 2
    },
    {
     "cell_type": "markdown",
     "metadata": {},
     "source": [
      "Today we investigate the idea of the \"reciprocal\" of a matrix."
     ]
    },
    {
     "cell_type": "markdown",
     "metadata": {},
     "source": [
      "For reasons that will become clear, we will think about this way:\n",
      "    \n",
      "The reciprocal of any nonzero number $r$ is its multiplicative inverse $1/r = r^{-1}$ such that $r \\cdot r^{-1} = 1.$\n",
      "\n",
      "This gives a way to define what is called the _inverse_ of a matrix."
     ]
    },
    {
     "cell_type": "markdown",
     "metadata": {},
     "source": [
      "First, we have to recognize that this inverse does not exist for all matrices.\n",
      "\n",
      "* It only exists for square matrices\n",
      "* And not even for all square matrices -- only those that are \"invertible.\""
     ]
    },
    {
     "cell_type": "markdown",
     "metadata": {},
     "source": [
      "__Definition.__ A matrix $A$ is called __invertible__ if there exists a matrix $C$ such \n",
      "$$ AC = I \\mbox{  and  } CA = I. $$"
     ]
    },
    {
     "cell_type": "markdown",
     "metadata": {},
     "source": [
      "In that case $C$ is called the _inverse_ of $A$.   Clearly, $C$ must also be square and the same size as $A$.\n",
      "\n",
      "The inverse of $A$ is denoted $A^{-1}.$"
     ]
    },
    {
     "cell_type": "markdown",
     "metadata": {},
     "source": [
      "A matrix that is not invertible is called a __singular__ matrix."
     ]
    },
    {
     "cell_type": "markdown",
     "metadata": {},
     "source": [
      "__Example.__\n",
      "\n",
      "If $A = \\left[\\begin{array}{rr}2&5\\\\-3&-7\\end{array}\\right]$ and $C = \\left[\\begin{array}{rr}-7&-5\\\\3&2\\end{array}\\right]$, then:\n",
      "\n",
      "$$ AC = \\left[\\begin{array}{rr}2&5\\\\-3&-7\\end{array}\\right]\\left[\\begin{array}{rr}-7&-5\\\\3&2\\end{array}\\right] = \\left[\\begin{array}{rr}1&0\\\\0&1\\end{array}\\right],$$\n",
      "\n",
      "and:\n",
      "\n",
      "$$ CA = \\left[\\begin{array}{rr}-7&-5\\\\3&2\\end{array}\\right]\\left[\\begin{array}{rr}2&5\\\\-3&-7\\end{array}\\right] = \\left[\\begin{array}{rr}1&0\\\\0&1\\end{array}\\right],$$"
     ]
    },
    {
     "cell_type": "heading",
     "level": 2,
     "metadata": {},
     "source": [
      "As a Linear Transformation"
     ]
    },
    {
     "cell_type": "markdown",
     "metadata": {},
     "source": [
      "Let's think geometrically about "
     ]
    }
   ],
   "metadata": {}
  }
 ]
}