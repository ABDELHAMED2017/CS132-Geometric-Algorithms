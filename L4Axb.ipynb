{
 "metadata": {
  "celltoolbar": "Slideshow",
  "name": "",
  "signature": "sha256:93541bef96f317211938acc8df58c99d3885ea4f1b2f7ea2c6d2e3ca60195f60"
 },
 "nbformat": 3,
 "nbformat_minor": 0,
 "worksheets": [
  {
   "cells": [
    {
     "cell_type": "heading",
     "level": 1,
     "metadata": {
      "internals": {
       "slide_type": "subslide"
      },
      "slideshow": {
       "slide_type": "slide"
      }
     },
     "source": [
      "$A{\\bf x} = {\\bf b}$"
     ]
    },
    {
     "cell_type": "code",
     "collapsed": false,
     "input": [
      "%matplotlib inline\n",
      "%config InlineBackend.figure_format='retina'\n",
      "# possible questions: 35, 60, 61\n",
      "# import libraries\n",
      "import numpy as np\n",
      "import matplotlib as mp\n",
      "import pandas as pd\n",
      "import matplotlib.pyplot as plt\n",
      "import laUtilities as ut\n",
      "import slideUtilities as sl\n",
      "from IPython.display import Image\n",
      "from IPython.display import display_html\n",
      "from IPython.display import display\n",
      "reload(ut)\n",
      "print ''"
     ],
     "language": "python",
     "metadata": {
      "internals": {},
      "slideshow": {
       "slide_type": "skip"
      }
     },
     "outputs": [
      {
       "output_type": "stream",
       "stream": "stdout",
       "text": [
        "\n"
       ]
      }
     ],
     "prompt_number": 1
    },
    {
     "cell_type": "code",
     "collapsed": false,
     "input": [
      "%%html\n",
      "<style>\n",
      " .container.slides .celltoolbar, .container.slides .hide-in-slideshow {\n",
      "    display: None ! important;\n",
      "}\n",
      "</style>"
     ],
     "language": "python",
     "metadata": {
      "internals": {
       "slide_helper": "subslide_end"
      },
      "slide_helper": "slide_end",
      "slideshow": {
       "slide_type": "skip"
      }
     },
     "outputs": [
      {
       "html": [
        "<style>\n",
        " .container.slides .celltoolbar, .container.slides .hide-in-slideshow {\n",
        "    display: None ! important;\n",
        "}\n",
        "</style>"
       ],
       "metadata": {},
       "output_type": "display_data",
       "text": [
        "<IPython.core.display.HTML at 0x1035c67d0>"
       ]
      }
     ],
     "prompt_number": 2
    },
    {
     "cell_type": "heading",
     "level": 2,
     "metadata": {
      "internals": {
       "slide_type": "subslide"
      },
      "slideshow": {
       "slide_type": "slide"
      }
     },
     "source": [
      "Multiplying a Matrix by a Vector"
     ]
    },
    {
     "cell_type": "markdown",
     "metadata": {
      "internals": {},
      "slideshow": {
       "slide_type": "-"
      }
     },
     "source": [
      "Last lecture we studied the vector equation:\n",
      "$$ x_1{\\bf a_1} + x_2{\\bf a_2} + ... + x_n{\\bf a_n} = {\\bf b}.$$"
     ]
    },
    {
     "cell_type": "markdown",
     "metadata": {
      "internals": {},
      "slideshow": {
       "slide_type": "-"
      }
     },
     "source": [
      "We also talked about how one can form a matrix from a set of vectors:\n",
      "$$ A = [{\\bf a_1} \\; {\\bf a_2} \\; ... \\;{\\bf a_n}].$$"
     ]
    },
    {
     "cell_type": "markdown",
     "metadata": {
      "internals": {
       "frag_number": 6
      },
      "slideshow": {
       "slide_type": "fragment"
      }
     },
     "source": [
      "In particular, if we have $n$ vectors ${\\bf a_1},{\\bf a_2}, ..., {\\bf a_n} \\in \\mathbb{R}^m,$ then A will be an $m \\times n$ matrix:\n",
      "\n",
      "$$ m\\left\\{\\begin{array}{c}\\;\\\\\\;\\\\\\;\\\\\\;\\\\\\;\\end{array}\\right.\\;\\;\\overbrace{\\left[\\begin{array}{cccc}\\begin{array}{c}\\vdots\\\\\\vdots\\\\{\\bf a_1}\\\\\\vdots\\\\\\vdots\\end{array}&\\begin{array}{c}\\vdots\\\\\\vdots\\\\{\\bf a_2}\\\\\\vdots\\\\\\vdots\\end{array}&\\dots&\\begin{array}{c}\\vdots\\\\\\vdots\\\\{\\bf a_n}\\\\\\vdots\\\\\\vdots\\end{array}\\\\\\end{array}\\right]}^{\\large n} $$"
     ]
    },
    {
     "cell_type": "markdown",
     "metadata": {
      "internals": {
       "frag_helper": "fragment_end",
       "frag_number": 7
      },
      "slideshow": {
       "slide_type": "fragment"
      }
     },
     "source": [
      "We're going to express a vector equation in a new way.  We are going to say that \n",
      "\n",
      "$$x_1{\\bf a_1} + x_2{\\bf a_2} + ... + x_n{\\bf a_n}$$\n",
      "\n",
      "is the same as:\n",
      "\n",
      "$$A{\\bf x}$$"
     ]
    },
    {
     "cell_type": "markdown",
     "metadata": {
      "internals": {
       "frag_helper": "fragment_end",
       "frag_number": 8
      },
      "slideshow": {
       "slide_type": "fragment"
      }
     },
     "source": [
      "where $A = \\left[\\begin{array}{cccc}\\begin{array}{c}\\vdots\\\\\\vdots\\\\{\\bf a_1}\\\\\\vdots\\\\\\vdots\\end{array}&\\begin{array}{c}\\vdots\\\\\\vdots\\\\{\\bf a_2}\\\\\\vdots\\\\\\vdots\\end{array}&\\dots&\\begin{array}{c}\\vdots\\\\\\vdots\\\\{\\bf a_n}\\\\\\vdots\\\\\\vdots\\end{array}\\\\\\end{array}\\right]$ and ${\\bf x} = \\left[\\begin{array}{c}x_1\\\\x_2\\\\\\vdots\\\\x_n\\end{array}\\right].$"
     ]
    },
    {
     "cell_type": "markdown",
     "metadata": {
      "internals": {
       "frag_helper": "fragment_end",
       "frag_number": 9
      },
      "slideshow": {
       "slide_type": "fragment"
      }
     },
     "source": [
      "What we have done is to define __Matrix-vector multiplication__.  That is, $A{\\bf x}$ denotes multiplying a matrix and a vector, and we define it to be the same as a linear combination of the $\\{\\bf a_1, a_2, \\dots, a_n\\}$ with weights $x_1, x_2, \\dots, x_n.$"
     ]
    },
    {
     "cell_type": "markdown",
     "metadata": {
      "internals": {
       "frag_helper": "fragment_end",
       "frag_number": 10
      },
      "slideshow": {
       "slide_type": "fragment"
      }
     },
     "source": [
      "Here is the definition: \n",
      "\n",
      "If $A$ is an $m\\times n$ matrix, with columns $\\bf a_1, a_2, \\dots, a_n,$ and if ${\\bf x} \\in \\mathbb{R}^n,$ then the __product of $A$ and $\\bf x$,__ denoted $A{\\bf x}$, is __the linear combination of the columns of $A$ using the corresponding entries in $x$ as weights;__ that is,\n",
      "\n",
      "$$ A{\\bf x} = [{\\bf a_1} \\; {\\bf a_2} \\; ... \\;{\\bf a_n}]\\;\\left[\\begin{array}{c}x_1\\\\x_2\\\\\\vdots\\\\x_n\\end{array}\\right] = x_1{\\bf a_1} + x_2{\\bf a_2} + ... + x_n{\\bf a_n}.$$"
     ]
    },
    {
     "cell_type": "markdown",
     "metadata": {
      "internals": {
       "frag_helper": "fragment_end",
       "frag_number": 10,
       "slide_helper": "subslide_end"
      },
      "slide_helper": "slide_end",
      "slideshow": {
       "slide_type": "-"
      }
     },
     "source": [
      "Notice that if $A$ is an $m\\times n$ matrix, then ${\\bf x}$ must be in $\\mathbb{R}^n$ in order for this operation to be defined.  That is, the number of __columns__ of $A$ must match the number of __rows__ of ${\\bf x}.$\n",
      "\n",
      "If the number of columns of $A$ does not match the number of rows of ${\\bf x}$, then $A{\\bf x}$ has no meaning."
     ]
    },
    {
     "cell_type": "heading",
     "level": 2,
     "metadata": {
      "internals": {
       "frag_helper": "fragment_end",
       "frag_number": 10,
       "slide_type": "subslide"
      },
      "slideshow": {
       "slide_type": "slide"
      }
     },
     "source": [
      "Example."
     ]
    },
    {
     "cell_type": "markdown",
     "metadata": {
      "internals": {
       "frag_helper": "fragment_end",
       "frag_number": 10
      },
      "slideshow": {
       "slide_type": "-"
      }
     },
     "source": [
      "$$\\left[\\begin{array}{rrr}1&2&-1\\\\0&-5&3\\end{array}\\right]\\;\\left[\\begin{array}{r}4\\\\3\\\\7\\end{array}\\right] =$$"
     ]
    },
    {
     "cell_type": "markdown",
     "metadata": {
      "internals": {
       "frag_helper": "fragment_end",
       "frag_number": 14
      },
      "slideshow": {
       "slide_type": "fragment"
      }
     },
     "source": [
      "$$ 4\\left[\\begin{array}{r}1\\\\0\\end{array}\\right] + 3\\left[\\begin{array}{r}2\\\\-5\\end{array}\\right] + 7\\left[\\begin{array}{r}-1\\\\3\\end{array}\\right] \n",
      "= $$"
     ]
    },
    {
     "cell_type": "markdown",
     "metadata": {
      "internals": {
       "frag_helper": "fragment_end",
       "frag_number": 15
      },
      "slideshow": {
       "slide_type": "fragment"
      }
     },
     "source": [
      "$$\\left[\\begin{array}{r}4\\\\0\\end{array}\\right] + \\left[\\begin{array}{r}6\\\\-15\\end{array}\\right]+ \\left[\\begin{array}{r}-7\\\\21\\end{array}\\right] = $$"
     ]
    },
    {
     "cell_type": "markdown",
     "metadata": {
      "internals": {
       "frag_helper": "fragment_end",
       "frag_number": 16,
       "slide_helper": "subslide_end"
      },
      "slide_helper": "slide_end",
      "slideshow": {
       "slide_type": "fragment"
      }
     },
     "source": [
      "$$\\left[\\begin{array}{r}3\\\\6\\end{array}\\right] $$"
     ]
    },
    {
     "cell_type": "heading",
     "level": 2,
     "metadata": {
      "internals": {
       "frag_helper": "fragment_end",
       "frag_number": 16,
       "slide_type": "subslide"
      },
      "slideshow": {
       "slide_type": "slide"
      }
     },
     "source": [
      "Example."
     ]
    },
    {
     "cell_type": "markdown",
     "metadata": {
      "internals": {
       "frag_helper": "fragment_end",
       "frag_number": 16
      },
      "slideshow": {
       "slide_type": "-"
      }
     },
     "source": [
      "For ${\\bf v_1}, {\\bf v_2}, {\\bf v_3} \\in \\mathbb{R}^m,$ write the linear combination $3{\\bf v_1} + 5{\\bf v_2} + 7{\\bf v_3}$ as a matrix times a vector."
     ]
    },
    {
     "cell_type": "markdown",
     "metadata": {
      "internals": {
       "frag_helper": "fragment_end",
       "frag_number": 19,
       "slide_helper": "subslide_end"
      },
      "slide_helper": "slide_end",
      "slideshow": {
       "slide_type": "fragment"
      }
     },
     "source": [
      "$$3{\\bf v_1} + 5{\\bf v_2} + 7{\\bf v_3} = [{\\bf v_1} \\; {\\bf v_2} \\; {\\bf v_3}]\\;\\left[\\begin{array}{c}3\\\\5\\\\7\\end{array}\\right] = A{\\bf x}.$$"
     ]
    },
    {
     "cell_type": "markdown",
     "metadata": {
      "internals": {
       "frag_helper": "fragment_end",
       "frag_number": 19,
       "slide_type": "subslide"
      },
      "slideshow": {
       "slide_type": "slide"
      }
     },
     "source": [
      "Notice that if $A = [{\\bf a_1} \\; {\\bf a_2} \\; ... \\;{\\bf a_n}]$ then $A{\\bf x}$ is some point that lies in Span$\\{{\\bf a_1},{\\bf a_2}, \\dots ,{\\bf a_n}\\}$."
     ]
    },
    {
     "cell_type": "code",
     "collapsed": false,
     "input": [
      "sl.hide_code_in_slideshow()\n",
      "ax = ut.plotSetup3d(-5,5,-7,7,-10,10)\n",
      "v = [4.0,4.0,2.0]\n",
      "u = [-4.0,3.0,1.0]\n",
      "A = np.array([v, u]).T\n",
      "x = np.array([[-0.1, -0.75]]).T\n",
      "Ax = A.dot(x)\n",
      "ax.text(v[0],v[1],v[2],r'$\\bf a_1$',size=20)\n",
      "ax.text(u[0],u[1],u[2],r'$\\bf a_2$',size=20)\n",
      "ax.text(Ax[0],Ax[1],Ax[2],r'$A\\bf x$',size=20)\n",
      "ax.text(1,-4,-10,r'Span{$\\bf a_1,a_2$}',size=16)\n",
      "ax.text(0.2,0.2,-4,r'$\\bf 0$',size=20)\n",
      "# plotting the span of v\n",
      "ut.plotSpan3d(ax,u,v,'Green')\n",
      "ut.plotPoint3d(ax,u[0],u[1],u[2],'r')\n",
      "ut.plotPoint3d(ax,v[0],v[1],v[2],'r')\n",
      "ut.plotPoint3d(ax,0,0,0,'b')\n",
      "ut.plotPoint3d(ax,Ax[0],Ax[1],Ax[2],'b')\n",
      "# plotting the axes\n",
      "ut.plotIntersection3d(ax,[0,0,1,0],[0,1,0,0])\n",
      "ut.plotIntersection3d(ax,[0,0,1,0],[1,0,0,0])\n",
      "ut.plotIntersection3d(ax,[0,1,0,0],[1,0,0,0])\n",
      "ax.set_title(r'$A{\\bf x}$ where $A = \\left[\\bf a_1\\;a_2\\right]$',size=20)\n",
      "print ''"
     ],
     "language": "python",
     "metadata": {
      "internals": {
       "frag_helper": "fragment_end",
       "frag_number": 19,
       "slide_helper": "subslide_end"
      },
      "slide_helper": "slide_end",
      "slideshow": {
       "slide_type": "-"
      }
     },
     "outputs": [
      {
       "html": [
        "<div id=\"694a04a064d39142\"></div>\n",
        "    <script type=\"text/javascript\">\n",
        "        $(function(){\n",
        "            var p = $(\"#694a04a064d39142\");\n",
        "            if (p.length==0) return;\n",
        "\n",
        "            while (!p.hasClass(\"cell\")) {\n",
        "                p=p.parent();\n",
        "\n",
        "                if (p.prop(\"tagName\") ==\"body\") return;\n",
        "            }\n",
        "            var cell = p;\n",
        "            cell.find(\".input\").addClass(\"hide-in-slideshow\")\n",
        "        });\n",
        "    </script>"
       ],
       "metadata": {},
       "output_type": "display_data"
      },
      {
       "output_type": "stream",
       "stream": "stdout",
       "text": [
        "\n"
       ]
      },
      {
       "metadata": {
        "png": {
         "height": 241,
         "width": 349
        }
       },
       "output_type": "display_data",
       "png": "[encoded data removed]",
       "text": [
        "<matplotlib.figure.Figure at 0x10df1eb90>"
       ]
      }
     ],
     "prompt_number": 3
    },
    {
     "cell_type": "heading",
     "level": 2,
     "metadata": {
      "internals": {
       "frag_helper": "fragment_end",
       "frag_number": 19,
       "slide_helper": "subslide_end",
       "slide_type": "subslide"
      },
      "slide_helper": "slide_end",
      "slideshow": {
       "slide_type": "slide"
      }
     },
     "source": [
      "Question Time! Q4.1"
     ]
    },
    {
     "cell_type": "heading",
     "level": 2,
     "metadata": {
      "internals": {
       "frag_helper": "fragment_end",
       "frag_number": 19,
       "slide_type": "subslide"
      },
      "slideshow": {
       "slide_type": "slide"
      }
     },
     "source": [
      "The Matrix Equation"
     ]
    },
    {
     "cell_type": "markdown",
     "metadata": {
      "internals": {
       "frag_helper": "fragment_end",
       "frag_number": 19
      },
      "slideshow": {
       "slide_type": "-"
      }
     },
     "source": [
      "Now let's write an equation.   Let's start with a linear system:\n",
      "\n",
      "$$\\begin{array}{rcl}x_1+2x_2-x_3&=&4\\\\-5x_2+3x_3&=&1\\end{array}$$"
     ]
    },
    {
     "cell_type": "markdown",
     "metadata": {
      "internals": {
       "frag_helper": "fragment_end",
       "frag_number": 25
      },
      "slideshow": {
       "slide_type": "fragment"
      }
     },
     "source": [
      "We saw last lecture that this linear system is equivalent to a vector equation, namely\n",
      "\n",
      "$$x_1\\left[\\begin{array}{r}1\\\\0\\end{array}\\right] + x_2\\left[\\begin{array}{r}2\\\\-5\\end{array}\\right] + x_3\\left[\\begin{array}{r}-1\\\\3\\end{array}\\right] = \\left[\\begin{array}{r}4\\\\1\\end{array}\\right]$$"
     ]
    },
    {
     "cell_type": "markdown",
     "metadata": {
      "internals": {
       "frag_helper": "fragment_end",
       "frag_number": 26
      },
      "slideshow": {
       "slide_type": "fragment"
      }
     },
     "source": [
      "Now, today we have learned that this vector equation is also equivalent to this __matrix equation__:\n",
      "\n",
      "$$\\left[\\begin{array}{rrr}1&2&-1\\\\0&-5&3\\end{array}\\right]\\;\\left[\\begin{array}{r}x_1\\\\x_2\\\\x_3\\end{array}\\right] = \\left[\\begin{array}{r}4\\\\1\\end{array}\\right].$$"
     ]
    },
    {
     "cell_type": "markdown",
     "metadata": {
      "internals": {
       "frag_helper": "fragment_end",
       "frag_number": 27
      },
      "slideshow": {
       "slide_type": "fragment"
      }
     },
     "source": [
      "which has the form $A{\\bf x} = {\\bf b}$.  "
     ]
    },
    {
     "cell_type": "markdown",
     "metadata": {
      "internals": {
       "frag_helper": "fragment_end",
       "frag_number": 28,
       "slide_helper": "subslide_end"
      },
      "slide_helper": "slide_end",
      "slideshow": {
       "slide_type": "fragment"
      }
     },
     "source": [
      "Notice how simple it is to go from the linear system to the matrix equation: we put the coefficients of the linear system into $A$, and the right hand side values into ${\\bf b},$ and we can then write the matrix equation $A{\\bf x} = {\\bf b}$ immediately."
     ]
    },
    {
     "cell_type": "markdown",
     "metadata": {
      "internals": {
       "frag_helper": "fragment_end",
       "frag_number": 28,
       "slide_type": "subslide"
      },
      "slideshow": {
       "slide_type": "slide"
      }
     },
     "source": [
      "OK, let's write this out formally.\n",
      "\n",
      "__Theorem.__  If $A$ is an $m\\times n$ matrix, with columns $\\bf a_1, a_2, \\dots, a_n,$ and if $\\bf b$ is in $\\mathbb{R}^m$, the matrix equation\n",
      "\n",
      "$$ A{\\bf x} = {\\bf b}$$\n",
      "\n",
      "has the same solution set as the vector equation\n",
      "\n",
      "$$ x_1{\\bf a_1} + x_2{\\bf a_2} + ... + x_n{\\bf a_n} = {\\bf b}$$\n",
      "\n",
      "which, in turn, has the same solution set as the system of linear equations whose augmented matrix is\n",
      "\n",
      "$$[{\\bf a_1} \\; {\\bf a_2} \\; ... \\;{\\bf a_n}\\;{\\bf b}].$$"
     ]
    },
    {
     "cell_type": "markdown",
     "metadata": {
      "internals": {
       "frag_helper": "fragment_end",
       "frag_number": 30
      },
      "slideshow": {
       "slide_type": "fragment"
      }
     },
     "source": [
      "This is an absolutely key result, because it gives us power to solve problems from three different viewpoints.  If we are looking for a solution set $x_1, x_2, \\dots, x_n,$ there are three different questions we can ask:\n",
      "\n",
      "1. What is the solution set of the linear system $[{\\bf a_1} \\; {\\bf a_2} \\; ... \\;{\\bf a_n}\\;{\\bf b}]$?\n",
      "2. What is the solution set of the vector equation $x_1{\\bf a_1} + x_2{\\bf a_2} + ... + x_n{\\bf a_n} = {\\bf b}?$\n",
      "3. What is the solution set of the matrix equation $A{\\bf x} = {\\bf b}?$\n",
      "\n",
      "We now know that all these questions have the same answer.  And all of them can be solved by row reducing the augmented matrix $[{\\bf a_1} \\; {\\bf a_2} \\; ... \\;{\\bf a_n}\\;{\\bf b}].$"
     ]
    },
    {
     "cell_type": "markdown",
     "metadata": {
      "internals": {
       "frag_helper": "fragment_end",
       "frag_number": 31,
       "slide_helper": "subslide_end"
      },
      "slide_helper": "slide_end",
      "slideshow": {
       "slide_type": "fragment"
      }
     },
     "source": [
      "In particular, one of the most common questions you will encounter is, given a matrix $A$ and a vector ${\\bf b}$, is there an ${\\bf x}$ that makes $A{\\bf x} = {\\bf b}$ true?\n",
      "\n",
      "You will encounter this form of question quite often in fields like computer graphics, data mining, algorithms, or quantum computing."
     ]
    },
    {
     "cell_type": "heading",
     "level": 2,
     "metadata": {
      "internals": {
       "frag_helper": "fragment_end",
       "frag_number": 31,
       "slide_helper": "subslide_end",
       "slide_type": "subslide"
      },
      "slide_helper": "slide_end",
      "slideshow": {
       "slide_type": "slide"
      }
     },
     "source": [
      "Question Time! Q4.2"
     ]
    },
    {
     "cell_type": "heading",
     "level": 2,
     "metadata": {
      "internals": {
       "frag_helper": "fragment_end",
       "frag_number": 31,
       "slide_type": "subslide"
      },
      "slideshow": {
       "slide_type": "slide"
      }
     },
     "source": [
      "Existence of Solutions"
     ]
    },
    {
     "cell_type": "markdown",
     "metadata": {
      "internals": {
       "frag_helper": "fragment_end",
       "frag_number": 31
      },
      "slideshow": {
       "slide_type": "-"
      }
     },
     "source": [
      "We can see that $A{\\bf x} = {\\bf b}$ has a solution if and only if $\\bf b$ is a linear combination of the columns of $A$ -- that is, if $\\bf b$ lies in Span$\\{{\\bf a_1},{\\bf a_2}, \\dots ,{\\bf a_n}\\}.$   We can adopt the term \"consistent\" here too -- i.e., is $A{\\bf x} = {\\bf b}$ consistent?"
     ]
    },
    {
     "cell_type": "markdown",
     "metadata": {
      "internals": {
       "frag_helper": "fragment_end",
       "frag_number": 35
      },
      "slideshow": {
       "slide_type": "fragment"
      }
     },
     "source": [
      "Now we will ask a more general question, which is specifically about the matrix $A$.  That is:\n",
      "\n",
      "Does $A{\\bf x} = {\\bf b}$ have a solution for _any_ ${\\bf b}$?"
     ]
    },
    {
     "cell_type": "markdown",
     "metadata": {
      "internals": {
       "frag_helper": "fragment_end",
       "frag_number": 36
      },
      "slideshow": {
       "slide_type": "fragment"
      }
     },
     "source": [
      "__Example.__ \n",
      "\n",
      "Let $A = \\left[\\begin{array}{rrr}1&3&4\\\\-4&2&-6\\\\-3&-2&-7\\end{array}\\right]$ and ${\\bf b} = \\left[\\begin{array}{r}b_1\\\\b_2\\\\b_3\\end{array}\\right].$  Is the equation $A{\\bf x} = {\\bf b}$ consistent for all possible $b_1, b_2, b_3?$"
     ]
    },
    {
     "cell_type": "markdown",
     "metadata": {
      "internals": {
       "frag_helper": "fragment_end",
       "frag_number": 37
      },
      "slideshow": {
       "slide_type": "fragment"
      }
     },
     "source": [
      "We know how to test for consistency: form the augmented matrix and row reduce it.\n",
      "\n",
      "$$\\left[\\begin{array}{rrrc}1&3&4&b_1\\\\-4&2&-6&b_2\\\\-3&-2&-7&b_3\\end{array}\\right] \\sim \\left[\\begin{array}{rrrc}1&3&4&b_1\\\\0&14&10&b_2+4b_1\\\\0&7&5&b_3+3b_1\\end{array}\\right] \\sim \\left[\\begin{array}{rrrc}1&3&4&b_1\\\\0&14&10&b_2+4b_1\\\\0&0&0&b_3+3b_1-\\frac{1}{2}(b_2 + 4b_1)\\end{array}\\right].$$"
     ]
    },
    {
     "cell_type": "markdown",
     "metadata": {
      "internals": {
       "frag_helper": "fragment_end",
       "frag_number": 38
      },
      "slideshow": {
       "slide_type": "fragment"
      }
     },
     "source": [
      "The third entry in the column 4, simplified, is $b_1 -\\frac{1}{2}b_2+ b_3.$ This expression can be nonzero. \n",
      "\n",
      "For example, take $b_1 = 1, b_2 = 1, b_3 = 1;$ then the lower right entry is 1.5.  This gives a row of the form $0 = k$ which indicates an inconsistent system.  \n",
      "\n",
      "So the answer is \"no, $A{\\bf x} = {\\bf b}$ is __not__ consistent for all possible $b_1, b_2, b_3.$\""
     ]
    },
    {
     "cell_type": "markdown",
     "metadata": {
      "internals": {
       "frag_helper": "fragment_end",
       "frag_number": 39,
       "slide_helper": "subslide_end"
      },
      "slide_helper": "slide_end",
      "slideshow": {
       "slide_type": "fragment"
      }
     },
     "source": [
      "\n",
      "\n",
      "Here is the echelon form of $A$ (note we are talking only about $A$ here, not the augmented matrix):\n",
      "\n",
      "$$\\left[\\begin{array}{rrr}1&3&4\\\\0&14&10\\\\0&0&0\\end{array}\\right].$$\n",
      "\n",
      "The equation $A{\\bf x} = {\\bf b}$ fails to be consistent for all $\\bf b$ because the echelon form of $A$ has a row of zeros.  \n",
      "\n",
      "If $A$ had a pivot in all three rows, we would not care about the calculations in the augmented column because no matter what is in the augmented column, an echelon form of the augmented matrix could not have a row indicating $0 = k$."
     ]
    },
    {
     "cell_type": "markdown",
     "metadata": {
      "internals": {
       "frag_helper": "fragment_end",
       "frag_number": 39,
       "slide_type": "subslide"
      },
      "slideshow": {
       "slide_type": "slide"
      }
     },
     "source": [
      "_Question:_ OK, so $A{\\bf x} = {\\bf b}$ is not always consistent.  When __is__ $A{\\bf x} = {\\bf b}$ consistent?"
     ]
    },
    {
     "cell_type": "markdown",
     "metadata": {
      "internals": {
       "frag_helper": "fragment_end",
       "frag_number": 41
      },
      "slideshow": {
       "slide_type": "fragment"
      }
     },
     "source": [
      "_Answer:_ When $b_1 -\\frac{1}{2}b_2+ b_3 = 0.$  This makes the last row of the augmented matrix all zeros.\n",
      "\n",
      "This is a single equation in three unknowns, so it defines a plane through the origin in $\\mathbb{R}^3.$"
     ]
    },
    {
     "cell_type": "code",
     "collapsed": false,
     "input": [
      "sl.hide_code_in_slideshow()\n",
      "# %matplotlib qt\n",
      "ax = ut.plotSetup3d(-5,5,-7,7,-10,10)\n",
      "a1 = [1.0,-4.0,-3.0]\n",
      "a2 = [3.0,2.0,-2.0]\n",
      "a3 = [4.0, -6.0, -7]\n",
      "ax.text(a1[0],a1[1],a1[2],r'$\\bf a_1$',size=20)\n",
      "ax.text(a2[0],a2[1],a2[2],r'$\\bf a_2$',size=20)\n",
      "ax.text(a3[0],a3[1],a3[2],r'$\\bf a_3$',size=20)\n",
      "#ax.text(1,-4,-10,r'Span{$\\bf a_1,a_2,a_3$}',size=16)\n",
      "ax.text(0.2,0.2,-4,r'$\\bf 0$',size=20)\n",
      "# plotting the span of v\n",
      "ut.plotSpan3d(ax,a1,a2,'Green')\n",
      "ut.plotPoint3d(ax,a1[0],a1[1],a1[2],'r')\n",
      "ut.plotPoint3d(ax,a2[0],a2[1],a2[2],'r')\n",
      "ut.plotPoint3d(ax,a3[0],a3[1],a3[2],'r')\n",
      "ut.plotPoint3d(ax,0,0,0,'b')\n",
      "# plotting the axes\n",
      "#ut.plotIntersection3d(ax,[0,0,1,0],[0,1,0,0])\n",
      "#ut.plotIntersection3d(ax,[0,0,1,0],[1,0,0,0])\n",
      "#ut.plotIntersection3d(ax,[0,1,0,0],[1,0,0,0])\n",
      "ax.set_title(r'$b_1 - \\frac{1}{2}b_2 + b_3 = 0$',size=20)\n",
      "# ax.mouse_init()\n",
      "print ''"
     ],
     "language": "python",
     "metadata": {
      "internals": {
       "frag_helper": "fragment_end",
       "frag_number": 42
      },
      "slideshow": {
       "slide_type": "fragment"
      }
     },
     "outputs": [
      {
       "html": [
        "<div id=\"c09ca56b15cd458a\"></div>\n",
        "    <script type=\"text/javascript\">\n",
        "        $(function(){\n",
        "            var p = $(\"#c09ca56b15cd458a\");\n",
        "            if (p.length==0) return;\n",
        "\n",
        "            while (!p.hasClass(\"cell\")) {\n",
        "                p=p.parent();\n",
        "\n",
        "                if (p.prop(\"tagName\") ==\"body\") return;\n",
        "            }\n",
        "            var cell = p;\n",
        "            cell.find(\".input\").addClass(\"hide-in-slideshow\")\n",
        "        });\n",
        "    </script>"
       ],
       "metadata": {},
       "output_type": "display_data"
      },
      {
       "output_type": "stream",
       "stream": "stdout",
       "text": [
        "\n"
       ]
      },
      {
       "metadata": {
        "png": {
         "height": 243,
         "width": 349
        }
       },
       "output_type": "display_data",
       "png": "[encoded data removed]",
       "text": [
        "<matplotlib.figure.Figure at 0x10df46290>"
       ]
      }
     ],
     "prompt_number": 4
    },
    {
     "cell_type": "markdown",
     "metadata": {
      "internals": {
       "frag_helper": "fragment_end",
       "frag_number": 43
      },
      "slideshow": {
       "slide_type": "fragment"
      }
     },
     "source": [
      "The set of points that makes $b_1 - \\frac{1}{2}b_2 + b_3 = 0$ is the set of $\\bf b$ values that makes $A{\\bf x} = {\\bf b}$ consistent.  But if $A{\\bf x} = {\\bf b}$ then ${\\bf b}$ lies within Span$\\{\\bf a_1, a_2, a_3\\}$.  "
     ]
    },
    {
     "cell_type": "markdown",
     "metadata": {
      "internals": {
       "frag_helper": "fragment_end",
       "frag_number": 44
      },
      "slideshow": {
       "slide_type": "fragment"
      }
     },
     "source": [
      "So we have determined that Span$\\{\\bf a_1, a_2, a_3\\}$ is the same point set as $b_1 - \\frac{1}{2}b_2 + b_3 = 0$.\n",
      "\n",
      "That means that Span$\\{\\bf a_1, a_2, a_3\\}$ is a _plane_ in this case.  In the figure we have plotted $\\bf a_1, a_2,$ and $\\bf a_3$ and you can see that all three points, as well as the origin, lie in the same plane."
     ]
    },
    {
     "cell_type": "markdown",
     "metadata": {
      "internals": {
       "frag_helper": "fragment_end",
       "frag_number": 45,
       "slide_helper": "subslide_end"
      },
      "slide_helper": "slide_end",
      "slideshow": {
       "slide_type": "fragment"
      }
     },
     "source": [
      "Now, in the most general case, four points will _not_ line in a plane.  In other words, the span of three vectors in $\\mathbb{R}^3$ can be the whole space $\\mathbb{R}^3$."
     ]
    },
    {
     "cell_type": "heading",
     "level": 2,
     "metadata": {
      "internals": {
       "frag_helper": "fragment_end",
       "frag_number": 45,
       "slide_helper": "subslide_end",
       "slide_type": "subslide"
      },
      "slide_helper": "slide_end",
      "slideshow": {
       "slide_type": "slide"
      }
     },
     "source": [
      "Question Time! Q4.3"
     ]
    },
    {
     "cell_type": "markdown",
     "metadata": {
      "internals": {
       "frag_helper": "fragment_end",
       "frag_number": 45,
       "slide_type": "subslide"
      },
      "slideshow": {
       "slide_type": "slide"
      }
     },
     "source": [
      "Now we will tie together all three views of our question.\n",
      "\n",
      "__Theorem:__ Let $A$ be an $m \\times n$ matrix.  Then the following statements are logically equivalent.  That is, for a particular $A,$ either they are all true or they are all false.\n",
      "\n",
      "1. For each $\\bf b$ in $\\mathbb{R}^n,$ the equation $A{\\bf x} = {\\bf b}$ has a solution.\n",
      "1. Each $\\bf b$ in $\\mathbb{R}^n$ is a linear combination of the columns of $A$.\n",
      "1. The columns of $A$ span $\\mathbb{R}^m$.\n",
      "1. $A$ has a pivot position in every row."
     ]
    },
    {
     "cell_type": "markdown",
     "metadata": {
      "internals": {
       "frag_helper": "fragment_end",
       "frag_number": 48,
       "slide_helper": "subslide_end"
      },
      "slide_helper": "slide_end",
      "slideshow": {
       "slide_type": "fragment"
      }
     },
     "source": [
      "This theorem is very powerful and general.  Notice that we started by thinking about a matrix equation, but we ended by making statements about $A$ alone.  This is the first time we are studying the property of a matrix itself; we will study many properties of matrices on their own as we progress."
     ]
    },
    {
     "cell_type": "heading",
     "level": 2,
     "metadata": {
      "internals": {
       "frag_helper": "fragment_end",
       "frag_number": 48,
       "slide_type": "subslide"
      },
      "slideshow": {
       "slide_type": "slide"
      }
     },
     "source": [
      "Inner Product"
     ]
    },
    {
     "cell_type": "markdown",
     "metadata": {
      "internals": {
       "frag_helper": "fragment_end",
       "frag_number": 48
      },
      "slideshow": {
       "slide_type": "-"
      }
     },
     "source": [
      "There is a simpler way to compute the matrix-vector product.  It uses a concept called the __inner product__ or __dot product.__\n",
      "\n",
      "The inner product is defined for two sequences of numbers, and returns a single number.   For example, the expression\n",
      "\n",
      "$$[3\\;5\\;1] \\left[\\begin{array}{c}2\\\\-1\\\\4\\end{array}\\right]$$\n",
      "\n",
      "is the same as\n",
      "\n",
      "$$(3\\cdot 2) + (5\\cdot -1) + (1 \\cdot 4)$$\n",
      "\n",
      "which is the sum of the products of the corresponding entries, and yields the scalar value 5.  This is the inner product of the two sequences."
     ]
    },
    {
     "cell_type": "markdown",
     "metadata": {
      "internals": {
       "frag_helper": "fragment_end",
       "frag_number": 51,
       "slide_helper": "subslide_end"
      },
      "slide_helper": "slide_end",
      "slideshow": {
       "slide_type": "fragment"
      }
     },
     "source": [
      "The general definition of the inner product is:\n",
      "\n",
      "$$[x_1\\;x_2\\;\\dots\\;x_n] \\left[\\begin{array}{c}y_1\\\\y_2\\\\\\vdots\\\\y_n\\end{array}\\right] = \\sum_{i=1}^n x_i y_i$$\n"
     ]
    },
    {
     "cell_type": "markdown",
     "metadata": {
      "internals": {
       "frag_helper": "fragment_end",
       "frag_number": 51,
       "slide_type": "subslide"
      },
      "slideshow": {
       "slide_type": "slide"
      }
     },
     "source": [
      "Let's see how this can be used to think about matrix-vector multiplication.\n",
      "\n",
      "Consider the matrix-vector multiplication\n",
      "\n",
      "$$\\left[\\begin{array}{rrr}2&3&4\\\\-1&5&-3\\\\6&-2&8\\end{array}\\right]\\;\\left[\\begin{array}{r}x_1\\\\x_2\\\\x_3\\end{array}\\right]$$"
     ]
    },
    {
     "cell_type": "markdown",
     "metadata": {
      "internals": {
       "frag_helper": "fragment_end",
       "frag_number": 53
      },
      "slideshow": {
       "slide_type": "fragment"
      }
     },
     "source": [
      "\n",
      "$$= x_1\\left[\\begin{array}{r}2\\\\-1\\\\6\\end{array}\\right] + x_2\\left[\\begin{array}{r}3\\\\5\\\\-2\\end{array}\\right] + x_3\\left[\\begin{array}{r}4\\\\-3\\\\8\\end{array}\\right]$$"
     ]
    },
    {
     "cell_type": "markdown",
     "metadata": {
      "internals": {
       "frag_helper": "fragment_end",
       "frag_number": 54
      },
      "slideshow": {
       "slide_type": "fragment"
      }
     },
     "source": [
      "\n",
      "$$= \\left[\\begin{array}{r}2x_1\\\\-1x_1\\\\6x_1\\end{array}\\right] + \\left[\\begin{array}{r}3x_2\\\\5x_2\\\\-2x_2\\end{array}\\right] + \\left[\\begin{array}{r}4x_3\\\\-3x_3\\\\8x_3\\end{array}\\right]$$"
     ]
    },
    {
     "cell_type": "markdown",
     "metadata": {
      "internals": {
       "frag_helper": "fragment_end",
       "frag_number": 55
      },
      "slideshow": {
       "slide_type": "fragment"
      }
     },
     "source": [
      "\n",
      "$$= \\left[\\begin{array}{r}2x_1+3x_2+4x_3\\\\-1x_1+5x_2-3x_3\\\\6x_1-2x_2+8x_3\\end{array}\\right] $$"
     ]
    },
    {
     "cell_type": "markdown",
     "metadata": {
      "internals": {
       "frag_helper": "fragment_end",
       "frag_number": 56,
       "slide_helper": "subslide_end"
      },
      "slide_helper": "slide_end",
      "slideshow": {
       "slide_type": "fragment"
      }
     },
     "source": [
      "Now, what is the first entry in the result?  It is the _inner product_ of the first row of $A$ and $\\bf x$.  That is, \n",
      "\n",
      "$$[2\\;3\\;4] \\left[\\begin{array}{c}x_1\\\\x_2\\\\x_3\\end{array}\\right] = [2x_1+3x_2+4x_3]$$"
     ]
    },
    {
     "cell_type": "markdown",
     "metadata": {
      "internals": {
       "frag_helper": "fragment_end",
       "frag_number": 56,
       "slide_type": "subslide"
      },
      "slideshow": {
       "slide_type": "slide"
      }
     },
     "source": [
      "This is a fast and simple way to compute the result of a matrix-vector product.  Each element of the result is the _inner product_ of the corresponding row of $A$ and the vector $\\bf x$."
     ]
    },
    {
     "cell_type": "markdown",
     "metadata": {
      "internals": {
       "frag_helper": "fragment_end",
       "frag_number": 58,
       "slide_helper": "subslide_end"
      },
      "slide_helper": "slide_end",
      "slideshow": {
       "slide_type": "fragment"
      }
     },
     "source": [
      "$$ \\left[\\begin{array}{ccc}2&3&4\\\\&&\\\\&&\\end{array}\\right]\\left[\\begin{array}{c}x_1\\\\x_2\\\\x_3\\end{array}\\right] = \\left[\\begin{array}{ccc}2x_1&+3x_2&+4x_3\\\\&&\\\\&&\\end{array}\\right]$$\n",
      "\n",
      "$$ \\left[\\begin{array}{ccc}&&\\\\-1&5&-3\\\\&&\\end{array}\\right]\\left[\\begin{array}{c}x_1\\\\x_2\\\\x_3\\end{array}\\right] = \\left[\\begin{array}{ccc}&&\\\\-x_1&+5x_2&-3x_3\\\\&&\\end{array}\\right]$$"
     ]
    },
    {
     "cell_type": "heading",
     "level": 2,
     "metadata": {
      "internals": {
       "frag_helper": "fragment_end",
       "frag_number": 58,
       "slide_type": "subslide"
      },
      "slideshow": {
       "slide_type": "slide"
      }
     },
     "source": [
      "Example."
     ]
    },
    {
     "cell_type": "markdown",
     "metadata": {
      "internals": {
       "frag_helper": "fragment_end",
       "frag_number": 58,
       "slide_helper": "subslide_end"
      },
      "slide_helper": "slide_end",
      "slideshow": {
       "slide_type": "-"
      }
     },
     "source": [
      "$$\\left[\\begin{array}{rrr}1&2&-1\\\\0&-5&3\\end{array}\\right]\\left[\\begin{array}{r}4\\\\3\\\\7\\end{array}\\right] = \\left[\\begin{array}{rrr}1\\cdot 4&+2\\cdot 3&-1\\cdot 7\\\\0\\cdot 4&-5\\cdot 3&+3\\cdot 7\\end{array}\\right] = \\left[\\begin{array}{r}3\\\\6\\end{array}\\right].$$"
     ]
    },
    {
     "cell_type": "heading",
     "level": 2,
     "metadata": {
      "internals": {
       "frag_helper": "fragment_end",
       "frag_number": 58,
       "slide_type": "subslide"
      },
      "slideshow": {
       "slide_type": "slide"
      }
     },
     "source": [
      "An (I)nteresting matrix"
     ]
    },
    {
     "cell_type": "markdown",
     "metadata": {
      "internals": {
       "frag_helper": "fragment_end",
       "frag_number": 58
      },
      "slideshow": {
       "slide_type": "-"
      }
     },
     "source": [
      "Consider this matrix equation:\n",
      "\n",
      "$$\\left[\\begin{array}{rrr}1&0&0\\\\0&1&0\\\\0&0&1\\end{array}\\right]\\;\\left[\\begin{array}{r}r\\\\s\\\\t\\end{array}\\right] = \\left[\\begin{array}{rrr}1\\cdot r&+0\\cdot s&+0\\cdot t\\\\0\\cdot r&+1\\cdot s&+0\\cdot t\\\\0\\cdot r&+0\\cdot s&+1\\cdot t\\end{array}\\right] = \\left[\\begin{array}{r}r\\\\s\\\\t\\end{array}\\right].$$"
     ]
    },
    {
     "cell_type": "markdown",
     "metadata": {
      "internals": {
       "frag_helper": "fragment_end",
       "frag_number": 63,
       "slide_helper": "subslide_end"
      },
      "slide_helper": "slide_end",
      "slideshow": {
       "slide_type": "fragment"
      }
     },
     "source": [
      "This sort of matrix -- with 1s on the diagonal and 0s everywhere else -- is called an __identity matrix__ and is denoted by $I$.\n",
      "\n",
      "You can see that for any $\\bf x$, $I\\bf x = x.$"
     ]
    },
    {
     "cell_type": "heading",
     "level": 2,
     "metadata": {
      "internals": {
       "frag_helper": "fragment_end",
       "frag_number": 63,
       "slide_type": "subslide"
      },
      "slideshow": {
       "slide_type": "slide"
      }
     },
     "source": [
      "Algebraic Properties of the Matrix-Vector Product"
     ]
    },
    {
     "cell_type": "markdown",
     "metadata": {
      "internals": {
       "frag_helper": "fragment_end",
       "frag_number": 63
      },
      "slideshow": {
       "slide_type": "-"
      }
     },
     "source": [
      "__Theorem.__ If $A$ is an $m \\times n$ matrix, $\\bf u$ and $\\bf v$ are vectors in $\\mathbb{R}^n$, and $c$ is a scalar, then:\n",
      "\n",
      "1. $A({\\bf u} + {\\bf v}) = A{\\bf u} + A{\\bf v};$\n",
      "1. $A(c{\\bf u}) = c(A{\\bf u}).$"
     ]
    },
    {
     "cell_type": "markdown",
     "metadata": {
      "internals": {
       "frag_helper": "fragment_end",
       "frag_number": 66
      },
      "slideshow": {
       "slide_type": "fragment"
      }
     },
     "source": [
      "__Proof:__ Let us take $n=3$, $A = [\\bf a_1\\;a_2\\;a_3],$ and $\\bf u,v \\in \\mathbb{R}^3.$  \n",
      "\n",
      "Then to prove (1.):\n",
      "\n",
      "$$A({\\bf u} + {\\bf v}) = [{\\bf a_1\\;a_2\\;a_3}]\\left[\\begin{array}{r}u_1+v_1\\\\u_2+v_2\\\\u_3+v_3\\end{array}\\right]$$"
     ]
    },
    {
     "cell_type": "markdown",
     "metadata": {
      "internals": {
       "frag_helper": "fragment_end",
       "frag_number": 67
      },
      "slideshow": {
       "slide_type": "fragment"
      }
     },
     "source": [
      "\n",
      "$$=(u_1+v_1){\\bf a_1} + (u_2+v_2){\\bf a_2} + (u_3+v_3){\\bf a_3}$$"
     ]
    },
    {
     "cell_type": "markdown",
     "metadata": {
      "internals": {
       "frag_helper": "fragment_end",
       "frag_number": 68
      },
      "slideshow": {
       "slide_type": "fragment"
      }
     },
     "source": [
      "\n",
      "$$=(u_1{\\bf a_1} + u_2{\\bf a_2} + u_3{\\bf a_3}) + (v_1{\\bf a_1} + v_2{\\bf a_2} + v_3{\\bf a_3})$$"
     ]
    },
    {
     "cell_type": "markdown",
     "metadata": {
      "internals": {
       "frag_helper": "fragment_end",
       "frag_number": 69
      },
      "slideshow": {
       "slide_type": "fragment"
      }
     },
     "source": [
      "\n",
      "$$=A{\\bf u} + A{\\bf v}.$$"
     ]
    },
    {
     "cell_type": "markdown",
     "metadata": {
      "internals": {
       "frag_helper": "fragment_end",
       "frag_number": 70
      },
      "slideshow": {
       "slide_type": "fragment"
      }
     },
     "source": [
      "And to prove (2.):\n",
      "\n",
      "$$A(c{\\bf u}) = [{\\bf a_1\\;a_2\\;a_3}]\\left[\\begin{array}{r}c u_1\\\\c u_2\\\\c u_3\\end{array}\\right]$$"
     ]
    },
    {
     "cell_type": "markdown",
     "metadata": {
      "internals": {
       "frag_helper": "fragment_end",
       "frag_number": 71
      },
      "slideshow": {
       "slide_type": "fragment"
      }
     },
     "source": [
      "$$ = (c u_1){\\bf a_1} + (c u_2){\\bf a_2} + (c u_3){\\bf a_3}$$"
     ]
    },
    {
     "cell_type": "markdown",
     "metadata": {
      "internals": {
       "frag_helper": "fragment_end",
       "frag_number": 72
      },
      "slideshow": {
       "slide_type": "fragment"
      }
     },
     "source": [
      "$$= c (u_1{\\bf a_1}) + c (u_2{\\bf a_2}) + c (u_3{\\bf a_3})$$"
     ]
    },
    {
     "cell_type": "markdown",
     "metadata": {
      "internals": {
       "frag_helper": "fragment_end",
       "frag_number": 73
      },
      "slideshow": {
       "slide_type": "fragment"
      }
     },
     "source": [
      "$$= c (u_1{\\bf a_1} + u_2{\\bf a_2} + u_3{\\bf a_3})$$"
     ]
    },
    {
     "cell_type": "markdown",
     "metadata": {
      "internals": {
       "frag_helper": "fragment_end",
       "frag_number": 74,
       "slide_helper": "subslide_end"
      },
      "slide_helper": "slide_end",
      "slideshow": {
       "slide_type": "fragment"
      }
     },
     "source": [
      "$$= c (A{\\bf u}).$$"
     ]
    }
   ],
   "metadata": {}
  }
 ]
}