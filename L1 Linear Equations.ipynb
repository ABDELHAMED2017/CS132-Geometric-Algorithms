{
 "metadata": {
  "celltoolbar": "Slideshow",
  "name": "",
  "signature": "sha256:75dd1ddd5f6aac229c4005864d01bea4a5b79fa16318db0cb4976b11455cab49"
 },
 "nbformat": 3,
 "nbformat_minor": 0,
 "worksheets": [
  {
   "cells": [
    {
     "cell_type": "heading",
     "level": 1,
     "metadata": {
      "internals": {
       "slide_type": "subslide"
      },
      "slideshow": {
       "slide_type": "slide"
      }
     },
     "source": [
      "Linear Equations"
     ]
    },
    {
     "cell_type": "code",
     "collapsed": false,
     "input": [
      "%matplotlib inline\n",
      "\n",
      "# import libraries\n",
      "import numpy as np\n",
      "import matplotlib as mp\n",
      "import pandas as pd\n",
      "import matplotlib.pyplot as plt\n",
      "import utilities as ut\n",
      "from IPython.display import Image\n",
      "from IPython.display import display_html"
     ],
     "language": "python",
     "metadata": {
      "internals": {},
      "slideshow": {
       "slide_type": "skip"
      }
     },
     "outputs": [],
     "prompt_number": 14
    },
    {
     "cell_type": "code",
     "collapsed": false,
     "input": [
      "%%html\n",
      "<style>\n",
      " .container.slides .celltoolbar, .container.slides .hide-in-slideshow {\n",
      "    display: None ! important;\n",
      "}\n",
      "</style>"
     ],
     "language": "python",
     "metadata": {
      "internals": {},
      "slideshow": {
       "slide_type": "skip"
      }
     },
     "outputs": [
      {
       "html": [
        "<style>\n",
        " .container.slides .celltoolbar, .container.slides .hide-in-slideshow {\n",
        "    display: None ! important;\n",
        "}\n",
        "</style>"
       ],
       "metadata": {},
       "output_type": "display_data",
       "text": [
        "<IPython.core.display.HTML at 0x10df9b6d0>"
       ]
      }
     ],
     "prompt_number": 15
    },
    {
     "cell_type": "code",
     "collapsed": false,
     "input": [
      "def hide_code_in_slideshow():\n",
      "    import os\n",
      "    uid = os.urandom(8).encode(\"hex\")\n",
      "    html = \"\"\"<div id=\"%s\"></div>\n",
      "    <script type=\"text/javascript\">\n",
      "        $(function(){\n",
      "            var p = $(\"#%s\");\n",
      "            if (p.length==0) return;\n",
      "\n",
      "            while (!p.hasClass(\"cell\")) {\n",
      "                p=p.parent();\n",
      "\n",
      "                if (p.prop(\"tagName\") ==\"body\") return;\n",
      "            }\n",
      "            var cell = p;\n",
      "            cell.find(\".input\").addClass(\"hide-in-slideshow\")\n",
      "        });\n",
      "    </script>\"\"\" % (uid, uid)\n",
      "    display_html(html, raw=True)"
     ],
     "language": "python",
     "metadata": {
      "internals": {
       "slide_helper": "subslide_end"
      },
      "slide_helper": "slide_end",
      "slideshow": {
       "slide_type": "skip"
      }
     },
     "outputs": [],
     "prompt_number": 16
    },
    {
     "cell_type": "heading",
     "level": 2,
     "metadata": {
      "internals": {
       "slide_type": "subslide"
      },
      "slideshow": {
       "slide_type": "slide"
      }
     },
     "source": [
      "Basic Definitions"
     ]
    },
    {
     "cell_type": "markdown",
     "metadata": {
      "internals": {
       "slide_helper": "subslide_end"
      },
      "slide_helper": "slide_end",
      "slideshow": {
       "slide_type": "-"
      }
     },
     "source": [
      "* A _linear equation_ in the variables $x_1, \\dots, x_n$ is an equation that can be written in the form $$a_1 x_1 + a_2 x_2 + \\dots + a_n x_n = b$$ where $b$ and the coefficients $a_1, \\dots, a_n$ are real or complex numbers that are usually known in advance.\n",
      "* A _system of linear equations_ (or _linear system_) is a collection of one or more linear equations involving the same variables - say $x_1, \\dots, x_n$.\n"
     ]
    },
    {
     "cell_type": "markdown",
     "metadata": {
      "internals": {
       "slide_helper": "subslide_end",
       "slide_type": "subslide"
      },
      "slide_helper": "slide_end",
      "slideshow": {
       "slide_type": "slide"
      }
     },
     "source": [
      "* A _solution_ of the system is a list of numbers $(s_1, s_2, \\dots, s_n)$ that makes each equation a true statement when the values $s_1, s_2, \\dots, s_n$ are substituted for $x_1, x_2, \\dots, x_n,$ respectively.\n",
      "\n",
      "* The set of all possible solutions is called the _solution set_ of the linear system. \n",
      "\n",
      "* Two linear systems are called _equivalent_ if they have the same solution set. \n"
     ]
    },
    {
     "cell_type": "markdown",
     "metadata": {
      "internals": {
       "slide_helper": "subslide_end",
       "slide_type": "subslide"
      },
      "slide_helper": "slide_end",
      "slideshow": {
       "slide_type": "slide"
      }
     },
     "source": [
      "* A system of linear equations has\n",
      "    1. no solution, or\n",
      "    2. exactly one solution, or\n",
      "    3. infinitely many solutions.\n",
      "* A system of linear equations is said to be _consistent_ if it has either one solution or infinitely many solutions.\n",
      "* A system of linear equations is said to be _inconsistent_ if it has no solution.\n"
     ]
    },
    {
     "cell_type": "heading",
     "level": 2,
     "metadata": {
      "internals": {
       "slide_type": "subslide"
      },
      "slideshow": {
       "slide_type": "slide"
      }
     },
     "source": [
      "Interpreting Things Geometrically"
     ]
    },
    {
     "cell_type": "markdown",
     "metadata": {
      "internals": {
       "slide_helper": "subslide_end"
      },
      "slide_helper": "slide_end",
      "slideshow": {
       "slide_type": "-"
      }
     },
     "source": [
      "Any list of numbers $(s_1, s_2, \\dots, s_n)$ can be thought of as a point in $n$-dimensional space.\n",
      "\n",
      "We call that space $R^n$.\n",
      "\n",
      "So if we are considering linear equations with $n$ unknowns, the solutions are points in $R^n$.\n",
      "\n",
      "Now, any linear equation defines a point set with dimension one less than the space.  For example:\n",
      "* if we are in 2-space (2 unknowns), a linear equation defines a line.  \n",
      "* if we are in 3-space (3 unknowns), a linear equation defines a plane.\n",
      "* in higher dimensions, we refer to all such sets as _hyperplanes._\n",
      "\n",
      "Question: why does a linear equation define a point-set of dimension one less than the space?"
     ]
    },
    {
     "cell_type": "code",
     "collapsed": false,
     "input": [
      "# No need to study this code unless you want to.\n",
      "hide_code_in_slideshow()\n",
      "ax = ut.plotSetup()\n",
      "ut.centerAxes(ax)\n",
      "ut.plotLinEqn(-1, 3, 3)\n",
      "ut.plotLinEqn(1, -2, -1)\n",
      "plt.text(1.5,1, r'$x_1 - 2x_2 = -1$', fontsize=16)\n",
      "plt.text(-5,1, r'$-x_1 + 3x_2 = 3$', fontsize=16)\n",
      "print ''"
     ],
     "language": "python",
     "metadata": {
      "internals": {
       "frag_number": 6,
       "slide_type": "subslide"
      },
      "slideshow": {
       "slide_type": "slide"
      }
     },
     "outputs": [
      {
       "html": [
        "<div id=\"d3cddf3f4a56abf7\"></div>\n",
        "    <script type=\"text/javascript\">\n",
        "        $(function(){\n",
        "            var p = $(\"#d3cddf3f4a56abf7\");\n",
        "            if (p.length==0) return;\n",
        "\n",
        "            while (!p.hasClass(\"cell\")) {\n",
        "                p=p.parent();\n",
        "\n",
        "                if (p.prop(\"tagName\") ==\"body\") return;\n",
        "            }\n",
        "            var cell = p;\n",
        "            cell.find(\".input\").addClass(\"hide-in-slideshow\")\n",
        "        });\n",
        "    </script>"
       ],
       "metadata": {},
       "output_type": "display_data"
      },
      {
       "output_type": "stream",
       "stream": "stdout",
       "text": [
        "\n"
       ]
      },
      {
       "metadata": {},
       "output_type": "display_data",
       "png": "[encoded data removed]",
       "text": [
        "<matplotlib.figure.Figure at 0x10df68a90>"
       ]
      }
     ],
     "prompt_number": 17
    },
    {
     "cell_type": "markdown",
     "metadata": {
      "internals": {
       "slide_helper": "subslide_end"
      },
      "slide_helper": "slide_end",
      "slideshow": {
       "slide_type": "-"
      }
     },
     "source": [
      "This system of two equations has __exactly one__ solution."
     ]
    },
    {
     "cell_type": "code",
     "collapsed": false,
     "input": [
      "# No need to study this code unless you want to.\n",
      "hide_code_in_slideshow()\n",
      "ax = ut.plotSetup()\n",
      "ut.centerAxes(ax)\n",
      "ut.plotLinEqn(1, -2, -1)\n",
      "ut.plotLinEqn(-1, 2, 3)\n",
      "plt.text(1.5,1, r'$x_1 - 2x_2 = -1$', fontsize=16)\n",
      "plt.text(-5,1, r'$-x_1 + 2x_2 = 3$', fontsize=16)\n",
      "print ''"
     ],
     "language": "python",
     "metadata": {
      "internals": {
       "slide_type": "subslide"
      },
      "slideshow": {
       "slide_type": "slide"
      }
     },
     "outputs": [
      {
       "html": [
        "<div id=\"d5e37b288e2f68c8\"></div>\n",
        "    <script type=\"text/javascript\">\n",
        "        $(function(){\n",
        "            var p = $(\"#d5e37b288e2f68c8\");\n",
        "            if (p.length==0) return;\n",
        "\n",
        "            while (!p.hasClass(\"cell\")) {\n",
        "                p=p.parent();\n",
        "\n",
        "                if (p.prop(\"tagName\") ==\"body\") return;\n",
        "            }\n",
        "            var cell = p;\n",
        "            cell.find(\".input\").addClass(\"hide-in-slideshow\")\n",
        "        });\n",
        "    </script>"
       ],
       "metadata": {},
       "output_type": "display_data"
      },
      {
       "output_type": "stream",
       "stream": "stdout",
       "text": [
        "\n"
       ]
      },
      {
       "metadata": {},
       "output_type": "display_data",
       "png": "[encoded data removed]",
       "text": [
        "<matplotlib.figure.Figure at 0x10e88fa10>"
       ]
      }
     ],
     "prompt_number": 18
    },
    {
     "cell_type": "markdown",
     "metadata": {
      "internals": {
       "slide_helper": "subslide_end"
      },
      "slide_helper": "slide_end",
      "slideshow": {
       "slide_type": "-"
      }
     },
     "source": [
      "This system of two equations has __NO__ solutions"
     ]
    },
    {
     "cell_type": "code",
     "collapsed": false,
     "input": [
      "# No need to study this code unless you want to.\n",
      "hide_code_in_slideshow()\n",
      "ax = ut.plotSetup()\n",
      "ut.centerAxes(ax)\n",
      "ut.plotLinEqn(1, -2, -1)\n",
      "ut.plotLinEqn(-1, 2, 1)\n",
      "plt.text(1.5,1, r'$x_1 - 2x_2 = -1$', fontsize=16)\n",
      "plt.text(-5,1, r'$-x_1 + 2x_2 = 1$', fontsize=16)\n",
      "print ''"
     ],
     "language": "python",
     "metadata": {
      "internals": {
       "slide_type": "subslide"
      },
      "slideshow": {
       "slide_type": "slide"
      }
     },
     "outputs": [
      {
       "html": [
        "<div id=\"ad6f8507b4b5a181\"></div>\n",
        "    <script type=\"text/javascript\">\n",
        "        $(function(){\n",
        "            var p = $(\"#ad6f8507b4b5a181\");\n",
        "            if (p.length==0) return;\n",
        "\n",
        "            while (!p.hasClass(\"cell\")) {\n",
        "                p=p.parent();\n",
        "\n",
        "                if (p.prop(\"tagName\") ==\"body\") return;\n",
        "            }\n",
        "            var cell = p;\n",
        "            cell.find(\".input\").addClass(\"hide-in-slideshow\")\n",
        "        });\n",
        "    </script>"
       ],
       "metadata": {},
       "output_type": "display_data"
      },
      {
       "output_type": "stream",
       "stream": "stdout",
       "text": [
        "\n"
       ]
      },
      {
       "metadata": {},
       "output_type": "display_data",
       "png": "[encoded data removed]",
       "text": [
        "<matplotlib.figure.Figure at 0x10e863b90>"
       ]
      }
     ],
     "prompt_number": 26
    },
    {
     "cell_type": "markdown",
     "metadata": {
      "internals": {
       "slide_helper": "subslide_end"
      },
      "slide_helper": "slide_end",
      "slideshow": {
       "slide_type": "-"
      }
     },
     "source": [
      "This system of equations has __infinitely many__ solutions."
     ]
    },
    {
     "cell_type": "heading",
     "level": 2,
     "metadata": {
      "internals": {
       "slide_type": "subslide"
      },
      "slideshow": {
       "slide_type": "slide"
      }
     },
     "source": [
      "Some Examples in $R^3$"
     ]
    },
    {
     "cell_type": "code",
     "collapsed": false,
     "input": [
      "hide_code_in_slideshow()\n",
      "Image(\"Pic_3-planes.png\")"
     ],
     "language": "python",
     "metadata": {
      "internals": {},
      "slideshow": {
       "slide_type": "-"
      }
     },
     "outputs": [
      {
       "html": [
        "<div id=\"749647a118854d05\"></div>\n",
        "    <script type=\"text/javascript\">\n",
        "        $(function(){\n",
        "            var p = $(\"#749647a118854d05\");\n",
        "            if (p.length==0) return;\n",
        "\n",
        "            while (!p.hasClass(\"cell\")) {\n",
        "                p=p.parent();\n",
        "\n",
        "                if (p.prop(\"tagName\") ==\"body\") return;\n",
        "            }\n",
        "            var cell = p;\n",
        "            cell.find(\".input\").addClass(\"hide-in-slideshow\")\n",
        "        });\n",
        "    </script>"
       ],
       "metadata": {},
       "output_type": "display_data"
      },
      {
       "metadata": {},
       "output_type": "pyout",
       "png": "[encoded data removed]",
       "prompt_number": 23,
       "text": [
        "<IPython.core.display.Image at 0x10e0bb650>"
       ]
      }
     ],
     "prompt_number": 23
    },
    {
     "cell_type": "markdown",
     "metadata": {
      "internals": {
       "slide_helper": "subslide_end"
      },
      "slide_helper": "slide_end",
      "slideshow": {
       "slide_type": "-"
      }
     },
     "source": [
      "How many solutions are there in each of these cases?"
     ]
    }
   ],
   "metadata": {}
  }
 ]
}