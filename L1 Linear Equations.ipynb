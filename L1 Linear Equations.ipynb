{
 "metadata": {
  "celltoolbar": "Slideshow",
  "name": "",
  "signature": "sha256:696c05081b1afd13a45158c65ae36382f1a44957120343fb1b9fda08ba27e154"
 },
 "nbformat": 3,
 "nbformat_minor": 0,
 "worksheets": [
  {
   "cells": [
    {
     "cell_type": "heading",
     "level": 1,
     "metadata": {
      "internals": {
       "slide_type": "subslide"
      },
      "slideshow": {
       "slide_type": "slide"
      }
     },
     "source": [
      "Linear Equations"
     ]
    },
    {
     "cell_type": "code",
     "collapsed": false,
     "input": [
      "%matplotlib inline\n",
      "\n",
      "# import libraries\n",
      "import numpy as np\n",
      "import matplotlib as mp\n",
      "import pandas as pd\n",
      "import matplotlib.pyplot as plt\n",
      "import utilities as ut"
     ],
     "language": "python",
     "metadata": {
      "internals": {
       "slide_helper": "subslide_end"
      },
      "slide_helper": "slide_end",
      "slideshow": {
       "slide_type": "skip"
      }
     },
     "outputs": [],
     "prompt_number": 14
    },
    {
     "cell_type": "heading",
     "level": 2,
     "metadata": {
      "internals": {
       "slide_type": "subslide"
      },
      "slideshow": {
       "slide_type": "slide"
      }
     },
     "source": [
      "Basic Definitions"
     ]
    },
    {
     "cell_type": "markdown",
     "metadata": {
      "internals": {
       "slide_helper": "subslide_end"
      },
      "slide_helper": "slide_end",
      "slideshow": {
       "slide_type": "-"
      }
     },
     "source": [
      "* A _linear equation_ in the variables $x_1, \\dots, x_n$ is an equation that can be written in the form $$a_1 x_1 + a_2 x_2 + \\dots + a_n x_n = b$$ where $b$ and the coefficients $a_1, \\dots, a_n$ are real or complex numbers that are usually known in advance.\n",
      "* A _system of linear equations_ (or _linear system_) is a collection of one or more linear equations involving the same variables - say $x_1, \\dots, x_n$.\n"
     ]
    },
    {
     "cell_type": "markdown",
     "metadata": {
      "internals": {
       "slide_helper": "subslide_end",
       "slide_type": "subslide"
      },
      "slide_helper": "slide_end",
      "slideshow": {
       "slide_type": "slide"
      }
     },
     "source": [
      "* A _solution_ of the system is a list of numbers $(s_1, s_2, \\dots, s_n)$ that makes each equation a true statement when the values $s_1, s_2, \\dots, s_n$ are substituted for $x_1, x_2, \\dots, x_n,$ respectively.\n",
      "\n",
      "* The set of all possible solutions is called the _solution set_ of the linear system. \n",
      "\n",
      "* Two linear systems are called _equivalent_ if they have the same solution set. \n"
     ]
    },
    {
     "cell_type": "markdown",
     "metadata": {
      "internals": {
       "slide_helper": "subslide_end",
       "slide_type": "subslide"
      },
      "slide_helper": "slide_end",
      "slideshow": {
       "slide_type": "slide"
      }
     },
     "source": [
      "* A system of linear equations has\n",
      "    1. no solution, or\n",
      "    2. exactly one solution, or\n",
      "    3. infinitely many solutions.\n",
      "* A system of linear equations is said to be _consistent_ if it has either one solution or infinitely many solutions.\n",
      "* A system of linear equations is said to be _inconsistent_ if it has no solution.\n"
     ]
    },
    {
     "cell_type": "code",
     "collapsed": false,
     "input": [
      "from IPython.display import display_html\n",
      "def hide_code_in_slideshow():\n",
      "    import os\n",
      "    uid = os.urandom(8).encode(\"hex\")\n",
      "    html = \"\"\"<div id=\"%s\"></div>\n",
      "    <script type=\"text/javascript\">\n",
      "        $(function(){\n",
      "            var p = $(\"#%s\");\n",
      "            if (p.length==0) return;\n",
      "\n",
      "            while (!p.hasClass(\"cell\")) {\n",
      "                p=p.parent();\n",
      "\n",
      "                if (p.prop(\"tagName\") ==\"body\") return;\n",
      "            }\n",
      "            var cell = p;\n",
      "            cell.find(\".input\").addClass(\"hide-in-slideshow\")\n",
      "        });\n",
      "    </script>\"\"\" % (uid, uid)\n",
      "    display_html(html, raw=True)\n",
      "\n",
      "hide_code_in_slideshow()\n",
      "\n",
      "print \"hi\"\n",
      "\n",
      "# No need to study this code unless you want to.\n",
      "# ax = ut.plotSetup()\n",
      "#ut.centerAxes(ax)\n",
      "#ut.plotLinEqn(-1, 3, 3)\n",
      "#ut.plotLinEqn(1, -2, -1)\n",
      "#plt.text(1.5,1, r'$x_1 - 2x_2 = -1$', fontsize=16)\n",
      "#plt.text(-5,1, r'$-x_1 + 3x_2 = 3$', fontsize=16)"
     ],
     "language": "python",
     "metadata": {
      "internals": {
       "frag_number": 6,
       "slide_type": "subslide"
      },
      "slideshow": {
       "slide_type": "slide"
      }
     },
     "outputs": [
      {
       "html": [
        "<div id=\"2cb2267f5d80a726\"></div>\n",
        "    <script type=\"text/javascript\">\n",
        "        $(function(){\n",
        "            var p = $(\"#2cb2267f5d80a726\");\n",
        "            if (p.length==0) return;\n",
        "\n",
        "            while (!p.hasClass(\"cell\")) {\n",
        "                p=p.parent();\n",
        "\n",
        "                if (p.prop(\"tagName\") ==\"body\") return;\n",
        "            }\n",
        "            var cell = p;\n",
        "            cell.find(\".input\").addClass(\"hide-in-slideshow\")\n",
        "        });\n",
        "    </script>"
       ],
       "metadata": {},
       "output_type": "display_data"
      },
      {
       "output_type": "stream",
       "stream": "stdout",
       "text": [
        "hi\n"
       ]
      }
     ],
     "prompt_number": 15
    },
    {
     "cell_type": "markdown",
     "metadata": {
      "internals": {
       "slide_helper": "subslide_end"
      },
      "slide_helper": "slide_end",
      "slideshow": {
       "slide_type": "-"
      }
     },
     "source": [
      "This system of two equations has __exactly one__ solution."
     ]
    },
    {
     "cell_type": "code",
     "collapsed": false,
     "input": [
      "# No need to study this code unless you want to.\n",
      "hide_code_in_slideshow()\n",
      "ax = ut.plotSetup()\n",
      "ut.centerAxes(ax)\n",
      "ut.plotLinEqn(1, -2, -1)\n",
      "ut.plotLinEqn(-1, 2, 3)\n",
      "plt.text(1.5,1, r'$x_1 - 2x_2 = -1$', fontsize=16)\n",
      "plt.text(-5,1, r'$-x_1 + 2x_2 = 3$', fontsize=16)"
     ],
     "language": "python",
     "metadata": {
      "internals": {
       "slide_type": "subslide"
      },
      "slideshow": {
       "slide_type": "slide"
      }
     },
     "outputs": [
      {
       "html": [
        "<div id=\"9a54db23bee1736f\"></div>\n",
        "    <script type=\"text/javascript\">\n",
        "        $(function(){\n",
        "            var p = $(\"#9a54db23bee1736f\");\n",
        "            if (p.length==0) return;\n",
        "\n",
        "            while (!p.hasClass(\"cell\")) {\n",
        "                p=p.parent();\n",
        "\n",
        "                if (p.prop(\"tagName\") ==\"body\") return;\n",
        "            }\n",
        "            var cell = p;\n",
        "            cell.find(\".input\").addClass(\"hide-in-slideshow\")\n",
        "        });\n",
        "    </script>"
       ],
       "metadata": {},
       "output_type": "display_data"
      },
      {
       "metadata": {},
       "output_type": "pyout",
       "prompt_number": 16,
       "text": [
        "<matplotlib.text.Text at 0x10ef74290>"
       ]
      },
      {
       "metadata": {},
       "output_type": "display_data",
       "png": "[encoded data removed]",
       "text": [
        "<matplotlib.figure.Figure at 0x10ef54d50>"
       ]
      }
     ],
     "prompt_number": 16
    },
    {
     "cell_type": "markdown",
     "metadata": {
      "internals": {
       "slide_helper": "subslide_end"
      },
      "slide_helper": "slide_end",
      "slideshow": {
       "slide_type": "-"
      }
     },
     "source": [
      "This system of two equations has __NO__ solutions"
     ]
    }
   ],
   "metadata": {}
  }
 ]
}