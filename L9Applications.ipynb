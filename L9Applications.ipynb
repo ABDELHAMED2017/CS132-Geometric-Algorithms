{
 "metadata": {
  "celltoolbar": "Slideshow",
  "name": "",
  "signature": "sha256:d0e85afa149d202bc62e97fe77c717f203a69bad6fce81e66cc14ab1991378ae"
 },
 "nbformat": 3,
 "nbformat_minor": 0,
 "worksheets": [
  {
   "cells": [
    {
     "cell_type": "heading",
     "level": 1,
     "metadata": {
      "internals": {
       "slide_type": "subslide"
      },
      "slideshow": {
       "slide_type": "slide"
      }
     },
     "source": [
      "Title"
     ]
    },
    {
     "cell_type": "code",
     "collapsed": false,
     "input": [
      "%matplotlib inline\n",
      "%config InlineBackend.figure_format='retina'\n",
      "# import libraries\n",
      "import numpy as np\n",
      "import matplotlib as mp\n",
      "import pandas as pd\n",
      "import matplotlib.pyplot as plt\n",
      "import laUtilities as ut\n",
      "import slideUtilities as sl\n",
      "import demoUtilities as dm\n",
      "from IPython.display import Image\n",
      "from IPython.display import display_html\n",
      "from IPython.display import display\n",
      "from IPython.display import Math\n",
      "from IPython.display import Latex\n",
      "reload(dm)\n",
      "reload(ut)\n",
      "print ''"
     ],
     "language": "python",
     "metadata": {
      "internals": {},
      "slideshow": {
       "slide_type": "skip"
      }
     },
     "outputs": [
      {
       "output_type": "stream",
       "stream": "stdout",
       "text": [
        "\n"
       ]
      }
     ],
     "prompt_number": 25
    },
    {
     "cell_type": "code",
     "collapsed": false,
     "input": [
      "%%html\n",
      "<style>\n",
      " .container.slides .celltoolbar, .container.slides .hide-in-slideshow {\n",
      "    display: None ! important;\n",
      "}\n",
      "</style>"
     ],
     "language": "python",
     "metadata": {
      "internals": {},
      "slideshow": {
       "slide_type": "skip"
      }
     },
     "outputs": [
      {
       "html": [
        "<style>\n",
        " .container.slides .celltoolbar, .container.slides .hide-in-slideshow {\n",
        "    display: None ! important;\n",
        "}\n",
        "</style>"
       ],
       "metadata": {},
       "output_type": "display_data",
       "text": [
        "<IPython.core.display.HTML at 0x10485a490>"
       ]
      }
     ],
     "prompt_number": 26
    },
    {
     "cell_type": "markdown",
     "metadata": {},
     "source": [
      "Follow 4.9.\n",
      "Start with city-suburbs example from homework 5 - Section 1.10 of text.  We've seen that it's a linear _difference equation._ "
     ]
    },
    {
     "cell_type": "markdown",
     "metadata": {},
     "source": [
      "Pick up with 4.9.   Introduce terminology - Markov chains, etc."
     ]
    },
    {
     "cell_type": "markdown",
     "metadata": {},
     "source": [
      "Do example 1. - Movement of people from/to suburbs/city.  Conversion from population counts to proportions."
     ]
    },
    {
     "cell_type": "markdown",
     "metadata": {},
     "source": [
      "Hubway bicycles for initial example."
     ]
    },
    {
     "cell_type": "markdown",
     "metadata": {},
     "source": [
      "Then disk/CPU/network example for extended (?)"
     ]
    },
    {
     "cell_type": "markdown",
     "metadata": {},
     "source": [
      "Example: The Unreliable Link Suppose we are observing the state of a link in a network; once every hour we check whether the link is up or down. The chance the link is up the next time we check on it depends on its state now, but not on any times before now; i.e., future states are influenced by the present, but not the past. Suppose then that if the link is up now, then it will be up next hour with probability 0.7; and if it is down now, it will be down next hour with probability 0.4.\n",
      "We will let state 0 represent up and state 1 represent down. Then the associated Markov Chain looks like:\n",
      "P=\udbff\udc000.7 0.3\udbff\udc01 0.4 0.6\n",
      "Now, calculate the probability that the link will be up in four hours, given that it is up now.\n",
      "By definition,\n",
      "So,\n",
      "And,\n",
      "P(1) =P=\udbff\udc00 0.7 0.3 \udbff\udc01 0.4 0.6\n",
      "P(2) = P(1) \u00b7P(1) = \udbff\udc00 0.61 0.39 \udbff\udc01 0.52 0.48\n",
      "P(4) = P(2) \u00b7 P(2) = \udbff\udc00 0.5749 0.4257 \udbff\udc01 0.5668 0.4332\n",
      "(4)\n",
      "So the desired probability P equals 0.5749."
     ]
    },
    {
     "cell_type": "markdown",
     "metadata": {},
     "source": [
      "For three-state system, consider disk/CPU/network."
     ]
    },
    {
     "cell_type": "markdown",
     "metadata": {},
     "source": [
      "Key idea is predicting distant future, steady-state vectors\n"
     ]
    },
    {
     "cell_type": "code",
     "collapsed": false,
     "input": [],
     "language": "python",
     "metadata": {},
     "outputs": []
    }
   ],
   "metadata": {}
  }
 ]
}