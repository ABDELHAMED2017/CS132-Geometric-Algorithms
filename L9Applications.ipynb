{
 "metadata": {
  "celltoolbar": "Slideshow",
  "name": "",
  "signature": "sha256:ddb3c2451c0ac6fb8906931e51cee221c2cdea1a5f7acf6c97aeb3ca61f567e9"
 },
 "nbformat": 3,
 "nbformat_minor": 0,
 "worksheets": [
  {
   "cells": [
    {
     "cell_type": "heading",
     "level": 1,
     "metadata": {
      "internals": {
       "slide_type": "subslide"
      },
      "slideshow": {
       "slide_type": "slide"
      }
     },
     "source": [
      "Applications: Markov Chains"
     ]
    },
    {
     "cell_type": "code",
     "collapsed": false,
     "input": [
      "%matplotlib inline\n",
      "%config InlineBackend.figure_format='retina'\n",
      "# import libraries\n",
      "import numpy as np\n",
      "import matplotlib as mp\n",
      "import pandas as pd\n",
      "import matplotlib.pyplot as plt\n",
      "import laUtilities as ut\n",
      "import slideUtilities as sl\n",
      "import demoUtilities as dm\n",
      "from IPython.display import Image\n",
      "from IPython.display import display_html\n",
      "from IPython.display import display\n",
      "from IPython.display import Math\n",
      "from IPython.display import Latex\n",
      "reload(dm)\n",
      "reload(ut)\n",
      "print ''"
     ],
     "language": "python",
     "metadata": {
      "internals": {},
      "slideshow": {
       "slide_type": "skip"
      }
     },
     "outputs": [
      {
       "output_type": "stream",
       "stream": "stdout",
       "text": [
        "\n"
       ]
      }
     ],
     "prompt_number": 25
    },
    {
     "cell_type": "code",
     "collapsed": false,
     "input": [
      "%%html\n",
      "<style>\n",
      " .container.slides .celltoolbar, .container.slides .hide-in-slideshow {\n",
      "    display: None ! important;\n",
      "}\n",
      "</style>"
     ],
     "language": "python",
     "metadata": {
      "internals": {},
      "slideshow": {
       "slide_type": "skip"
      }
     },
     "outputs": [
      {
       "html": [
        "<style>\n",
        " .container.slides .celltoolbar, .container.slides .hide-in-slideshow {\n",
        "    display: None ! important;\n",
        "}\n",
        "</style>"
       ],
       "metadata": {},
       "output_type": "display_data",
       "text": [
        "<IPython.core.display.HTML at 0x103913d90>"
       ]
      }
     ],
     "prompt_number": 1
    },
    {
     "cell_type": "markdown",
     "metadata": {},
     "source": [
      "Start with some example from pebook?   Problem involving a random walk.  Turning a graph into a random walk."
     ]
    },
    {
     "cell_type": "markdown",
     "metadata": {},
     "source": [
      "Many applications in computing fall into the following pattern.  We are interested in how a system behaves over time.   Think of a Web server that is processing requests for Web pages, or network that is moving packets from place to place.\n",
      "\n",
      "There is some vector that describes the state of the system, and there is a rule that tells us how to compute the next state of the system based on the current state of the system.\n",
      "\n",
      "So we would say that the state of the system at time $k$ is a vector ${\\bf x_k} \\in \\mathbb{R}^n,$ and\n",
      "$${\\bf x_{k+1}} = T({\\bf x_k}),\\;\\;\\;\\mbox{for time}\\;k=0,1,2...$$\n",
      "where $T: \\mathbb{R}^n \\rightarrow \\mathbb{R}^n.$\n",
      "\n",
      "This situation is so common that it goes by many names:\n",
      "\n",
      "* In physics, this is called a _dynamical system_.  (Here, ${\\bf x_k}$ might represent the position and velocity of a set of particles.)\n",
      "* When studying algorithms, this is called a _recurrence relation._  (Here, ${\\bf x_k}$ might represent the number of steps needed to solve a problem of size $k$.)\n",
      "* Most commonly, this is called a _difference equation._ The reason for this terminology is that it is a discrete analog of a differential equation in $k$.\n",
      "\n",
      "The vector ${\\bf x_k}$ is called the _state vector._\n",
      "\n",
      "Of course, we are going to be particularly interested in the case where $T$ is a linear transformation.   Then we know that we can write the difference equation as:\n",
      "$$ {\\bf x_{k+1}} = A{\\bf x_k},$$\n",
      "where $A \\in \\mathbb{R}^{n\\times n}.$   This is a _linear difference equation._"
     ]
    },
    {
     "cell_type": "markdown",
     "metadata": {},
     "source": [
      "__Example.__ In the homework, we studied the following system:  We are interested in the population of two regions, say the city and the suburbs.  Fix an initial year (say 2000) and let \n",
      "$$ {\\bf x_0} = \\left[\\begin{array}{cc}\\mbox{population of the city in 2000}\\\\\\mbox{population of the suburbs in 2000}\\end{array}\\right].$$\n",
      "Then\n",
      "$$ {\\bf x_1} = \\left[\\begin{array}{cc}\\mbox{population of the city in 2001}\\\\\\mbox{population of the suburbs in 2001}\\end{array}\\right], {\\bf x_2} = \\left[\\begin{array}{cc}\\mbox{population of the city in 2002}\\\\\\mbox{population of the suburbs in 2002}\\end{array}\\right],\\dots$$"
     ]
    },
    {
     "cell_type": "markdown",
     "metadata": {},
     "source": [
      "We only concern ourselves with movements of people between the two regions (no immigration, emigration, birth, death, etc.)."
     ]
    },
    {
     "cell_type": "markdown",
     "metadata": {},
     "source": [
      "We assume that measurements have shown the following pattern: in any given year, 5% of the people in the city move to the suburbs, and 3% of the people in the suburbs move to the city.\n",
      "\n",
      "Then we can capture this update rule as a matrix:\n",
      "$$A = \\left[\\begin{array}{rr}.95&.03\\\\.05&.97\\end{array}\\right].$$\n",
      "\n",
      "We can see that this is correct by verifying that:\n",
      "$$\\left[\\begin{array}{cc}\\mbox{population of the city in 2001}\\\\\\mbox{population of the suburbs in 2001}\\end{array}\\right] =\\left[\\begin{array}{rr}.95&.03\\\\.05&.97\\end{array}\\right] \\left[\\begin{array}{cc}\\mbox{population of the city in 2000}\\\\\\mbox{population of the suburbs in 2000}\\end{array}\\right].$$"
     ]
    },
    {
     "cell_type": "heading",
     "level": 2,
     "metadata": {},
     "source": [
      "Markov Chains"
     ]
    },
    {
     "cell_type": "markdown",
     "metadata": {},
     "source": [
      "Let's look at $A$ again:\n",
      "$$A = \\left[\\begin{array}{rr}.95&.03\\\\.05&.97\\end{array}\\right].$$\n",
      "\n",
      "We note that $A$ has a special property: each of its columns adds up to 1.   Also, it would not make sense to have negative entries in $A$.\n",
      "\n",
      "This reflects the fact that the total number of people in the system is not changing over time.   This leads to two definitions:\n",
      "\n",
      "__Definition.__ A _stochastic_ matrix is a square matrix of nonnegative values whose columns each sum to 1.\n",
      "\n",
      "__Definition.__ A _Markov chain_ is a dynamical system whose state evolves according to a stochastic matrix.  That is, it is a state vector ${\\bf x_0}$ and a stochastic matrix $A \\in \\mathbb{R}^{n\\times n}$ such that \n",
      "$${\\bf x_{k+1}} = A{\\bf x_k}\\;\\;\\;\\mbox{for}\\;k = 0,1,2,...$$"
     ]
    },
    {
     "cell_type": "markdown",
     "metadata": {},
     "source": [
      "Hubway bicycles for initial example."
     ]
    },
    {
     "cell_type": "markdown",
     "metadata": {},
     "source": [
      "Then disk/CPU/network example for extended (?)"
     ]
    },
    {
     "cell_type": "markdown",
     "metadata": {},
     "source": [
      "Example: The Unreliable Link Suppose we are observing the state of a link in a network; once every hour we check whether the link is up or down. The chance the link is up the next time we check on it depends on its state now, but not on any times before now; i.e., future states are influenced by the present, but not the past. Suppose then that if the link is up now, then it will be up next hour with probability 0.7; and if it is down now, it will be down next hour with probability 0.4.\n",
      "We will let state 0 represent up and state 1 represent down. Then the associated Markov Chain looks like:\n",
      "P=\udbff\udc000.7 0.3\udbff\udc01 0.4 0.6\n",
      "Now, calculate the probability that the link will be up in four hours, given that it is up now.\n",
      "By definition,\n",
      "So,\n",
      "And,\n",
      "P(1) =P=\udbff\udc00 0.7 0.3 \udbff\udc01 0.4 0.6\n",
      "P(2) = P(1) \u00b7P(1) = \udbff\udc00 0.61 0.39 \udbff\udc01 0.52 0.48\n",
      "P(4) = P(2) \u00b7 P(2) = \udbff\udc00 0.5749 0.4257 \udbff\udc01 0.5668 0.4332\n",
      "(4)\n",
      "So the desired probability P equals 0.5749."
     ]
    },
    {
     "cell_type": "markdown",
     "metadata": {},
     "source": [
      "For three-state system, consider disk/CPU/network."
     ]
    },
    {
     "cell_type": "markdown",
     "metadata": {},
     "source": [
      "Key idea is predicting distant future, steady-state vectors\n"
     ]
    },
    {
     "cell_type": "code",
     "collapsed": false,
     "input": [],
     "language": "python",
     "metadata": {},
     "outputs": []
    }
   ],
   "metadata": {}
  }
 ]
}