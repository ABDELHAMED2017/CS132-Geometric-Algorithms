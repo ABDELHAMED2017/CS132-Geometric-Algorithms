{
 "cells": [
  {
   "cell_type": "code",
   "execution_count": 50,
   "metadata": {
    "collapsed": true,
    "slideshow": {
     "slide_type": "skip"
    }
   },
   "outputs": [],
   "source": [
    "import numpy as np\n",
    "import slideUtilities as sl\n",
    "from IPython.display import HTML"
   ]
  },
  {
   "cell_type": "code",
   "execution_count": 51,
   "metadata": {
    "collapsed": false,
    "slideshow": {
     "slide_type": "skip"
    }
   },
   "outputs": [
    {
     "data": {
      "text/html": [
       "<style>\n",
       " .container.slides .celltoolbar, .container.slides .hide-in-slideshow {\n",
       "    display: None ! important;\n",
       "}\n",
       "</style>"
      ],
      "text/plain": [
       "<IPython.core.display.HTML object>"
      ]
     },
     "metadata": {},
     "output_type": "display_data"
    }
   ],
   "source": [
    "%%html\n",
    "<style>\n",
    " .container.slides .celltoolbar, .container.slides .hide-in-slideshow {\n",
    "    display: None ! important;\n",
    "}\n",
    "</style>"
   ]
  },
  {
   "cell_type": "markdown",
   "metadata": {
    "slideshow": {
     "slide_type": "slide"
    }
   },
   "source": [
    "## Numbers"
   ]
  },
  {
   "cell_type": "markdown",
   "metadata": {
    "slideshow": {
     "slide_type": "fragment"
    }
   },
   "source": [
    "A number is a mathematical concept -- an abstract idea.  \n",
    "\n",
    "In a computer we assign bit patterns to correspond to certain numbers.   We say the bit pattern is the number's _representation._"
   ]
  },
  {
   "cell_type": "markdown",
   "metadata": {
    "slideshow": {
     "slide_type": "fragment"
    }
   },
   "source": [
    "For example the number '3.14' might have the representation '01000000010010001111010111000011'.\n",
    "\n",
    "For reasons of efficiency, we use a fixed number of bits for these representations.   In most computers nowadays we use __64 bits__ to represent a number.   "
   ]
  },
  {
   "cell_type": "markdown",
   "metadata": {
    "slideshow": {
     "slide_type": "slide"
    }
   },
   "source": [
    "## Integers"
   ]
  },
  {
   "cell_type": "markdown",
   "metadata": {
    "slideshow": {
     "slide_type": "fragment"
    }
   },
   "source": [
    "For the most part, using integers is not complicated.    \n",
    "\n",
    "Integer representation is essentially the same as binary numerals, eg, '7' would be '111' (with 61 zeros in front)."
   ]
  },
  {
   "cell_type": "markdown",
   "metadata": {
    "slideshow": {
     "slide_type": "fragment"
    }
   },
   "source": [
    "For reasonably sized integers, computation is exact as long as it only involves addition, subtraction, and multiplication.   \n",
    "\n",
    "In other words, there are no errors introduced when adding, subtracting or multiplying integers.    "
   ]
  },
  {
   "cell_type": "markdown",
   "metadata": {
    "slideshow": {
     "slide_type": "fragment"
    }
   },
   "source": [
    "However, it is a different story when we come to division, because the integers are not closed under division.\n",
    "\n",
    "2/3 is not an integer.   It is, however, a real number."
   ]
  },
  {
   "cell_type": "markdown",
   "metadata": {
    "slideshow": {
     "slide_type": "slide"
    }
   },
   "source": [
    "## Real Numbers and Floating-Point Numbers"
   ]
  },
  {
   "cell_type": "markdown",
   "metadata": {
    "slideshow": {
     "slide_type": "fragment"
    }
   },
   "source": [
    "Representing a real number in a computer is a __much__ more complicated matter.   For many decades, there was no accepted \"best\" way to do this.   Eventually a widely accepted standard emerged, called IEEE-754.  This is what almost all computers now use."
   ]
  },
  {
   "cell_type": "markdown",
   "metadata": {
    "slideshow": {
     "slide_type": "fragment"
    }
   },
   "source": [
    "The style of representation used is called __floating point.__"
   ]
  },
  {
   "cell_type": "markdown",
   "metadata": {
    "slideshow": {
     "slide_type": "fragment"
    }
   },
   "source": [
    "Conceptually, it is similar to \"scientific notation.\"\n",
    "\n",
    "$$12345 = \\underbrace{1.2345}_{significand}\\times {\\underbrace{10}_{base}}^{\\overbrace{4}^{exponent}}$$"
   ]
  },
  {
   "cell_type": "markdown",
   "metadata": {
    "slideshow": {
     "slide_type": "fragment"
    }
   },
   "source": [
    "The sign, significand, and exponent are all contained within the 64 bits.\n",
    "\n",
    "Because of the fixed number of bits used, __most real numbers cannot be represented exactly in a computer.__\n",
    "\n",
    "Another way of saying this is that, usually, a floating point number is an approximation of some particular real number."
   ]
  },
  {
   "cell_type": "markdown",
   "metadata": {
    "slideshow": {
     "slide_type": "fragment"
    }
   },
   "source": [
    "Generally when we try to store a real number in a computer, __what we wind up storing is the closest floating point number that the computer can represent.__"
   ]
  },
  {
   "cell_type": "code",
   "execution_count": 52,
   "metadata": {
    "collapsed": false,
    "slideshow": {
     "slide_type": "fragment"
    }
   },
   "outputs": [
    {
     "data": {
      "text/html": [
       "<div id=\"c2b0ec0f101d2eed\"></div>\n",
       "    <script type=\"text/javascript\">\n",
       "        $(function(){\n",
       "            var p = $(\"#c2b0ec0f101d2eed\");\n",
       "            if (p.length==0) return;\n",
       "\n",
       "            while (!p.hasClass(\"cell\")) {\n",
       "                p=p.parent();\n",
       "\n",
       "                if (p.prop(\"tagName\") ==\"body\") return;\n",
       "            }\n",
       "            var cell = p;\n",
       "            cell.find(\".input\").addClass(\"hide-in-slideshow\")\n",
       "        });\n",
       "    </script>"
      ]
     },
     "metadata": {},
     "output_type": "display_data"
    },
    {
     "data": {
      "text/html": [
       "<a title=\"By Codekaizen (Own work) [GFDL (http://www.gnu.org/copyleft/fdl.html) or CC BY-SA 4.0-3.0-2.5-2.0-1.0 (http://creativecommons.org/licenses/by-sa/4.0-3.0-2.5-2.0-1.0)], via Wikimedia Commons\" href=\"https://commons.wikimedia.org/wiki/File%3AIEEE_754_Double_Floating_Point_Format.svg\"><img width=\"512\" alt=\"IEEE 754 Double Floating Point Format\" src=\"https://upload.wikimedia.org/wikipedia/commons/thumb/a/a9/IEEE_754_Double_Floating_Point_Format.svg/512px-IEEE_754_Double_Floating_Point_Format.svg.png\"/></a>"
      ],
      "text/plain": [
       "<IPython.core.display.HTML object>"
      ]
     },
     "execution_count": 52,
     "metadata": {},
     "output_type": "execute_result"
    }
   ],
   "source": [
    "sl.hide_code_in_slideshow()\n",
    "HTML(u'<a title=\"By Codekaizen (Own work) [GFDL (http://www.gnu.org/copyleft/fdl.html) or CC BY-SA 4.0-3.0-2.5-2.0-1.0 (http://creativecommons.org/licenses/by-sa/4.0-3.0-2.5-2.0-1.0)], via Wikimedia Commons\" href=\"https://commons.wikimedia.org/wiki/File%3AIEEE_754_Double_Floating_Point_Format.svg\"><img width=\"512\" alt=\"IEEE 754 Double Floating Point Format\" src=\"https://upload.wikimedia.org/wikipedia/commons/thumb/a/a9/IEEE_754_Double_Floating_Point_Format.svg/512px-IEEE_754_Double_Floating_Point_Format.svg.png\"/></a>')"
   ]
  },
  {
   "cell_type": "markdown",
   "metadata": {},
   "source": [
    "<font size='1'> By Codekaizen (Own work) [<a href=\"http://www.gnu.org/copyleft/fdl.html\">GFDL</a> or <a href=\"http://creativecommons.org/licenses/by-sa/4.0-3.0-2.5-2.0-1.0\">CC BY-SA 4.0-3.0-2.5-2.0-1.0</a>], <a href=\"https://commons.wikimedia.org/wiki/File%3AIEEE_754_Double_Floating_Point_Format.svg\">via Wikimedia Commons</a></font>"
   ]
  },
  {
   "cell_type": "markdown",
   "metadata": {
    "slideshow": {
     "slide_type": "slide"
    }
   },
   "source": [
    "##Rules for Working with Floating Point"
   ]
  },
  {
   "cell_type": "markdown",
   "metadata": {},
   "source": [
    "The way to think about working with floating point (in fact, how the hardware actually does it) is:\n",
    "\n",
    "1. Compute the result exactly from the floating point inputs\n",
    "2. Return the __nearest__ representable floating point number"
   ]
  },
  {
   "cell_type": "markdown",
   "metadata": {},
   "source": [
    "Problems arise when we work with floating point numbers and confuse them with real numbers, thereby forgetting that most of the time we are not storing the real number exactly, but only a floating point number that is close to it."
   ]
  },
  {
   "cell_type": "markdown",
   "metadata": {},
   "source": [
    "Let's look at an example:"
   ]
  },
  {
   "cell_type": "code",
   "execution_count": 53,
   "metadata": {
    "collapsed": false
   },
   "outputs": [],
   "source": [
    "# ((1/8)*8)-1"
   ]
  },
  {
   "cell_type": "markdown",
   "metadata": {},
   "source": [
    "It turns out that 1/8, 8, and 1 can all be stored exactly in IEEE-754 floating point format."
   ]
  },
  {
   "cell_type": "code",
   "execution_count": 54,
   "metadata": {
    "collapsed": false
   },
   "outputs": [
    {
     "data": {
      "text/plain": [
       "-1.3877787807814457e-17"
      ]
     },
     "execution_count": 54,
     "metadata": {},
     "output_type": "execute_result"
    }
   ],
   "source": [
    "((1/70)*7)-0.1"
   ]
  },
  {
   "cell_type": "markdown",
   "metadata": {},
   "source": [
    "In this case, 1/70 and 0.1 __cannot__ be stored exactly.    Hence the computation above does not yield exactly zero, as we would have expected."
   ]
  },
  {
   "cell_type": "code",
   "execution_count": 55,
   "metadata": {
    "collapsed": false
   },
   "outputs": [
    {
     "data": {
      "text/plain": [
       "finfo(resolution=1e-15, min=-1.7976931348623157e+308, max=1.7976931348623157e+308, dtype=float64)"
      ]
     },
     "execution_count": 55,
     "metadata": {},
     "output_type": "execute_result"
    }
   ],
   "source": [
    "np.finfo('float')"
   ]
  },
  {
   "cell_type": "code",
   "execution_count": 56,
   "metadata": {
    "collapsed": false
   },
   "outputs": [
    {
     "data": {
      "text/plain": [
       "15"
      ]
     },
     "execution_count": 56,
     "metadata": {},
     "output_type": "execute_result"
    }
   ],
   "source": [
    "np.finfo('float').precision"
   ]
  },
  {
   "cell_type": "markdown",
   "metadata": {
    "collapsed": false
   },
   "source": [
    "2**53 gives about 17 digits of accuracy"
   ]
  },
  {
   "cell_type": "markdown",
   "metadata": {},
   "source": [
    "Try to show where the floats are located on the number line (?)"
   ]
  },
  {
   "cell_type": "markdown",
   "metadata": {},
   "source": [
    "Try to visualize what happens when precision is lost as above."
   ]
  },
  {
   "cell_type": "markdown",
   "metadata": {},
   "source": [
    "Introduce the concept of \"insignificant difference\""
   ]
  },
  {
   "cell_type": "markdown",
   "metadata": {},
   "source": [
    "Basic rules of thumb.   Do not compare a floating point number against zero.   Read \"generation and propagation of errors\" from https://en.wikipedia.org/wiki/Numerical_analysis.   Introduce the idea of an ill-conditioned problem -- one whose solution is strongly affected by a small change in the inputs."
   ]
  },
  {
   "cell_type": "markdown",
   "metadata": {},
   "source": [
    "even better, summarize this: https://docs.python.org/2/tutorial/floatingpoint.html.   Good refeence but more than is needed is at http://docs.oracle.com/cd/E19957-01/806-3568/ncg_goldberg.html.    Perhps the best is to summarize key points from https://en.wikipedia.org/wiki/Floating_point."
   ]
  },
  {
   "cell_type": "markdown",
   "metadata": {},
   "source": [
    "But focus on things that will come up in the class: ill-conditioning, and comparison to zero."
   ]
  },
  {
   "cell_type": "markdown",
   "metadata": {},
   "source": [
    "The python interpreter prints floating point numbers (like almost any programming language) in scientific notation as follows:  AeB means $A \\times 10^B$."
   ]
  },
  {
   "cell_type": "markdown",
   "metadata": {},
   "source": [
    "So `1e12` means 1,000,000,000,000."
   ]
  },
  {
   "cell_type": "markdown",
   "metadata": {},
   "source": [
    "More importantly for what we will do, `1e-12` means 0.000000000001."
   ]
  },
  {
   "cell_type": "markdown",
   "metadata": {},
   "source": [
    "You can experiment with representing different numbers using the converter at http://www.h-schmidt.net/FloatConverter/IEEE754.html"
   ]
  }
 ],
 "metadata": {
  "celltoolbar": "Slideshow",
  "kernelspec": {
   "display_name": "Python 3",
   "language": "python",
   "name": "python3"
  },
  "language_info": {
   "codemirror_mode": {
    "name": "ipython",
    "version": 3
   },
   "file_extension": ".py",
   "mimetype": "text/x-python",
   "name": "python",
   "nbconvert_exporter": "python",
   "pygments_lexer": "ipython3",
   "version": "3.4.3"
  }
 },
 "nbformat": 4,
 "nbformat_minor": 0
}
