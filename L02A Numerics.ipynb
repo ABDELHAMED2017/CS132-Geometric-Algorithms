{
 "cells": [
  {
   "cell_type": "code",
   "execution_count": 12,
   "metadata": {
    "collapsed": true
   },
   "outputs": [],
   "source": [
    "import numpy as np"
   ]
  },
  {
   "cell_type": "markdown",
   "metadata": {},
   "source": [
    "## Numbers"
   ]
  },
  {
   "cell_type": "markdown",
   "metadata": {},
   "source": [
    "A number is a mathematical concept -- an abstract idea.  \n",
    "\n",
    "In a computer we assign bit patterns to correspond to certain numbers.   We say the bit pattern is the number's _representation._"
   ]
  },
  {
   "cell_type": "markdown",
   "metadata": {},
   "source": [
    "For example the number '3.14' might have the representation '01000000010010001111010111000011'.\n",
    "\n",
    "For reasons of efficiency, we use a fixed number of bits for these representations.   In most computers nowadays we use __64 bits__ to represent a number.   "
   ]
  },
  {
   "cell_type": "markdown",
   "metadata": {},
   "source": [
    "## Integers"
   ]
  },
  {
   "cell_type": "markdown",
   "metadata": {},
   "source": [
    "For the most part, using integers is not complicated.    \n",
    "\n",
    "Integer representation is essentially the same as binary numerals, eg, '7' would be '111' (with 61 zeros in front)."
   ]
  },
  {
   "cell_type": "markdown",
   "metadata": {},
   "source": [
    "For reasonably sized integers, computation is exact as long as it only involves addition, subtraction, and multiplication.   \n",
    "\n",
    "In other words, there are no errors introduced when adding, subtracting or multiplying integers.    "
   ]
  },
  {
   "cell_type": "markdown",
   "metadata": {},
   "source": [
    "However, it is a different story when we come to division, because the integers are not closed under division.\n",
    "\n",
    "2/3 is not an integer.   It is, however, a real number."
   ]
  },
  {
   "cell_type": "markdown",
   "metadata": {},
   "source": [
    "## Real Numbers and Floating-Point Numbers"
   ]
  },
  {
   "cell_type": "markdown",
   "metadata": {},
   "source": [
    "Representing a real number in a computer is a __much__ more complicated matter.   For many decades, there was no accepted \"best\" way to do this.   Eventually a widely accepted standard emerged, called IEEE-754.  This is what almost all computers now use."
   ]
  },
  {
   "cell_type": "markdown",
   "metadata": {},
   "source": [
    "The style of representation used is called __floating point.__"
   ]
  },
  {
   "cell_type": "markdown",
   "metadata": {},
   "source": [
    "Conceptually, it is similar to \"scientific notation.\"\n",
    "\n",
    "$$12345 = \\underbrace{1.2345}_{significand}\\times {\\underbrace{10}_{base}}^{\\overbrace{4}^{exponent}}$$"
   ]
  },
  {
   "cell_type": "markdown",
   "metadata": {},
   "source": [
    "The sign, significand, and exponent are all contained within the 64 bits.\n",
    "\n",
    "Because of the fixed number of bits used, __most real numbers cannot be represented exactly in a computer.__\n",
    "\n",
    "Another way of saying this is that, usually, a floating point number is an approximation of some particular real number."
   ]
  },
  {
   "cell_type": "markdown",
   "metadata": {},
   "source": [
    "Generally when we try to store a real number in a computer, __what we wind up storing is the closest floating point number that the computer can represent.__"
   ]
  },
  {
   "cell_type": "markdown",
   "metadata": {},
   "source": [
    "##Rules for Working with Floating Point"
   ]
  },
  {
   "cell_type": "markdown",
   "metadata": {},
   "source": [
    "The way to think about working with floating point (in fact, how the hardware actually does it) is:\n",
    "\n",
    "1. Compute the result exactly\n",
    "2. Return the __nearest__ representable floating point number"
   ]
  },
  {
   "cell_type": "markdown",
   "metadata": {},
   "source": [
    "Problems arise when we work with floating point numbers and confuse them with real numbers, thereby forgetting that most of the time we are not storing the real number exactly, but only a floating point number that is close to it."
   ]
  },
  {
   "cell_type": "markdown",
   "metadata": {},
   "source": [
    "Let's look at an example:"
   ]
  },
  {
   "cell_type": "code",
   "execution_count": 45,
   "metadata": {
    "collapsed": false
   },
   "outputs": [],
   "source": [
    "# ((1/8)*8)-1"
   ]
  },
  {
   "cell_type": "markdown",
   "metadata": {},
   "source": [
    "It turns out that 1/8, 8, and 1 can all be stored exactly in IEEE-754 floating point format."
   ]
  },
  {
   "cell_type": "code",
   "execution_count": 44,
   "metadata": {
    "collapsed": false
   },
   "outputs": [
    {
     "data": {
      "text/plain": [
       "-1.3877787807814457e-17"
      ]
     },
     "execution_count": 44,
     "metadata": {},
     "output_type": "execute_result"
    }
   ],
   "source": [
    "((1/70)*7)-0.1"
   ]
  },
  {
   "cell_type": "markdown",
   "metadata": {},
   "source": [
    "In this case, 1/70 and 0.1 __cannot__ be stored exactly.    Hence the computation above does not yield exactly zero, as we would have expected."
   ]
  },
  {
   "cell_type": "code",
   "execution_count": 21,
   "metadata": {
    "collapsed": false
   },
   "outputs": [
    {
     "data": {
      "text/plain": [
       "finfo(resolution=1e-15, min=-1.7976931348623157e+308, max=1.7976931348623157e+308, dtype=float64)"
      ]
     },
     "execution_count": 21,
     "metadata": {},
     "output_type": "execute_result"
    }
   ],
   "source": [
    "np.finfo('float')"
   ]
  },
  {
   "cell_type": "code",
   "execution_count": 22,
   "metadata": {
    "collapsed": false
   },
   "outputs": [
    {
     "data": {
      "text/plain": [
       "15"
      ]
     },
     "execution_count": 22,
     "metadata": {},
     "output_type": "execute_result"
    }
   ],
   "source": [
    "np.finfo('float').precision"
   ]
  },
  {
   "cell_type": "code",
   "execution_count": 2,
   "metadata": {
    "collapsed": false
   },
   "outputs": [
    {
     "data": {
      "text/plain": [
       "9007199254740992"
      ]
     },
     "execution_count": 2,
     "metadata": {},
     "output_type": "execute_result"
    }
   ],
   "source": [
    "2**53 gives about 17 digits of accuracy"
   ]
  },
  {
   "cell_type": "markdown",
   "metadata": {},
   "source": [
    "Try to show where the floats are located on the number line (?)"
   ]
  },
  {
   "cell_type": "markdown",
   "metadata": {},
   "source": [
    "Try to visualize what happens when precision is lost as above."
   ]
  },
  {
   "cell_type": "markdown",
   "metadata": {},
   "source": [
    "Introduce the concept of \"insignificant difference\""
   ]
  },
  {
   "cell_type": "markdown",
   "metadata": {},
   "source": [
    "Basic rules of thumb.   Do not compare a floating point number against zero.   Read \"generation and propagation of errors\" from https://en.wikipedia.org/wiki/Numerical_analysis.   Introduce the idea of an ill-conditioned problem -- one whose solution is strongly affected by a small change in the inputs."
   ]
  },
  {
   "cell_type": "markdown",
   "metadata": {},
   "source": [
    "even better, summarize this: https://docs.python.org/2/tutorial/floatingpoint.html.   Good refeence but more than is needed is at http://docs.oracle.com/cd/E19957-01/806-3568/ncg_goldberg.html.    Perhps the best is to summarize key points from https://en.wikipedia.org/wiki/Floating_point."
   ]
  },
  {
   "cell_type": "markdown",
   "metadata": {},
   "source": [
    "But focus on things that will come up in the class: ill-conditioning, and comparison to zero."
   ]
  },
  {
   "cell_type": "markdown",
   "metadata": {},
   "source": [
    "The python interpreter prints floating point numbers (like almost any programming language) in scientific notation as follows:  AeB means $A \\times 10^B$."
   ]
  },
  {
   "cell_type": "markdown",
   "metadata": {},
   "source": [
    "So `1e12` means 1,000,000,000,000."
   ]
  },
  {
   "cell_type": "markdown",
   "metadata": {},
   "source": [
    "More importantly for what we will do, `1e-12` means 0.000000000001."
   ]
  },
  {
   "cell_type": "markdown",
   "metadata": {},
   "source": [
    "You can experiment with representing different numbers using the converter at http://www.h-schmidt.net/FloatConverter/IEEE754.html"
   ]
  }
 ],
 "metadata": {
  "kernelspec": {
   "display_name": "Python 3",
   "language": "python",
   "name": "python3"
  },
  "language_info": {
   "codemirror_mode": {
    "name": "ipython",
    "version": 3
   },
   "file_extension": ".py",
   "mimetype": "text/x-python",
   "name": "python",
   "nbconvert_exporter": "python",
   "pygments_lexer": "ipython3",
   "version": "3.4.3"
  }
 },
 "nbformat": 4,
 "nbformat_minor": 0
}
