{
 "metadata": {
  "celltoolbar": "Slideshow",
  "name": "",
  "signature": "sha256:df703c56c7abd638e5e9fe4c3a868732560306eb282186ac17252a6b438b75f5"
 },
 "nbformat": 3,
 "nbformat_minor": 0,
 "worksheets": [
  {
   "cells": [
    {
     "cell_type": "heading",
     "level": 1,
     "metadata": {
      "internals": {
       "slide_type": "subslide"
      },
      "slideshow": {
       "slide_type": "slide"
      }
     },
     "source": [
      "Matrix Factorizations"
     ]
    },
    {
     "cell_type": "code",
     "collapsed": false,
     "input": [
      "%matplotlib inline\n",
      "%config InlineBackend.figure_format='retina'\n",
      "# import libraries\n",
      "import numpy as np\n",
      "import matplotlib as mp\n",
      "import pandas as pd\n",
      "import matplotlib.pyplot as plt\n",
      "import laUtilities as ut\n",
      "import slideUtilities as sl\n",
      "import demoUtilities as dm\n",
      "from IPython.display import Image\n",
      "from IPython.display import display_html\n",
      "from IPython.display import display\n",
      "from IPython.display import Math\n",
      "from IPython.display import Latex\n",
      "reload(dm)\n",
      "reload(ut)\n",
      "print ''"
     ],
     "language": "python",
     "metadata": {
      "internals": {},
      "slideshow": {
       "slide_type": "skip"
      }
     },
     "outputs": [
      {
       "output_type": "stream",
       "stream": "stdout",
       "text": [
        "\n"
       ]
      }
     ],
     "prompt_number": 1
    },
    {
     "cell_type": "code",
     "collapsed": false,
     "input": [
      "%%html\n",
      "<style>\n",
      " .container.slides .celltoolbar, .container.slides .hide-in-slideshow {\n",
      "    display: None ! important;\n",
      "}\n",
      "</style>"
     ],
     "language": "python",
     "metadata": {
      "internals": {},
      "slideshow": {
       "slide_type": "skip"
      }
     },
     "outputs": [
      {
       "html": [
        "<style>\n",
        " .container.slides .celltoolbar, .container.slides .hide-in-slideshow {\n",
        "    display: None ! important;\n",
        "}\n",
        "</style>"
       ],
       "metadata": {},
       "output_type": "display_data",
       "text": [
        "<IPython.core.display.HTML at 0x1038303d0>"
       ]
      }
     ],
     "prompt_number": 2
    },
    {
     "cell_type": "markdown",
     "metadata": {},
     "source": [
      "A _factorization_ of a matrix $A$ is an equation that expresses $A$ as a product of two or more matrices.  \n",
      "\n",
      "$$A = BC.$$\n",
      "\n",
      "The essential difference with what we have done so far is that we have been given factors ($B$ and $C$) and computing $A$.  Today we will talk about situations where you are given $A$, and you want to find $B$ and $C$ (that meet some conditions).\n",
      "\n",
      "There are a number of reasons one may want to factor a matrix.\n",
      "\n",
      "* Recasting $A$ into a form that makes computing with $A$ faster.\n",
      "* Recasting $A$ into a form that makes working with $A$ easier.\n",
      "* Recasting $A$ into a form that exposes important properties of $A$.\n",
      "\n",
      "Today we'll work with one particular factorization that addesses the first case.   Later one we'll study factorizations that address the other two cases.\n",
      "\n",
      "The factorization we will study is called the __LU Factorization.__  It is worth studying in its own right, and because it introduces the idea of factorizations, which we will study again later on."
     ]
    },
    {
     "cell_type": "heading",
     "level": 2,
     "metadata": {},
     "source": [
      "The Rationale for the LU Factorization"
     ]
    },
    {
     "cell_type": "markdown",
     "metadata": {},
     "source": [
      "Let's say you want to solve a set of linear systems, all with the same coefficient matrix:\n",
      "$$A{\\bf x_1} = {\\bf b_1}$$\n",
      "$$A{\\bf x_2} = {\\bf b_2}$$\n",
      "$$\\dots$$\n",
      "$$A{\\bf x_p} = {\\bf b_p}$$\n",
      "\n",
      "There are $p$ equations."
     ]
    },
    {
     "cell_type": "markdown",
     "metadata": {},
     "source": [
      "Naturally, you could solve these systems by first computing $A^{-1}$ and then computing:\n",
      "$${\\bf x_1} = A^{-1}{\\bf b_1}$$\n",
      "$${\\bf x_2} = A^{-1}{\\bf b_2}$$\n",
      "$$\\dots$$\n",
      "$${\\bf x_p} = A^{-1}{\\bf b_p}$$"
     ]
    },
    {
     "cell_type": "markdown",
     "metadata": {},
     "source": [
      "What is the computational cost of this?   Matrix Inversion requires approximately $2n^3$ flops (about three times as many flops as Gaussian Elimination.)  This cost will dominate the process."
     ]
    },
    {
     "cell_type": "markdown",
     "metadata": {},
     "source": [
      "Alternatively, we could perform Gaussian Elimination on each of the systems.  This is probably worse, because then we have to perform $p \\cdot \\frac{2}{3}n^3$ flops.   Assuming $p > 3$, we are doing more work than if we invert $A$."
     ]
    },
    {
     "cell_type": "markdown",
     "metadata": {},
     "source": [
      "What if we could solve all these systems while performing Gaussian Elimination only once?  That would be a win, as it would cut our running time by a factor of 3."
     ]
    },
    {
     "cell_type": "markdown",
     "metadata": {},
     "source": [
      "The LU factorization allows us to do exactly this."
     ]
    },
    {
     "cell_type": "markdown",
     "metadata": {},
     "source": [
      "Before we start to discuss the LU factorization, we need to introduce a powerful tool for performing factorizations."
     ]
    },
    {
     "cell_type": "heading",
     "level": 2,
     "metadata": {},
     "source": [
      "Elementary Matrices"
     ]
    },
    {
     "cell_type": "markdown",
     "metadata": {},
     "source": [
      "Recall from the first and second lectures that the row reduction process consists of repeated applications of elementary row operations:\n",
      "\n",
      "* Exchange two rows\n",
      "* Multiply a row by a constant\n",
      "* Add a multiple of one row to another"
     ]
    },
    {
     "cell_type": "markdown",
     "metadata": {},
     "source": [
      "Now that we have much more theoretical machinery in our toolbox, we can make an important observation: __Every elementary row operation on $A$ can be performed by multiplying $A$ by a suitable matrix.__\n",
      "\n",
      "That is, an elementary row operation is a linear transformation!  "
     ]
    },
    {
     "cell_type": "markdown",
     "metadata": {},
     "source": [
      "Furthermore, the matrices that implement elementary row operations are particularly simple.  They are called __elementary matrices.__\n",
      "\n",
      "An elementary matrix is one that is obtained by __performing a single elementary row operation on the identity matrix.__"
     ]
    },
    {
     "cell_type": "markdown",
     "metadata": {},
     "source": [
      "__Example.__  Let\n",
      "\n",
      "$$E_1 = \\left[\\begin{array}{rrr}1&0&0\\\\0&1&0\\\\-4&0&1\\end{array}\\right],\\;\\; E_2 = \\left[\\begin{array}{rrr}0&1&0\\\\1&0&0\\\\0&0&1\\end{array}\\right],\\;\\; E_3 = \\left[\\begin{array}{rrr}1&0&0\\\\0&1&0\\\\0&0&5\\end{array}\\right].$$\n",
      "\n",
      "Let's see what each matrix does to an arbitrary matrix $A = \\left[\\begin{array}{rrr}a&b&c\\\\d&e&f\\\\g&h&i\\end{array}\\right].$"
     ]
    },
    {
     "cell_type": "markdown",
     "metadata": {},
     "source": [
      "$$ E_1A = \\left[\\begin{array}{rrr}a&b&c\\\\d&e&f\\\\g-4a&h-4b&i-4c\\end{array}\\right]. $$"
     ]
    },
    {
     "cell_type": "markdown",
     "metadata": {},
     "source": [
      "$$ E_2A = \\left[\\begin{array}{rrr}d&e&f\\\\a&b&c\\\\g&h&i\\end{array}\\right].$$"
     ]
    },
    {
     "cell_type": "markdown",
     "metadata": {},
     "source": [
      "$$ E_3A = \\left[\\begin{array}{rrr}a&b&c\\\\d&e&f\\\\5g&5h&5i\\end{array}\\right].$$"
     ]
    },
    {
     "cell_type": "markdown",
     "metadata": {},
     "source": [
      "Clearly, left-multiplication by $E_1$ will add -4 times row 1 to row 3 (for any matrix $A$).\n",
      "\n",
      "In fact, you can look at this as follows.  \n",
      "\n",
      "Assume that some matrix $E$ exists that implements the operation \"add -4 times row 1 to row 3.\"  \n",
      "\n",
      "Now, for any matrix, $EI = E$ by the definition of $I$.  \n",
      "\n",
      "But note that this equation also says \"the matrix ($E$) that implements the operation 'add -4 times row 1 to row 3' is the one you get by performing this operation on $I$\""
     ]
    },
    {
     "cell_type": "markdown",
     "metadata": {},
     "source": [
      "Thus we have the following:\n",
      "\n",
      "__Fact.__ If an elementary row operation is performed on an $m\\times n$ matrix $A,$ the resulting matrix can be written as $EA$, where the $m\\times m$ matrix $E$ is created by performing the same row operation on $I_m$."
     ]
    },
    {
     "cell_type": "heading",
     "level": 2,
     "metadata": {},
     "source": [
      "The LU Factorization"
     ]
    },
    {
     "cell_type": "markdown",
     "metadata": {},
     "source": [
      "Now, we will introduce the factorization \n",
      "\n",
      "$$ A = LU.$$\n",
      "\n"
     ]
    },
    {
     "cell_type": "code",
     "collapsed": false,
     "input": [],
     "language": "python",
     "metadata": {},
     "outputs": []
    }
   ],
   "metadata": {}
  }
 ]
}