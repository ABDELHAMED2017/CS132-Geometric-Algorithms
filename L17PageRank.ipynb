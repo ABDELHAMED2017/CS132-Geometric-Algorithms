{
 "cells": [
  {
   "cell_type": "markdown",
   "metadata": {
    "internals": {
     "slide_type": "subslide"
    },
    "slideshow": {
     "slide_type": "slide"
    }
   },
   "source": [
    "# PageRank\n",
    "\n",
    "<br>\n",
    "<br>\n",
    "<center>\n",
    "<img src=\"images/Page-et-Brin.jpeg\" alt=\"Larry Page and Sergey Brin\" width=\"450\">\n",
    "<br>\n",
    "Larry Page and Sergey Brin\n",
    "\n",
    "\n",
    "<div style=\"visibility: hidden\"> \n",
    "Source:\n",
    "http://pixshark.com/sergey-brin-and-larry-page.htm\n",
    "</div>"
   ]
  },
  {
   "cell_type": "code",
   "execution_count": 3,
   "metadata": {
    "collapsed": false,
    "internals": {},
    "slideshow": {
     "slide_type": "skip"
    }
   },
   "outputs": [
    {
     "name": "stdout",
     "output_type": "stream",
     "text": [
      "\n"
     ]
    }
   ],
   "source": [
    "%matplotlib inline\n",
    "%config InlineBackend.figure_format='retina'\n",
    "# import libraries\n",
    "import numpy as np\n",
    "import matplotlib as mp\n",
    "import pandas as pd\n",
    "import matplotlib.pyplot as plt\n",
    "import laUtilities as ut\n",
    "import slideUtilities as sl\n",
    "import demoUtilities as dm\n",
    "import pandas as pd\n",
    "from datetime import datetime\n",
    "from IPython.display import Image\n",
    "from IPython.display import display_html\n",
    "from IPython.display import display\n",
    "from IPython.display import Math\n",
    "from IPython.display import Latex\n",
    "from IPython.display import HTML\n",
    "reload(dm)\n",
    "reload(ut)\n",
    "reload(sl)\n",
    "print ''"
   ]
  },
  {
   "cell_type": "code",
   "execution_count": 4,
   "metadata": {
    "collapsed": false,
    "internals": {},
    "slideshow": {
     "slide_type": "skip"
    }
   },
   "outputs": [
    {
     "data": {
      "text/html": [
       "<style>\n",
       " .container.slides .celltoolbar, .container.slides .hide-in-slideshow {\n",
       "    display: None ! important;\n",
       "}\n",
       "</style>"
      ],
      "text/plain": [
       "<IPython.core.display.HTML object>"
      ]
     },
     "metadata": {},
     "output_type": "display_data"
    }
   ],
   "source": [
    "%%html\n",
    "<style>\n",
    " .container.slides .celltoolbar, .container.slides .hide-in-slideshow {\n",
    "    display: None ! important;\n",
    "}\n",
    "</style>"
   ]
  },
  {
   "cell_type": "markdown",
   "metadata": {
    "internals": {},
    "slideshow": {
     "slide_type": "skip"
    }
   },
   "source": [
    "%Set up useful MathJax (Latex) macros.\n",
    "%See http://docs.mathjax.org/en/latest/tex.html#defining-tex-macros\n",
    "%These are for use in the slideshow\n",
    "$\\newcommand{\\mat}[1]{\\left[\\begin{array}#1\\end{array}\\right]}$\n",
    "$\\newcommand{\\vx}{{\\mathbf x}}$\n",
    "$\\newcommand{\\R}{{\\mathbb{R}}}$\n",
    "$\\newcommand{\\vu}{{\\mathbf u}}$\n",
    "$\\newcommand{\\vv}{{\\mathbf v}}$\n",
    "$\\newcommand{\\col}{{\\operatorname{Col}}}$\n",
    "$\\newcommand{\\nul}{{\\operatorname{Nul}}}$\n",
    "$\\newcommand{\\vb}{{\\mathbf b}}$\n",
    "$\\newcommand{\\va}{{\\mathbf a}}$\n",
    "$\\newcommand{\\ve}{{\\mathbf e}}$\n",
    "$\\newcommand{\\setb}{{\\mathcal{B}}}$\n",
    "$\\newcommand{\\rank}{{\\operatorname{rank}}}$\n",
    "$\\newcommand{\\vp}{{\\mathbf p}}$"
   ]
  },
  {
   "cell_type": "raw",
   "metadata": {
    "internals": {
     "slide_helper": "subslide_end"
    },
    "slide_helper": "slide_end",
    "slideshow": {
     "slide_type": "skip"
    }
   },
   "source": [
    "\\newcommand{\\mat}[1]{\\left[\\begin{array}#1\\end{array}\\right]}\n",
    "\\newcommand{\\vx}{{\\mathbf x}}\n",
    "\\newcommand{\\vb}{{\\mathbf b}}\n",
    "\\newcommand{\\vu}{{\\mathbf u}}\n",
    "\\newcommand{\\vv}{{\\mathbf v}}\n",
    "\\newcommand{\\va}{{\\mathbf a}}\n",
    "\\newcommand{\\ve}{{\\mathbf e}}\n",
    "\\newcommand{\\vp}{{\\mathbf p}}\n",
    "\\newcommand{\\R}{{\\mathbb{R}}}\n",
    "\\newcommand{\\col}{{\\operatorname{Col}}}\n",
    "\\newcommand{\\nul}{{\\operatorname{Nul}}}\n",
    "\\newcommand{\\rank}{{\\operatorname{rank}}}\n",
    "\\newcommand{\\setb}{{\\mathcal{B}}}"
   ]
  },
  {
   "cell_type": "markdown",
   "metadata": {},
   "source": [
    "Today we'll study an algorithm that is probably important in your life: Google's PageRank."
   ]
  },
  {
   "cell_type": "markdown",
   "metadata": {},
   "source": [
    "By way of history: the World Wide Web starting becoming widely used in 1994.\n",
    "\n",
    "By 1998 the Web had become an indispensable information resource. However the problem of effectively searching the Web for relevant information was not well addressed.  A number of large search engines were available, with names that are now forgotten: Alta Vista, Lycos, Excite, and others. At present, most of them are no longer in existence, because Google emerged in 1998 and came to dominate Web search almost overnight.\n",
    "\n",
    "How did this happen?\n",
    "\n",
    "As background: a typical search engine uses a two-step process to retrieve pages related to a user’s query. In\n",
    "the first step, basic text processing is done to find all documents that contain the query terms. \n",
    "Due to the massive size of the Web, this first step can result in many thousands of retrieved pages related to the query.   \n",
    "\n",
    "The problem that Google solves better than the search engines of the mid 1990’s concerns the __ordering__ in which the resulting search results are presented.  This is the crucial factor in utility.  A user wants to find the \"correct\" or \"best\" item at the top of the search results.\n",
    "\n",
    "By displaying the most relevant pages at the top of the list returned each query, Google makes its search results very useful. The algorithm that gave Google this advantage is called PageRank."
   ]
  },
  {
   "cell_type": "markdown",
   "metadata": {},
   "source": [
    "Around 1998, the limitations of standard search engines, which just used term frequency, we becoming apparent.  A number of researchers were thinking about using additional sources of information to \"rate\" pages.\n",
    "\n",
    "The key idea that a number of researchers hit on was this: _links are endorsements._  When a first page contains a link to a second page, that is an indication that the author of the first page thinks the second page is worth looking at.  If the first and second pages both contain the same query terms, it is likely that the second page is an important page with respect to that query term.\n",
    "\n",
    "Consider a set of web pages, for a single query term (say \"car manufacturers\") with this linking structure:\n",
    "\n",
    "<img src=\"images/hub-authority.png\" alt=\"Hubs\" width=\"250\">\n",
    "\n",
    "It may be clear that the links between pages contain and encode information.  But what is the best way to extract that information in the form of rankings?"
   ]
  },
  {
   "cell_type": "markdown",
   "metadata": {},
   "source": [
    "What was the insight that Brin and Page used?\n",
    "\n",
    "From “The PageRank citation ranking: Bringing order to the Web” (1998):\n",
    "> PageRank can be thought of as a model of user behavior. We assume there is a “random surfer” who is given a web page at random and keeps clicking on links, never hitting “back” but eventually gets bored and starts on another random page. The probability that the random surfer visits a page is its PageRank."
   ]
  },
  {
   "cell_type": "markdown",
   "metadata": {},
   "source": [
    "What does this have to do with Markov Chains and eigenvectors?"
   ]
  },
  {
   "cell_type": "markdown",
   "metadata": {},
   "source": [
    "## Random Walks"
   ]
  },
  {
   "cell_type": "markdown",
   "metadata": {},
   "source": [
    "We start with the notion of a __random walk.__\n",
    "\n",
    "A random walk is a model of many sorts of processes that occur on graphs.\n",
    "\n",
    "Let us fix a graph $G$.  A random walk (sometimes called a \"drunkard's walk\") models the movement of an object on this graph.\n",
    "\n",
    "We assume that the object moves from node to node in $G$, one move per time step $t.$  At time $t$ the object is at node $k$ (say) and at the next time $t+1$ it moves to another node chosen __at random__ from among the outgoing edges.\n",
    "\n",
    "To fix ideas for our initial discussion, we will assume that $G$ is the line graph:\n",
    "\n",
    "<img src=\"images/Lay-fig-10-3.jpg\" alt=\"Line Graph\" width=\"450\">\n",
    "\n",
    "This is a graph in which each node is connected to two neighbors.  It's natural to identify the nodes with the integers $k = 1,\\dots,n.$\n",
    "\n",
    "What happens at the endpoints of the graph (nodes 1 and $n$) must be specified.\n",
    "\n",
    "One possibility is for the object to remain fixed at that location.   This is called a __random walk with absorbing boundaries.__\n",
    "\n",
    "Another possibility is for the object to bounce back one unit when an endpoint is reached.   This is called a __random walk with reflecting boundaries.__\n",
    "\n",
    "We can also set a particular probability $1-p$ of moving \"to the right\" (from $k$ to $k+1$) and $p$ of moving \"to the left\" (from $k$ to $k-1$).\n",
    "\n",
    "We can capture this process as a Markov Chain.  "
   ]
  },
  {
   "cell_type": "markdown",
   "metadata": {},
   "source": [
    "__Example.__  A random walk on $\\{1,2,3,4,5\\}$ with absorbing boundaries has a transition matrix of \n",
    "\n",
    "$$P=\\mat{{ccccc}1&p&0&0&0\\\\0&0&p&0&0\\\\0&1-p&0&p&0\\\\0&0&1-p&0&0\\\\0&0&0&1-p&1}$$"
   ]
  },
  {
   "cell_type": "markdown",
   "metadata": {},
   "source": [
    "__Example.__ Gambler's Ruin.   Consider a very simple casino game.  A gambler (with some money to lose) flips a coin and calls heads or tails.  If the gambler is correct, he wins a dollar.  If he is wrong, he loses a dollar.  Suppose that the gambler will quit the game when she has either won $n$ dollars or lost all of her money.\n",
    "\n",
    "Suppose that $n=7$ and the gambler starts with \\$4.  The gambler's winnings must move up or down one dollar with each coin flip, and once the gambler's winnings reach 0 or 7, they do not change any more since the gambler has quit the game.  \n",
    "\n",
    "Such a process may be modeled as a random walk on $\\{0,1,2,3,4,5,6,7\\}$ with absorbing boundaries.   Since a move up or down is equally likely in this case, $p = 1/2$.\n",
    "\n",
    "This transition matrix is not regular, and there is not a single steady-state to which the chain surely converges.   However there are two steady-states, each corresponding to absorption at one boundary, the chain will surely converge to one or the other.\n",
    "\n",
    "For example, if $p=0.45$, we find that the probability that the gambler will lose all her money to be $0.4$."
   ]
  },
  {
   "cell_type": "code",
   "execution_count": 36,
   "metadata": {
    "collapsed": false
   },
   "outputs": [
    {
     "data": {
      "text/html": [
       "<div id=\"8e8b1f5b8c818e8d\"></div>\n",
       "    <script type=\"text/javascript\">\n",
       "        $(function(){\n",
       "            var p = $(\"#8e8b1f5b8c818e8d\");\n",
       "            if (p.length==0) return;\n",
       "\n",
       "            while (!p.hasClass(\"cell\")) {\n",
       "                p=p.parent();\n",
       "\n",
       "                if (p.prop(\"tagName\") ==\"body\") return;\n",
       "            }\n",
       "            var cell = p;\n",
       "            cell.find(\".input\").addClass(\"hide-in-slideshow\")\n",
       "        });\n",
       "    </script>"
      ]
     },
     "metadata": {},
     "output_type": "display_data"
    }
   ],
   "source": [
    "sl.hide_code_in_slideshow()\n",
    "p = 0.45\n",
    "A = np.array([[1,p,0,0,0],[0,0,p,0,0],[0,1-p,0,p,0],[0,0,1-p,0,0],[0,0,0,1-p,1]])\n",
    "B = A.copy()\n",
    "for i in range(100):\n",
    "    B = A.dot(B)\n",
    "# print B.dot(np.array([0,0,1,0,0]))"
   ]
  },
  {
   "cell_type": "markdown",
   "metadata": {},
   "source": [
    "Now let's consider a random walk on a more interesting graph:\n",
    "\n",
    "<img src=\"images/Lay-fig-10-4.jpg\" alt=\"Another Graph\" height=\"200\">\n",
    "\n",
    "Again, at each node there is an equal probability of departing to any adjacent node.  This is called a __simple random walk on a graph.__\n",
    "\n",
    "The transition matrix associated with this graph is\n",
    "\n",
    "$$A = \\mat{{ccccccc}\n",
    "0&1/3&1/4&0&0&0&0\\\\\n",
    "1/2&0&1/4&0&1/2&0&0\\\\\n",
    "1/2&1/3&0&1&0&1/3&0\\\\\n",
    "0&0&1/4&0&0&0&0\\\\\n",
    "0&1/3&0&0&0&1/3&0\\\\\n",
    "0&0&1/4&0&1/2&0&1\\\\\n",
    "0&0&0&0&0&1/3&0}$$\n",
    "\n",
    "This graph is regular, so the transition matrix converges to a single steady state.  (It has only one eigenvalue of 1.)\n",
    "\n",
    "Its principal eigenvector is proportional to: $\\mat{{c}2\\\\3\\\\4\\\\1\\\\2\\\\3\\\\1}.$  This represents the steady-state distribution.\n",
    "\n",
    "Notice anything?  (Look at $G$)."
   ]
  },
  {
   "cell_type": "code",
   "execution_count": 35,
   "metadata": {
    "collapsed": false,
    "slideshow": {
     "slide_type": "skip"
    }
   },
   "outputs": [
    {
     "data": {
      "text/html": [
       "<div id=\"c512ffce8a6b9b72\"></div>\n",
       "    <script type=\"text/javascript\">\n",
       "        $(function(){\n",
       "            var p = $(\"#c512ffce8a6b9b72\");\n",
       "            if (p.length==0) return;\n",
       "\n",
       "            while (!p.hasClass(\"cell\")) {\n",
       "                p=p.parent();\n",
       "\n",
       "                if (p.prop(\"tagName\") ==\"body\") return;\n",
       "            }\n",
       "            var cell = p;\n",
       "            cell.find(\".input\").addClass(\"hide-in-slideshow\")\n",
       "        });\n",
       "    </script>"
      ]
     },
     "metadata": {},
     "output_type": "display_data"
    }
   ],
   "source": [
    "sl.hide_code_in_slideshow()\n",
    "A = np.array([\n",
    "[0,1./3,1./4,0,0,0,0],\n",
    "[1./2,0,1./4,0,1./2,0,0],\n",
    "[1./2,1./3,0,1,0,1./3,0],\n",
    "[0,0,1./4,0,0,0,0],\n",
    "[0,1./3,0,0,0,1./3,0],\n",
    "[0,0,1./4,0,1./2,0,1],\n",
    "[0,0,0,0,0,1./3,0]])\n",
    "w,v = np.linalg.eig(A)\n",
    "# print v[:,0]*(20./3)"
   ]
  },
  {
   "cell_type": "markdown",
   "metadata": {
    "collapsed": true
   },
   "source": [
    "Another interesting object on which to walk randomly is a __directed__ graph.  In this graph, all edges are \"one-way streets\" -- nodes are joined not by lines but by arrows.   The chain can move from vertex to vertex, but only in the directions allowed by the arrows.\n",
    "\n",
    "An example of a directed graph is\n",
    "\n",
    "\n",
    "<img src=\"images/deeper-pagerank-fig.jpg\" alt=\"Directed Graph\" height=\"200\">"
   ]
  },
  {
   "cell_type": "markdown",
   "metadata": {},
   "source": [
    "The transition matrix for this graph is:\n",
    "\n",
    "$$A = \\mat{{cccccc}0&1/2&1/2&0&0&0\\\\0&0&0&0&0&0\\\\\n",
    "1/3&1/3&0&0&1/3&0\\\\\n",
    "0&0&0&0&1/2&1/2\\\\\n",
    "0&0&0&1&0&0}$$"
   ]
  },
  {
   "cell_type": "markdown",
   "metadata": {},
   "source": [
    "## PageRank"
   ]
  },
  {
   "cell_type": "markdown",
   "metadata": {},
   "source": [
    "There are many ways to make use of the link structure to infer which pages are most important to return at the top of the search results.\n",
    "\n",
    "The simplest is to consider a page is \"important\" if many \"important\" pages link to it.\n",
    "\n",
    "This can be captured in terms of a random walk."
   ]
  },
  {
   "cell_type": "markdown",
   "metadata": {},
   "source": [
    "Now we are ready to understand what Page and Brin were saying in 1998:\n",
    "\n",
    "> PageRank can be thought of as a model of user behavior. We assume there is a “random surfer” who is given a web page at random and keeps clicking on links, never hitting “back” but eventually gets bored and starts on another random page. The probability that the random surfer visits a page is its PageRank."
   ]
  },
  {
   "cell_type": "markdown",
   "metadata": {},
   "source": [
    "Intuitively, the a random surfer should spend more time at \"important\" pages and less time at unimportant pages.\n",
    "\n",
    "The way to interpret this precisely is:\n",
    "\n",
    "We construct a Markov Chain from the graph that encodes the connections between Web pages that are retrieved for a particular query.   Then we rank-order the results according to their probability in the steady state."
   ]
  },
  {
   "cell_type": "markdown",
   "metadata": {},
   "source": [
    "So let's try to make this work and see what happens."
   ]
  },
  {
   "cell_type": "code",
   "execution_count": null,
   "metadata": {
    "collapsed": true
   },
   "outputs": [],
   "source": []
  },
  {
   "cell_type": "markdown",
   "metadata": {},
   "source": [
    "## Computing PageRank: the Power Method"
   ]
  }
 ],
 "metadata": {
  "celltoolbar": "Slideshow",
  "kernelspec": {
   "display_name": "Python 2",
   "language": "python",
   "name": "python2"
  },
  "language_info": {
   "codemirror_mode": {
    "name": "ipython",
    "version": 2
   },
   "file_extension": ".py",
   "mimetype": "text/x-python",
   "name": "python",
   "nbconvert_exporter": "python",
   "pygments_lexer": "ipython2",
   "version": "2.7.6"
  }
 },
 "nbformat": 4,
 "nbformat_minor": 0
}
