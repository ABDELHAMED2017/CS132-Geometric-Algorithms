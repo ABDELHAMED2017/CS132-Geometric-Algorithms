{
 "cells": [
  {
   "cell_type": "markdown",
   "metadata": {
    "internals": {
     "slide_type": "subslide"
    },
    "slideshow": {
     "slide_type": "slide"
    }
   },
   "source": [
    "# Diagonalization\n",
    "w\n",
    "<br>\n",
    "<br>\n",
    "<center>\n",
    "<img src=\"images/PottermoreDiagonAlley1.jpg\" alt=\"Diagon Alley\" width=\"450\">\n",
    "<br>\n",
    "\"Welcome, Harry, to Diagon Alley\"\n",
    "<P>\n",
    "<center>\n",
    "   -- Rubeus Hagrid\n",
    "</center>\n",
    "\n",
    "<div style=\"visibility: hidden\"> \n",
    "Source:\n",
    "http://img3.wikia.nocookie.net/__cb20140714004320/harrypotter/images/8/84/PottermoreDiagonAlley1.jpg\n",
    "</div>"
   ]
  },
  {
   "cell_type": "code",
   "execution_count": 1,
   "metadata": {
    "collapsed": false,
    "internals": {},
    "slideshow": {
     "slide_type": "skip"
    }
   },
   "outputs": [
    {
     "name": "stdout",
     "output_type": "stream",
     "text": [
      "\n"
     ]
    }
   ],
   "source": [
    "%matplotlib inline\n",
    "%config InlineBackend.figure_format='retina'\n",
    "# import libraries\n",
    "import numpy as np\n",
    "import matplotlib as mp\n",
    "import pandas as pd\n",
    "import matplotlib.pyplot as plt\n",
    "import laUtilities as ut\n",
    "import slideUtilities as sl\n",
    "import demoUtilities as dm\n",
    "import pandas as pd\n",
    "from datetime import datetime\n",
    "from IPython.display import Image\n",
    "from IPython.display import display_html\n",
    "from IPython.display import display\n",
    "from IPython.display import Math\n",
    "from IPython.display import Latex\n",
    "from IPython.display import HTML\n",
    "reload(dm)\n",
    "reload(ut)\n",
    "reload(sl)\n",
    "print ''"
   ]
  },
  {
   "cell_type": "code",
   "execution_count": 2,
   "metadata": {
    "collapsed": false,
    "internals": {},
    "slideshow": {
     "slide_type": "skip"
    }
   },
   "outputs": [
    {
     "data": {
      "text/html": [
       "<style>\n",
       " .container.slides .celltoolbar, .container.slides .hide-in-slideshow {\n",
       "    display: None ! important;\n",
       "}\n",
       "</style>"
      ],
      "text/plain": [
       "<IPython.core.display.HTML object>"
      ]
     },
     "metadata": {},
     "output_type": "display_data"
    }
   ],
   "source": [
    "%%html\n",
    "<style>\n",
    " .container.slides .celltoolbar, .container.slides .hide-in-slideshow {\n",
    "    display: None ! important;\n",
    "}\n",
    "</style>"
   ]
  },
  {
   "cell_type": "markdown",
   "metadata": {
    "internals": {},
    "slideshow": {
     "slide_type": "skip"
    }
   },
   "source": [
    "%Set up useful MathJax (Latex) macros.\n",
    "%See http://docs.mathjax.org/en/latest/tex.html#defining-tex-macros\n",
    "%These are for use in the slideshow\n",
    "$\\newcommand{\\mat}[1]{\\left[\\begin{array}#1\\end{array}\\right]}$\n",
    "$\\newcommand{\\vx}{{\\mathbf x}}$\n",
    "$\\newcommand{\\R}{{\\mathbb{R}}}$\n",
    "$\\newcommand{\\vu}{{\\mathbf u}}$\n",
    "$\\newcommand{\\vv}{{\\mathbf v}}$\n",
    "$\\newcommand{\\col}{{\\operatorname{Col}}}$\n",
    "$\\newcommand{\\nul}{{\\operatorname{Nul}}}$\n",
    "$\\newcommand{\\vb}{{\\mathbf b}}$\n",
    "$\\newcommand{\\va}{{\\mathbf a}}$\n",
    "$\\newcommand{\\ve}{{\\mathbf e}}$\n",
    "$\\newcommand{\\setb}{{\\mathcal{B}}}$\n",
    "$\\newcommand{\\rank}{{\\operatorname{rank}}}$\n",
    "$\\newcommand{\\vp}{{\\mathbf p}}$"
   ]
  },
  {
   "cell_type": "raw",
   "metadata": {
    "internals": {
     "slide_helper": "subslide_end"
    },
    "slide_helper": "slide_end",
    "slideshow": {
     "slide_type": "skip"
    }
   },
   "source": [
    "\\newcommand{\\mat}[1]{\\left[\\begin{array}#1\\end{array}\\right]}\n",
    "\\newcommand{\\vx}{{\\mathbf x}}\n",
    "\\newcommand{\\vb}{{\\mathbf b}}\n",
    "\\newcommand{\\vu}{{\\mathbf u}}\n",
    "\\newcommand{\\vv}{{\\mathbf v}}\n",
    "\\newcommand{\\va}{{\\mathbf a}}\n",
    "\\newcommand{\\ve}{{\\mathbf e}}\n",
    "\\newcommand{\\vp}{{\\mathbf p}}\n",
    "\\newcommand{\\R}{{\\mathbb{R}}}\n",
    "\\newcommand{\\col}{{\\operatorname{Col}}}\n",
    "\\newcommand{\\nul}{{\\operatorname{Nul}}}\n",
    "\\newcommand{\\rank}{{\\operatorname{rank}}}\n",
    "\\newcommand{\\setb}{{\\mathcal{B}}}"
   ]
  },
  {
   "cell_type": "markdown",
   "metadata": {
    "slideshow": {
     "slide_type": "slide"
    }
   },
   "source": [
    "Today we consider an important factorization of a square matrix.   \n",
    "\n",
    "This factorization uses eigenvalues and eigenvectors, and makes many problems substantially easier."
   ]
  },
  {
   "cell_type": "markdown",
   "metadata": {
    "slideshow": {
     "slide_type": "fragment"
    }
   },
   "source": [
    "The factorization is of the form \n",
    "\n",
    "$$A = PDP^{-1}$$\n",
    "\n",
    "where $D$ is a __diagonal__ matrix."
   ]
  },
  {
   "cell_type": "markdown",
   "metadata": {
    "slideshow": {
     "slide_type": "fragment"
    }
   },
   "source": [
    "This factorization allows us to compute $A^k$ quickly for large values of $k,$ which is fundamental to many problems."
   ]
  },
  {
   "cell_type": "markdown",
   "metadata": {
    "slideshow": {
     "slide_type": "fragment"
    }
   },
   "source": [
    "Here is an example of why we'd like to do such a thing:"
   ]
  },
  {
   "cell_type": "markdown",
   "metadata": {
    "slideshow": {
     "slide_type": "fragment"
    }
   },
   "source": [
    "__Example.__  Consider taking the powers of a diagonal matrix.  \n",
    "\n",
    "For example, $D = \\mat{{rr}5&0\\\\0&3}.$  "
   ]
  },
  {
   "cell_type": "markdown",
   "metadata": {
    "slideshow": {
     "slide_type": "fragment"
    }
   },
   "source": [
    "Then note that $D^2 = \\mat{{rr}5&0\\\\0&3}\\mat{{rr}5&0\\\\0&3} = \\mat{{cc}5^2&0\\\\0&3^2},$"
   ]
  },
  {
   "cell_type": "markdown",
   "metadata": {
    "slideshow": {
     "slide_type": "fragment"
    }
   },
   "source": [
    "And $D^3 = DD^2 = \\mat{{rr}5&0\\\\0&3}\\mat{{cc}5^2&0\\\\0&3^2} = \\mat{{cc}5^3&0\\\\0&3^3}.$"
   ]
  },
  {
   "cell_type": "markdown",
   "metadata": {
    "slideshow": {
     "slide_type": "fragment"
    }
   },
   "source": [
    "So in general,\n",
    "\n",
    "$$ D^k = \\mat{{rr}5^k&0\\\\0&3^k} \\;\\;\\;\\mbox{for}\\;k\\geq1.$$"
   ]
  },
  {
   "cell_type": "markdown",
   "metadata": {
    "slideshow": {
     "slide_type": "slide"
    }
   },
   "source": [
    "__Extending this to a general matrix $A$.__\n",
    "\n",
    "Now, consider if $A$ is __similar__ to a diagonal matrix.  \n",
    "\n",
    "For example, let $A = PDP^{-1}$ for some invertible $P$ and diagonal $D$."
   ]
  },
  {
   "cell_type": "markdown",
   "metadata": {
    "slideshow": {
     "slide_type": "fragment"
    }
   },
   "source": [
    "Then, $A^k$ is also easy to compute.   "
   ]
  },
  {
   "cell_type": "markdown",
   "metadata": {
    "slideshow": {
     "slide_type": "fragment"
    }
   },
   "source": [
    "__Example.__ Let $A = \\mat{{rr}7&2\\\\-4&1}.$  \n",
    "\n",
    "Find a formula for $A^k,$ given that $A = PDP^{-1},$ where\n",
    "\n",
    "$$P = \\mat{{rr}1&1\\\\-1&-2}\\;\\mbox{and}\\;D = \\mat{{cc}5&0\\\\0&3}.$$"
   ]
  },
  {
   "cell_type": "markdown",
   "metadata": {
    "slideshow": {
     "slide_type": "fragment"
    }
   },
   "source": [
    "__Solution.__   \n",
    "\n",
    "The standard formula for the inverse of a $2\\times 2$ matrix yields\n",
    "\n",
    "$$P^{-1} = \\mat{{rr}2&1\\\\-1&-1}$$"
   ]
  },
  {
   "cell_type": "markdown",
   "metadata": {
    "slideshow": {
     "slide_type": "fragment"
    }
   },
   "source": [
    "Then, by associativity of matrix multiplication,\n",
    "\n",
    "$$A^2 = (PDP^{-1})(PDP^{-1}) $$"
   ]
  },
  {
   "cell_type": "markdown",
   "metadata": {
    "slideshow": {
     "slide_type": "fragment"
    }
   },
   "source": [
    "$$= PD(P^{-1}P)DP^{-1}$$"
   ]
  },
  {
   "cell_type": "markdown",
   "metadata": {
    "slideshow": {
     "slide_type": "fragment"
    }
   },
   "source": [
    "$$ = PDDP^{-1}$$"
   ]
  },
  {
   "cell_type": "markdown",
   "metadata": {
    "slideshow": {
     "slide_type": "fragment"
    }
   },
   "source": [
    "$$ = PD^2P^{-1}$$"
   ]
  },
  {
   "cell_type": "markdown",
   "metadata": {
    "slideshow": {
     "slide_type": "fragment"
    }
   },
   "source": [
    "$$ = \\mat{{rr}1&1\\\\-1&-2}\\mat{{rr}5^2&0\\\\0&3^2}\\mat{{rr}2&1\\\\-1&-1}$$"
   ]
  },
  {
   "cell_type": "markdown",
   "metadata": {
    "slideshow": {
     "slide_type": "fragment"
    }
   },
   "source": [
    "In general, for $k\\geq 1,$\n",
    "\n",
    "$$A^k = PD^kP^{-1}$$"
   ]
  },
  {
   "cell_type": "markdown",
   "metadata": {
    "slideshow": {
     "slide_type": "fragment"
    }
   },
   "source": [
    "$$=\\mat{{rr}1&1\\\\-1&-2}\\mat{{rr}5^k&0\\\\0&3^k}\\mat{{rr}2&1\\\\-1&-1}$$"
   ]
  },
  {
   "cell_type": "markdown",
   "metadata": {
    "collapsed": true,
    "slideshow": {
     "slide_type": "fragment"
    }
   },
   "source": [
    "$$=\\mat{{rr}2\\cdot5^k-3^k&5^k-3^k\\\\2\\cdot3^k-2\\cdot5^k&2\\cdot3^k-5^k}$$"
   ]
  },
  {
   "cell_type": "markdown",
   "metadata": {
    "slideshow": {
     "slide_type": "slide"
    }
   },
   "source": [
    "A square matrix $A$ is said to be __diagonalizable__ if $A$ is similar to a diagonal matrix, that is, if \n",
    "\n",
    "$$A = PDP^{-1}$$ \n",
    "\n",
    "for some invertible matrix $P$ and some diagonal matrix $D$."
   ]
  },
  {
   "cell_type": "markdown",
   "metadata": {
    "slideshow": {
     "slide_type": "fragment"
    }
   },
   "source": [
    "Next we will show that to diagonalize a matrix, one __must__ use the eigenvectors and eigenvalues of $A$."
   ]
  },
  {
   "cell_type": "markdown",
   "metadata": {
    "slideshow": {
     "slide_type": "fragment"
    }
   },
   "source": [
    "__Theorem.__ (The Diagonalization Theorem)\n",
    "\n",
    "An $n\\times n$ matrix $A$ is diagonalizable if and only if $A$ has $n$ linearly independent eigenvectors."
   ]
  },
  {
   "cell_type": "markdown",
   "metadata": {
    "slideshow": {
     "slide_type": "fragment"
    }
   },
   "source": [
    "In fact, $A = PDP^{-1},$ with $D$ a diagonal matrix, if and only if the columns of $P$ are $n$ linearly independent eigenvectors of $A.$  "
   ]
  },
  {
   "cell_type": "markdown",
   "metadata": {
    "slideshow": {
     "slide_type": "fragment"
    }
   },
   "source": [
    "In this case, the diagonal entires of $D$ are eigenvalues of $A$ that correspond, respectively, to the eigenvectors in $P$."
   ]
  },
  {
   "cell_type": "markdown",
   "metadata": {
    "slideshow": {
     "slide_type": "fragment"
    }
   },
   "source": [
    " In other words, $A$ is diagonalizable if and only if there are enough eigenvectors to form a basis of $\\R^n$.  \n",
    " \n",
    "We call such a basis an __eigevector basis__ or an __eigenbasis__ of $\\R^n$."
   ]
  },
  {
   "cell_type": "markdown",
   "metadata": {
    "slideshow": {
     "slide_type": "fragment"
    }
   },
   "source": [
    "__Proof.__\n",
    "\n",
    "First, observe that if $P$ is any $n\\times n$ matrix with columns $\\vv_1,\\dots,\\vv_n,$ and if $D$ is any diagonal matrix with diagonal entries $\\lambda_1,\\dots,\\lambda_n,$ then\n",
    "\n",
    "$$AP = A[\\vv_1\\;\\vv_2\\;\\cdots\\;\\vv_n] = [A\\vv_1\\;A\\vv_2\\;\\cdots\\;A\\vv_n]$$"
   ]
  },
  {
   "cell_type": "markdown",
   "metadata": {
    "slideshow": {
     "slide_type": "fragment"
    }
   },
   "source": [
    "while\n",
    "\n",
    "$$PD = P\\mat{{cccc}\\lambda_1&0&\\cdots&0\\\\0&\\lambda_2&\\cdots&0\\\\\\vdots&\\vdots&\\ddots&\\vdots\\\\0&0&\\cdots&\\lambda_n} = [\\lambda_1\\vv_1\\;\\lambda_2\\vv_2\\;\\cdots\\;\\lambda_n\\vv_n].$$"
   ]
  },
  {
   "cell_type": "markdown",
   "metadata": {
    "slideshow": {
     "slide_type": "fragment"
    }
   },
   "source": [
    "Now suppose $A$ is diagonalizable and $A = PDP^{-1}.$  Then right-multiplying this relation by P, we have \n",
    "\n",
    "$$AP = PD$$"
   ]
  },
  {
   "cell_type": "markdown",
   "metadata": {
    "slideshow": {
     "slide_type": "fragment"
    }
   },
   "source": [
    "In this case, the calculations above show that\n",
    "\n",
    "$$[A\\vv_1\\;A\\vv_2\\;\\cdots\\;A\\vv_n] = [\\lambda_1\\vv_1\\;\\lambda_2\\vv_2\\;\\cdots\\;\\lambda_n\\vv_n].$$"
   ]
  },
  {
   "cell_type": "markdown",
   "metadata": {
    "slideshow": {
     "slide_type": "fragment"
    }
   },
   "source": [
    "Equating columns, we find that\n",
    "\n",
    "$$A\\vv_1 = \\lambda_1\\vv_1, \\;\\;\\; A\\vv_2 = \\lambda_2\\vv_2, \\;\\;\\; \\dots, \\;\\;\\; A\\vv_n = \\lambda_n\\vv_n$$"
   ]
  },
  {
   "cell_type": "markdown",
   "metadata": {
    "slideshow": {
     "slide_type": "fragment"
    }
   },
   "source": [
    "Since $P$ is invertible, its columns $\\vv_1, \\dots,\\vv_n$ must be linearly independent.  \n",
    "\n",
    "Also, since these columns are nonzero, the equations above show that $\\lambda_1, \\dots, \\lambda_n$ are eigenvalues and $\\vv_1, \\dots, \\vv_n$ are the corresponding eigenvectors.  \n",
    "\n",
    "This proves the \"only if\" part of the theorem."
   ]
  },
  {
   "cell_type": "markdown",
   "metadata": {
    "slideshow": {
     "slide_type": "fragment"
    }
   },
   "source": [
    "To prove the \"if\" part of the theorem is straightforward:  given an $n$ eigenvectors $\\vv_1,\\dots,\\vv_n,$ use them to construct the columns of $P$ and use corresponding eigenvalues $\\lambda_1, \\dots, \\lambda_n$ to construct $D$.  "
   ]
  },
  {
   "cell_type": "markdown",
   "metadata": {
    "slideshow": {
     "slide_type": "fragment"
    }
   },
   "source": [
    "Using the sequence of equations above in reverse order, we can go from \n",
    "\n",
    "$$A\\vv_1 = \\lambda_1\\vv_1, \\;\\;\\; A\\vv_2 = \\lambda_2\\vv_2, \\;\\;\\; \\dots, \\;\\;\\; A\\vv_n = \\lambda_n\\vv_n$$\n",
    "\n",
    "to \n",
    "\n",
    "$$AP = PD.$$"
   ]
  },
  {
   "cell_type": "markdown",
   "metadata": {
    "slideshow": {
     "slide_type": "fragment"
    }
   },
   "source": [
    "Since the eigenvectors are given as linearly idenpendent, $P$ is invertible and so \n",
    "\n",
    "$$A = PDP^{-1}.$$"
   ]
  },
  {
   "cell_type": "markdown",
   "metadata": {
    "slideshow": {
     "slide_type": "fragment"
    }
   },
   "source": [
    "The takeaway is this:\n",
    "\n",
    "Every $n\\times n$ matrix having $n$ linearly independent eigenvectors can be factored into the product of a matrix $P$, a diagonal matrix $D$, and the inverse of $P$ - where $P$ holds the eigenvectors of $A$, and $D$ holds the eigenvalues of $A$.\n",
    "\n",
    "This is the __eigendecomposition__ of $A$.   \n",
    "\n",
    "(It is quite fundamental!)"
   ]
  },
  {
   "cell_type": "markdown",
   "metadata": {
    "slideshow": {
     "slide_type": "slide"
    }
   },
   "source": [
    "## Diagonalizing a Matrix\n",
    "\n",
    "Let's put this all together and see how to diagonalize a matrix."
   ]
  },
  {
   "cell_type": "markdown",
   "metadata": {
    "slideshow": {
     "slide_type": "fragment"
    }
   },
   "source": [
    "__Example.__  Diagonalize the following matrix, if possible.\n",
    "\n",
    "$$A = \\mat{{rrr}1&3&3\\\\-3&-5&-3\\\\3&3&1}$$\n",
    "\n",
    "That is, find an invertible matrix $P$ and a diagonal matrix $D$ such that $A = PDP^{-1}.$"
   ]
  },
  {
   "cell_type": "markdown",
   "metadata": {
    "slideshow": {
     "slide_type": "fragment"
    }
   },
   "source": [
    "__Solution.__\n",
    "\n",
    "__Step 1: Find the eigenvalues of $A$.__\n",
    "\n",
    "This is routine for us now.  If we are working with $2\\times2$ matrices, we may choose to find the roots of the characteristic polynomial (quadratic).  For anything larger we'd use a computer."
   ]
  },
  {
   "cell_type": "markdown",
   "metadata": {
    "slideshow": {
     "slide_type": "fragment"
    }
   },
   "source": [
    "In this case, the characteristic equation turns out to involve a cubic polynomial that can be factored:\n",
    "\n",
    "$$0 = \\det(A-\\lambda I) $$\n",
    "\n",
    "$$ = -\\lambda^3 - 3\\lambda^2 + 4$$\n",
    "\n",
    "$$ = -(\\lambda -1)(\\lambda +2)^2$$"
   ]
  },
  {
   "cell_type": "markdown",
   "metadata": {
    "slideshow": {
     "slide_type": "fragment"
    }
   },
   "source": [
    "So the eigenvalues are $\\lambda = 1$ and $\\lambda = -2$ (with multiplicity two)."
   ]
  },
  {
   "cell_type": "markdown",
   "metadata": {
    "slideshow": {
     "slide_type": "fragment"
    }
   },
   "source": [
    "__Step 2: Find three linearly independent eigenvectors of $A$.__\n",
    "\n",
    "Note that we need _three_ linearly independent vectors because $A$ is $3\\times3.$  "
   ]
  },
  {
   "cell_type": "markdown",
   "metadata": {
    "slideshow": {
     "slide_type": "fragment"
    }
   },
   "source": [
    "This is the step at which, if $A$ cannot be diagonalized, we find out because we cannot form 3 independent eigenvectors."
   ]
  },
  {
   "cell_type": "markdown",
   "metadata": {
    "slideshow": {
     "slide_type": "fragment"
    }
   },
   "source": [
    "Using our standard method (finding the nullspace of $A - \\lambda I$) we find a basis for each eigenspace:\n",
    "\n",
    "Basis for $\\lambda = 1$: $\\vv_1 = \\mat{{r}1\\\\-1\\\\1}.$\n",
    "\n",
    "Basis for $\\lambda = -2$: $\\vv_2 = \\mat{{r}-1\\\\1\\\\0}$ and $\\vv_3 = \\mat{{r}-1\\\\0\\\\1}.$"
   ]
  },
  {
   "cell_type": "markdown",
   "metadata": {
    "slideshow": {
     "slide_type": "fragment"
    }
   },
   "source": [
    "Check that $\\{\\vv_1, \\vv_2, \\vv_3\\}$ forms a linearly independent set."
   ]
  },
  {
   "cell_type": "markdown",
   "metadata": {
    "slideshow": {
     "slide_type": "fragment"
    }
   },
   "source": [
    "__Step 3: Construct $P$ from the vectors in Step 2.__\n",
    "\n",
    "The order of the vectors is actually not important.\n",
    "\n",
    "$$P = [\\vv_1\\;\\vv_2\\;\\vv_3] = \\mat{{rrr}1&-1&-1\\\\-1&1&0\\\\1&0&1}.$$"
   ]
  },
  {
   "cell_type": "markdown",
   "metadata": {
    "slideshow": {
     "slide_type": "fragment"
    }
   },
   "source": [
    "__Step 4: Construct $D$ from the corresponding eigenvalues.__\n",
    "\n",
    "The order of eigenvalues must match the order of eigenvectors used in the previous step.\n",
    "\n",
    "If an eigenvalue has multiplicity greater than 1, then repeat it the corresponding number of times.\n",
    "\n",
    "$$D = \\mat{{rrr}1&0&0\\\\0&-2&0\\\\0&0&-2}.$$"
   ]
  },
  {
   "cell_type": "markdown",
   "metadata": {
    "slideshow": {
     "slide_type": "fragment"
    }
   },
   "source": [
    "And we are done.   We have diagonalized $A$:\n",
    "\n",
    "$$A =  \\mat{{rrr}1&3&3\\\\-3&-5&-3\\\\3&3&1} = \\mat{{rrr}1&-1&-1\\\\-1&1&0\\\\1&0&1}  \\mat{{rrr}1&0&0\\\\0&-2&0\\\\0&0&-2}\\mat{{rrr}1&-1&-1\\\\-1&1&0\\\\1&0&1}^{-1}$$"
   ]
  },
  {
   "cell_type": "markdown",
   "metadata": {
    "slideshow": {
     "slide_type": "fragment"
    }
   },
   "source": [
    "So, just as a reminder, we can now take powers of $A$ quite efficiently:\n",
    "\n",
    "$$A^{100} = \\mat{{rrr}1&-1&-1\\\\-1&1&0\\\\1&0&1}  \\mat{{rrr}1^{100}&0&0\\\\0&(-2)^{100}&0\\\\0&0&(-2)^{100}}\\mat{{rrr}1&-1&-1\\\\-1&1&0\\\\1&0&1}^{-1}$$"
   ]
  },
  {
   "cell_type": "markdown",
   "metadata": {
    "slideshow": {
     "slide_type": "slide"
    }
   },
   "source": [
    "__Example.__   Let's look at an example of how diagonalization can fail."
   ]
  },
  {
   "cell_type": "markdown",
   "metadata": {
    "slideshow": {
     "slide_type": "fragment"
    }
   },
   "source": [
    "Diagonalize the following matrix, if possible.\n",
    "\n",
    "$$A = \\mat{{rrr}2&4&3\\\\-4&-6&-3\\\\3&3&1}.$$"
   ]
  },
  {
   "cell_type": "markdown",
   "metadata": {
    "slideshow": {
     "slide_type": "fragment"
    }
   },
   "source": [
    "__Solution.__ The characteristic equation of $A$ turns out to be the same as in the last example:\n",
    "\n",
    "$$0 = \\det(A-\\lambda I) = -(\\lambda-1)(\\lambda +2)^2$$"
   ]
  },
  {
   "cell_type": "markdown",
   "metadata": {
    "slideshow": {
     "slide_type": "fragment"
    }
   },
   "source": [
    "The eigenvalues are $\\lambda = 1$ and $\\lambda = -2.$  However, it is easy to verify that each eigenspace is only one-dimensional:\n",
    "\n",
    "Basis for $\\lambda_1 = 1$: $\\vv_1 = \\mat{{r}1\\\\-1\\\\1}.$\n",
    "\n",
    "Basis for $\\lambda_2 = -2$: $\\vv_2 = \\mat{{r}-1\\\\1\\\\0}.$"
   ]
  },
  {
   "cell_type": "markdown",
   "metadata": {
    "slideshow": {
     "slide_type": "fragment"
    }
   },
   "source": [
    "There are not other eigenvalues, and every eigenvector of $A$ is a multiple of either $\\vv_1$ or $\\vv_2.$  "
   ]
  },
  {
   "cell_type": "markdown",
   "metadata": {
    "slideshow": {
     "slide_type": "fragment"
    }
   },
   "source": [
    "Hence it is impossible to construct a basis of $\\R^3$ using eigenvectors of $A$. \n",
    "\n",
    "So we conclude that $A$ is __not__ diagonalizable."
   ]
  },
  {
   "cell_type": "markdown",
   "metadata": {
    "slideshow": {
     "slide_type": "slide"
    }
   },
   "source": [
    "__An Important Case.__\n",
    "\n",
    "There is an important situation in which we can conclude immediately that $A$ is diagonalizable, without explicitly constructing and testing the eigenspaces of $A$."
   ]
  },
  {
   "cell_type": "markdown",
   "metadata": {
    "slideshow": {
     "slide_type": "fragment"
    }
   },
   "source": [
    "__Theorem.__\n",
    "\n",
    "An $n\\times n$ matrix with $n$ distinct eigenvalues is diagonalizable."
   ]
  },
  {
   "cell_type": "markdown",
   "metadata": {
    "slideshow": {
     "slide_type": "fragment"
    }
   },
   "source": [
    "__Proof.__\n",
    "\n",
    "There is a straightforward proof in the book showing that any set of eigenvectors corresponding to distinct eigenvalues is linearly independent.   Using that fact here, we have $n$ linearly independent eigenvectors, so $A$ must be diagonalizable."
   ]
  },
  {
   "cell_type": "markdown",
   "metadata": {
    "slideshow": {
     "slide_type": "fragment"
    }
   },
   "source": [
    "__Example.__\n",
    "\n",
    "Determine if the following matrix is diagonalizable.\n",
    "\n",
    "$$A = \\mat{{rrr}5&-8&1\\\\0&0&7\\\\0&0&-2}.$$"
   ]
  },
  {
   "cell_type": "markdown",
   "metadata": {
    "slideshow": {
     "slide_type": "fragment"
    }
   },
   "source": [
    "__Solution.__\n",
    "\n",
    "It's easy!  Since $A$ is triangular, its eigenvalues are $5, 0,$ and $-2$.  Since $A$ is a $3\\times3$ with 3 distinct eigenvalues, $A$ is diagonalizable."
   ]
  },
  {
   "cell_type": "markdown",
   "metadata": {
    "slideshow": {
     "slide_type": "slide"
    }
   },
   "source": [
    "## Change of Basis\n",
    "\n",
    "We can interpret $A = PDP^{-1}$ in terms of how $A$ acts as a linear operator."
   ]
  },
  {
   "cell_type": "markdown",
   "metadata": {
    "slideshow": {
     "slide_type": "fragment"
    }
   },
   "source": [
    "When thinking of $A$ as a linear operator, diagonalization has a specific interpretation: __it separates the influence of each vector component from the others.__"
   ]
  },
  {
   "cell_type": "markdown",
   "metadata": {
    "slideshow": {
     "slide_type": "fragment"
    }
   },
   "source": [
    "Intuitively, the point to see is that when we multiply a vector $\\vx$ by a diagonal matrix $D$, the change to each component of $\\vx$ depends only on that component.  "
   ]
  },
  {
   "cell_type": "markdown",
   "metadata": {
    "slideshow": {
     "slide_type": "fragment"
    }
   },
   "source": [
    "On the other hand, when we multiply by a matrix $A$ that has off-diagonal entries, the components of $\\vx$ affect each other."
   ]
  },
  {
   "cell_type": "markdown",
   "metadata": {
    "slideshow": {
     "slide_type": "fragment"
    }
   },
   "source": [
    "This allows us to bring intuition to the problem, and simplifies computation."
   ]
  },
  {
   "cell_type": "markdown",
   "metadata": {
    "slideshow": {
     "slide_type": "slide"
    }
   },
   "source": [
    "__Interpreting Diagonalization Geometrically__\n",
    "\n",
    "When we compute $P\\vx,$ we are taking a vector sum of the columns of $P$:\n",
    "\n",
    "$$P\\vx = \\vp_1 x_1 + \\vp_2 x_2 + \\dots \\vp_n x_n.$$"
   ]
  },
  {
   "cell_type": "markdown",
   "metadata": {
    "slideshow": {
     "slide_type": "fragment"
    }
   },
   "source": [
    "Now $P$ is invertible, so its columns are a basis for $\\R^n$.  Let's say  $\\mathcal{B} = \\{\\vp_1, \\vp_2, \\dots, \\vp_n\\}.$  \n",
    "\n",
    "So, we can think of $P\\vx$ as \"the point that has coordinates $\\vx$ in the basis $\\mathcal{B}$.\"   "
   ]
  },
  {
   "cell_type": "markdown",
   "metadata": {
    "slideshow": {
     "slide_type": "fragment"
    }
   },
   "source": [
    "We write this statement as $P\\vx = [\\vx]_\\mathcal{B}.$"
   ]
  },
  {
   "cell_type": "markdown",
   "metadata": {
    "slideshow": {
     "slide_type": "fragment"
    }
   },
   "source": [
    "What about $P^{-1}$?   \n",
    "\n",
    "Since $P^{-1}P\\vx = \\vx,$ then $P^{-1}\\vx$ is \"the coordinates of $\\vx$ in the basis $\\mathcal{B}$\""
   ]
  },
  {
   "cell_type": "markdown",
   "metadata": {
    "slideshow": {
     "slide_type": "fragment"
    }
   },
   "source": [
    "So we can interpret $PDP^{-1}\\vx$ as:\n",
    "\n",
    "1) Compute the coordinates of $\\vx$ in the basis $\\mathcal{B}$.   \n",
    "\n",
    "This is $P^{-1}\\vx.$"
   ]
  },
  {
   "cell_type": "markdown",
   "metadata": {
    "slideshow": {
     "slide_type": "fragment"
    }
   },
   "source": [
    "2) Scale those coordinates according to the diagonal matrix $D$.   \n",
    "\n",
    "This is $DP^{-1}\\vx.$"
   ]
  },
  {
   "cell_type": "markdown",
   "metadata": {
    "slideshow": {
     "slide_type": "fragment"
    }
   },
   "source": [
    "3) Find the point that has those scaled coordinates in the basis $\\mathcal{B}.$ \n",
    " \n",
    "This is $PDP^{-1}\\vx.$\n",
    "    "
   ]
  },
  {
   "cell_type": "markdown",
   "metadata": {
    "slideshow": {
     "slide_type": "slide"
    }
   },
   "source": [
    "Let's visualize diagonalization geometrically.\n",
    "\n",
    "Here is $A$ transforming a point $\\vx = \\mat{{rr}2.47\\\\1.25}$."
   ]
  },
  {
   "cell_type": "code",
   "execution_count": 3,
   "metadata": {
    "collapsed": false,
    "slideshow": {
     "slide_type": "fragment"
    }
   },
   "outputs": [
    {
     "data": {
      "text/html": [
       "<div id=\"97349e897d760f71\"></div>\n",
       "    <script type=\"text/javascript\">\n",
       "        $(function(){\n",
       "            var p = $(\"#97349e897d760f71\");\n",
       "            if (p.length==0) return;\n",
       "\n",
       "            while (!p.hasClass(\"cell\")) {\n",
       "                p=p.parent();\n",
       "\n",
       "                if (p.prop(\"tagName\") ==\"body\") return;\n",
       "            }\n",
       "            var cell = p;\n",
       "            cell.find(\".input\").addClass(\"hide-in-slideshow\")\n",
       "        });\n",
       "    </script>"
      ]
     },
     "metadata": {},
     "output_type": "display_data"
    },
    {
     "name": "stdout",
     "output_type": "stream",
     "text": [
      "\n"
     ]
    },
    {
     "data": {
      "image/png": "[encoded data removed]",
      "text/plain": [
       "<matplotlib.figure.Figure at 0x10f435450>"
      ]
     },
     "metadata": {
      "image/png": {
       "height": 247,
       "width": 358
      }
     },
     "output_type": "display_data"
    }
   ],
   "source": [
    "sl.hide_code_in_slideshow()\n",
    "ax = ut.plotSetup(-1,6,-1,6)\n",
    "ut.centerAxes(ax)\n",
    "v1 = np.array([5.0,1.0])\n",
    "v1 = v1 / np.sqrt(np.sum(v1*v1))\n",
    "v2 = np.array([3.0,5.0])\n",
    "v2 = v2 / np.sqrt(np.sum(v2*v2))\n",
    "# ut.plotVec(ax,v1,'b')\n",
    "# ut.plotVec(ax,v2)\n",
    "# ut.plotLinEqn(-v1[1],v1[0],0,color='b')\n",
    "# ut.plotLinEqn(-v2[1],v2[0],0,color='r')\n",
    "# for i in range(-4,8):\n",
    "#    ut.plotLinEqn(-v1[1],v1[0],i*(v1[0]*v2[1]-v1[1]*v2[0]),format=':',color='b')\n",
    "#    ut.plotLinEqn(-v2[1],v2[0],i*(v2[0]*v1[1]-v2[1]*v1[0]),format=':',color='r')\n",
    "p1 = 2*v1+v2\n",
    "p2 = 4*v1+3*v2\n",
    "ut.plotVec(ax, p1,'k')\n",
    "ut.plotVec(ax, p2,'k')\n",
    "ax.annotate('', xy=(p2[0], p2[1]),  xycoords='data',\n",
    "                xytext=(p1[0], p1[1]), textcoords='data',\n",
    "                size=15,\n",
    "                #bbox=dict(boxstyle=\"round\", fc=\"0.8\"),\n",
    "                arrowprops={'arrowstyle': 'simple',\n",
    "                                'fc': '0.7', \n",
    "                                'ec': 'none',\n",
    "                                'connectionstyle' : 'arc3,rad=-0.3'},\n",
    "                )\n",
    "ax.text(2.5,0.75,r'${\\bf x}$',size=16)\n",
    "ax.text(5.2,2.75,r'$A{\\bf x}$',size=16)\n",
    "ax.plot(0,0,'')\n",
    "print ''"
   ]
  },
  {
   "cell_type": "markdown",
   "metadata": {
    "slideshow": {
     "slide_type": "fragment"
    }
   },
   "source": [
    "Now, let's compute $P^{-1}\\vx.$\n",
    "\n",
    "This is the coordinates of the point $\\vx$ in the basis $\\mathcal{B}:$"
   ]
  },
  {
   "cell_type": "code",
   "execution_count": 4,
   "metadata": {
    "collapsed": false,
    "slideshow": {
     "slide_type": "fragment"
    }
   },
   "outputs": [
    {
     "data": {
      "text/html": [
       "<div id=\"c4d6754ccf8717a4\"></div>\n",
       "    <script type=\"text/javascript\">\n",
       "        $(function(){\n",
       "            var p = $(\"#c4d6754ccf8717a4\");\n",
       "            if (p.length==0) return;\n",
       "\n",
       "            while (!p.hasClass(\"cell\")) {\n",
       "                p=p.parent();\n",
       "\n",
       "                if (p.prop(\"tagName\") ==\"body\") return;\n",
       "            }\n",
       "            var cell = p;\n",
       "            cell.find(\".input\").addClass(\"hide-in-slideshow\")\n",
       "        });\n",
       "    </script>"
      ]
     },
     "metadata": {},
     "output_type": "display_data"
    },
    {
     "name": "stdout",
     "output_type": "stream",
     "text": [
      "\n"
     ]
    },
    {
     "data": {
      "image/png": "[encoded data removed]",
      "text/plain": [
       "<matplotlib.figure.Figure at 0x10f50d210>"
      ]
     },
     "metadata": {
      "image/png": {
       "height": 247,
       "width": 358
      }
     },
     "output_type": "display_data"
    }
   ],
   "source": [
    "sl.hide_code_in_slideshow()\n",
    "ax = ut.plotSetup(-1,6,-1,6)\n",
    "ut.centerAxes(ax)\n",
    "v1 = np.array([5.0,1.0])\n",
    "v1 = v1 / np.sqrt(np.sum(v1*v1))\n",
    "v2 = np.array([3.0,5.0])\n",
    "v2 = v2 / np.sqrt(np.sum(v2*v2))\n",
    "ut.plotVec(ax,v1,'b')\n",
    "ut.plotVec(ax,v2)\n",
    "ut.plotLinEqn(-v1[1],v1[0],0,color='b')\n",
    "ut.plotLinEqn(-v2[1],v2[0],0,color='r')\n",
    "for i in range(-4,8):\n",
    "    ut.plotLinEqn(-v1[1],v1[0],i*(v1[0]*v2[1]-v1[1]*v2[0]),format=':',color='b')\n",
    "    ut.plotLinEqn(-v2[1],v2[0],i*(v2[0]*v1[1]-v2[1]*v1[0]),format=':',color='r')\n",
    "p1 = 2*v1+v2\n",
    "p2 = 4*v1+3*v2\n",
    "ut.plotVec(ax, p1,'k')\n",
    "#ut.plotVec(ax, p2,'k')\n",
    "#ax.annotate('', xy=(p2[0], p2[1]),  xycoords='data',\n",
    "#                xytext=(p1[0], p1[1]), textcoords='data',\n",
    "#                size=15,\n",
    "                #bbox=dict(boxstyle=\"round\", fc=\"0.8\"),\n",
    "#                arrowprops={'arrowstyle': 'simple',\n",
    "#                                'fc': '0.7', \n",
    "#                                'ec': 'none',\n",
    "#                                'connectionstyle' : 'arc3,rad=-0.3'},\n",
    "#                )\n",
    "ax.text(2.5,0.75,r'${\\bf x}$',size=16)\n",
    "ax.text(v2[0]-0.15,v2[1]+0.5,r'${\\bf p_2}$',size=16)\n",
    "ax.text(v1[0]-0.15,v1[1]+0.35,r'${\\bf p_1}$',size=16)\n",
    "#ax.text(5.2,2.75,r'$A{\\bf x}$',size=16)\n",
    "ax.plot(0,0,'')\n",
    "print ''"
   ]
  },
  {
   "cell_type": "markdown",
   "metadata": {
    "slideshow": {
     "slide_type": "-"
    }
   },
   "source": [
    "The coordinates of $\\vx$ in this basis are (2,1).  \n",
    "\n",
    "In other words $\\vx = \\mat{{r}2\\\\1}_\\mathcal{B}.$"
   ]
  },
  {
   "cell_type": "markdown",
   "metadata": {
    "slideshow": {
     "slide_type": "fragment"
    }
   },
   "source": [
    "Now, we compute $DP^{-1}\\vx.$  Since $D$ is diagonal, this is just scaling $[\\vx]_\\mathcal{B}$.  \n",
    "\n",
    "In this example the eigenvalue corresponding to $\\vp_1$ is 2, and the eigenvalue corresponding to $\\vp_2$ is 3."
   ]
  },
  {
   "cell_type": "code",
   "execution_count": 5,
   "metadata": {
    "collapsed": false,
    "slideshow": {
     "slide_type": "fragment"
    }
   },
   "outputs": [
    {
     "data": {
      "text/html": [
       "<div id=\"25e01296790862d3\"></div>\n",
       "    <script type=\"text/javascript\">\n",
       "        $(function(){\n",
       "            var p = $(\"#25e01296790862d3\");\n",
       "            if (p.length==0) return;\n",
       "\n",
       "            while (!p.hasClass(\"cell\")) {\n",
       "                p=p.parent();\n",
       "\n",
       "                if (p.prop(\"tagName\") ==\"body\") return;\n",
       "            }\n",
       "            var cell = p;\n",
       "            cell.find(\".input\").addClass(\"hide-in-slideshow\")\n",
       "        });\n",
       "    </script>"
      ]
     },
     "metadata": {},
     "output_type": "display_data"
    },
    {
     "name": "stdout",
     "output_type": "stream",
     "text": [
      "\n"
     ]
    },
    {
     "data": {
      "image/png": "[encoded data removed]",
      "text/plain": [
       "<matplotlib.figure.Figure at 0x10e8ed210>"
      ]
     },
     "metadata": {
      "image/png": {
       "height": 247,
       "width": 358
      }
     },
     "output_type": "display_data"
    }
   ],
   "source": [
    "sl.hide_code_in_slideshow()\n",
    "ax = ut.plotSetup(-1,6,-1,6)\n",
    "ut.centerAxes(ax)\n",
    "v1 = np.array([5.0,1.0])\n",
    "v1 = v1 / np.sqrt(np.sum(v1*v1))\n",
    "v2 = np.array([3.0,5.0])\n",
    "v2 = v2 / np.sqrt(np.sum(v2*v2))\n",
    "#ut.plotVec(ax,v1,'b')\n",
    "#ut.plotVec(ax,v2)\n",
    "ut.plotLinEqn(-v1[1],v1[0],0,color='b')\n",
    "ut.plotLinEqn(-v2[1],v2[0],0,color='r')\n",
    "for i in range(-4,8):\n",
    "    ut.plotLinEqn(-v1[1],v1[0],i*(v1[0]*v2[1]-v1[1]*v2[0]),format=':',color='b')\n",
    "    ut.plotLinEqn(-v2[1],v2[0],i*(v2[0]*v1[1]-v2[1]*v1[0]),format=':',color='r')\n",
    "p1 = 2*v1+v2\n",
    "p2 = 4*v1+3*v2\n",
    "ut.plotVec(ax, p1,'k')\n",
    "ut.plotVec(ax, p2,'k')\n",
    "ax.annotate('', xy=(p2[0], p2[1]),  xycoords='data',\n",
    "                xytext=(p1[0], p1[1]), textcoords='data',\n",
    "                size=15,\n",
    "                #bbox=dict(boxstyle=\"round\", fc=\"0.8\"),\n",
    "                arrowprops={'arrowstyle': 'simple',\n",
    "                                'fc': '0.7', \n",
    "                                'ec': 'none',\n",
    "                                'connectionstyle' : 'arc3,rad=-0.3'},\n",
    "                )\n",
    "ax.text(2.5,0.75,r'${\\bf x}$',size=16)\n",
    "ax.text(5.2,2.75,r'$A{\\bf x}$',size=16)\n",
    "ax.plot(0,0,'')\n",
    "print ''"
   ]
  },
  {
   "cell_type": "markdown",
   "metadata": {},
   "source": [
    "So the coordinates of $A\\vx$ in the basis $\\mathcal{B}$ are $\\mat{{r}4\\\\3}_\\mathcal{B}.$"
   ]
  },
  {
   "cell_type": "markdown",
   "metadata": {
    "slideshow": {
     "slide_type": "fragment"
    }
   },
   "source": [
    "Now we convert back to the standard basis -- that is, we ask which point has coordinates (4,3) in basis $\\mathcal{B}.$\n",
    "\n",
    "We rely on the definition $[\\vv]_\\mathcal{B} = P\\vv.$\n",
    "\n",
    "So $A\\vx = P\\mat{{r}4\\\\3} = PDP^{-1}\\vx.$"
   ]
  },
  {
   "cell_type": "code",
   "execution_count": 6,
   "metadata": {
    "collapsed": false
   },
   "outputs": [
    {
     "data": {
      "text/html": [
       "<div id=\"fc202552b1183903\"></div>\n",
       "    <script type=\"text/javascript\">\n",
       "        $(function(){\n",
       "            var p = $(\"#fc202552b1183903\");\n",
       "            if (p.length==0) return;\n",
       "\n",
       "            while (!p.hasClass(\"cell\")) {\n",
       "                p=p.parent();\n",
       "\n",
       "                if (p.prop(\"tagName\") ==\"body\") return;\n",
       "            }\n",
       "            var cell = p;\n",
       "            cell.find(\".input\").addClass(\"hide-in-slideshow\")\n",
       "        });\n",
       "    </script>"
      ]
     },
     "metadata": {},
     "output_type": "display_data"
    },
    {
     "name": "stdout",
     "output_type": "stream",
     "text": [
      "\n"
     ]
    },
    {
     "data": {
      "image/png": "[encoded data removed]",
      "text/plain": [
       "<matplotlib.figure.Figure at 0x10f50cad0>"
      ]
     },
     "metadata": {
      "image/png": {
       "height": 247,
       "width": 358
      }
     },
     "output_type": "display_data"
    }
   ],
   "source": [
    "sl.hide_code_in_slideshow()\n",
    "ax = ut.plotSetup(-1,6,-1,6)\n",
    "ut.centerAxes(ax)\n",
    "v1 = np.array([5.0,1.0])\n",
    "v1 = v1 / np.sqrt(np.sum(v1*v1))\n",
    "v2 = np.array([3.0,5.0])\n",
    "v2 = v2 / np.sqrt(np.sum(v2*v2))\n",
    "#ut.plotVec(ax,v1,'b')\n",
    "#ut.plotVec(ax,v2)\n",
    "#ut.plotLinEqn(-v1[1],v1[0],0,color='b')\n",
    "#ut.plotLinEqn(-v2[1],v2[0],0,color='r')\n",
    "#for i in range(-3,8):\n",
    "#    ut.plotLinEqn(-v1[1],v1[0],i*(v1[0]*v2[1]-v1[1]*v2[0]),format=':',color='b')\n",
    "#    ut.plotLinEqn(-v2[1],v2[0],i*(v2[0]*v1[1]-v2[1]*v1[0]),format=':',color='r')\n",
    "p1 = 2*v1+v2\n",
    "p2 = 4*v1+3*v2\n",
    "#ut.plotVec(ax, p1,'k')\n",
    "ut.plotVec(ax, p2,'k')\n",
    "#ax.annotate('', xy=(p2[0], p2[1]),  xycoords='data',\n",
    "#                xytext=(p1[0], p1[1]), textcoords='data',\n",
    "#                size=15,\n",
    "#                #bbox=dict(boxstyle=\"round\", fc=\"0.8\"),\n",
    "#                arrowprops={'arrowstyle': 'simple',\n",
    "#                                'fc': '0.7', \n",
    "#                                'ec': 'none',\n",
    "#                                'connectionstyle' : 'arc3,rad=-0.3'},\n",
    "#                )\n",
    "#ax.text(2.5,0.75,r'${\\bf x}$',size=16)\n",
    "ax.text(5.2,2.75,r'$A{\\bf x}$',size=16)\n",
    "ax.plot(0,0,'')\n",
    "print ''"
   ]
  },
  {
   "cell_type": "markdown",
   "metadata": {},
   "source": [
    "We find that $A\\vx$ = $PDP^{-1}\\vx = \\mat{{r}5.46\\\\3.35}.$\n",
    "\n",
    "In conclusion: notice that the transformation $\\vx \\mapsto A\\vx$ may be a complicated one in which each component of $\\vx$ affects each component of $A\\vx$.   \n",
    "\n",
    "However, by changing to the basis defined by the eigenspaces of $A$, the action of $A$ becomes simple to understand. "
   ]
  }
 ],
 "metadata": {
  "celltoolbar": "Slideshow",
  "kernelspec": {
   "display_name": "Python 2",
   "language": "python",
   "name": "python2"
  },
  "language_info": {
   "codemirror_mode": {
    "name": "ipython",
    "version": 2
   },
   "file_extension": ".py",
   "mimetype": "text/x-python",
   "name": "python",
   "nbconvert_exporter": "python",
   "pygments_lexer": "ipython2",
   "version": "2.7.6"
  }
 },
 "nbformat": 4,
 "nbformat_minor": 0
}
