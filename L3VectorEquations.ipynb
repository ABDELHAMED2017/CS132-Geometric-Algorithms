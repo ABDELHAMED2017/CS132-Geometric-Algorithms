{
 "metadata": {
  "celltoolbar": "Slideshow",
  "name": "",
  "signature": "sha256:5667c80accaea78dea229ee092fbe61087d1d43968684fe6fa1dcdac49535e22"
 },
 "nbformat": 3,
 "nbformat_minor": 0,
 "worksheets": [
  {
   "cells": [
    {
     "cell_type": "heading",
     "level": 1,
     "metadata": {
      "internals": {
       "slide_type": "subslide"
      },
      "slideshow": {
       "slide_type": "slide"
      }
     },
     "source": [
      "Vector Equations"
     ]
    },
    {
     "cell_type": "code",
     "collapsed": false,
     "input": [
      "%matplotlib inline\n",
      "%config InlineBackend.figure_format='retina'\n",
      "\n",
      "# import libraries\n",
      "import numpy as np\n",
      "import matplotlib as mp\n",
      "import pandas as pd\n",
      "import matplotlib.pyplot as plt\n",
      "import laUtilities as ut\n",
      "import slideUtilities as sl\n",
      "from IPython.display import Image\n",
      "from IPython.display import display_html\n",
      "from IPython.display import display\n",
      "reload(ut)\n",
      "print ''"
     ],
     "language": "python",
     "metadata": {
      "internals": {},
      "slideshow": {
       "slide_type": "skip"
      }
     },
     "outputs": [
      {
       "output_type": "stream",
       "stream": "stdout",
       "text": [
        "\n"
       ]
      }
     ],
     "prompt_number": 1
    },
    {
     "cell_type": "code",
     "collapsed": false,
     "input": [
      "%%html\n",
      "<style>\n",
      " .container.slides .celltoolbar, .container.slides .hide-in-slideshow {\n",
      "    display: None ! important;\n",
      "}\n",
      "</style>"
     ],
     "language": "python",
     "metadata": {
      "internals": {
       "slide_helper": "subslide_end"
      },
      "slide_helper": "slide_end",
      "slideshow": {
       "slide_type": "skip"
      }
     },
     "outputs": [
      {
       "html": [
        "<style>\n",
        " .container.slides .celltoolbar, .container.slides .hide-in-slideshow {\n",
        "    display: None ! important;\n",
        "}\n",
        "</style>"
       ],
       "metadata": {},
       "output_type": "display_data",
       "text": [
        "<IPython.core.display.HTML at 0x1058811d0>"
       ]
      }
     ],
     "prompt_number": 2
    },
    {
     "cell_type": "heading",
     "level": 2,
     "metadata": {
      "internals": {
       "slide_type": "subslide"
      },
      "slideshow": {
       "slide_type": "slide"
      }
     },
     "source": [
      "Vectors"
     ]
    },
    {
     "cell_type": "markdown",
     "metadata": {
      "internals": {},
      "slideshow": {
       "slide_type": "-"
      }
     },
     "source": [
      "We're going to expand our view of what a linear system can represent.   Instead of thinking of it as a collection of equations, we are going to think about it as a __single__ equation.  This is a major shift in perspective that will open up an entirely new way of thinking about matrices."
     ]
    },
    {
     "cell_type": "markdown",
     "metadata": {
      "internals": {
       "frag_number": 5
      },
      "slideshow": {
       "slide_type": "fragment"
      }
     },
     "source": [
      "To do that we need to introduce the idea of a __vector__.  We'll mainly talk about vectors today. We'll then return to thinking about a linear system -- now interpreted as a _vector_ equation -- in the next lecture."
     ]
    },
    {
     "cell_type": "markdown",
     "metadata": {
      "internals": {
       "frag_helper": "fragment_end",
       "frag_number": 6
      },
      "slideshow": {
       "slide_type": "fragment"
      }
     },
     "source": [
      "A matrix with only one column is called a __column vector__, or simply a __vector__.\n",
      "\n",
      "Here are some examples.\n",
      "\n",
      "These are vectors in $\\mathbb{R}^2$:\n",
      "$$\n",
      "\\begin{array}{ccc}\n",
      "{\\bf u} = \\left[\\begin{array}{c}3\\\\-1\\end{array}\\right] &\n",
      "{\\bf v} = \\left[\\begin{array}{c}.2\\\\.3\\end{array}\\right] &\n",
      "{\\bf w} = \\left[\\begin{array}{c}w_1\\\\w_2\\end{array}\\right]\n",
      "\\end{array}\n",
      "$$\n"
     ]
    },
    {
     "cell_type": "markdown",
     "metadata": {
      "internals": {
       "frag_helper": "fragment_end",
       "frag_number": 7,
       "slide_helper": "subslide_end"
      },
      "slide_helper": "slide_end",
      "slideshow": {
       "slide_type": "fragment"
      }
     },
     "source": [
      "These are vectors in $\\mathbb{R}^3$:\n",
      "\n",
      "$$\n",
      "\\begin{array}{ccc}\n",
      "{\\bf u} = \\left[\\begin{array}{c}2\\\\3\\\\4\\end{array}\\right] &\n",
      "{\\bf v} = \\left[\\begin{array}{c}-1\\\\0\\\\2\\end{array}\\right] &\n",
      "{\\bf w} = \\left[\\begin{array}{c}w_1\\\\w_2\\\\w_3\\end{array}\\right]\n",
      "\\end{array}\n",
      "$$"
     ]
    },
    {
     "cell_type": "heading",
     "level": 2,
     "metadata": {
      "internals": {
       "frag_helper": "fragment_end",
       "frag_number": 7,
       "slide_type": "subslide"
      },
      "slideshow": {
       "slide_type": "slide"
      }
     },
     "source": [
      "Vectors are Fundamental Objects"
     ]
    },
    {
     "cell_type": "markdown",
     "metadata": {
      "internals": {
       "frag_helper": "fragment_end",
       "frag_number": 7
      },
      "slideshow": {
       "slide_type": "-"
      }
     },
     "source": [
      "We are going to define operations over vectors, so that we can write equations in terms of vectors.  In particular, we now define how to compare vectors, add vectors, and multiply vectors __by a scalar__."
     ]
    },
    {
     "cell_type": "markdown",
     "metadata": {
      "internals": {
       "frag_helper": "fragment_end",
       "frag_number": 10
      },
      "slideshow": {
       "slide_type": "fragment"
      }
     },
     "source": [
      "First: Two vectors are __equal__ if and only if their corresponding entries are equal.\n",
      "\n",
      "Thus $\\left[\\begin{array}{c}7\\\\4\\end{array}\\right]$ and $\\left[\\begin{array}{c}4\\\\7\\end{array}\\right]$ are __not__ equal."
     ]
    },
    {
     "cell_type": "markdown",
     "metadata": {
      "internals": {
       "frag_helper": "fragment_end",
       "frag_number": 10
      },
      "slideshow": {
       "slide_type": "-"
      }
     },
     "source": [
      "Next: Multiplying a vector by a scalar is accomplished by multiplying each entry by the scalar.\n",
      "\n",
      "For example:\n",
      "$$3 \\left[\\begin{array}{c}1\\\\-2\\end{array}\\right] = \\left[\\begin{array}{c}3\\\\-6\\end{array}\\right]$$"
     ]
    },
    {
     "cell_type": "markdown",
     "metadata": {
      "internals": {
       "frag_helper": "fragment_end",
       "frag_number": 12
      },
      "slideshow": {
       "slide_type": "fragment"
      }
     },
     "source": [
      "And finally: the sum of two vectors is the vector whose entries are the corresponding sums.\n",
      "\n",
      "For example:\n",
      "\n",
      "$$\\left[\\begin{array}{c}1\\\\-2\\end{array}\\right] + \\left[\\begin{array}{c}2\\\\5\\end{array}\\right] = \\left[\\begin{array}{c}1 + 2\\\\-2 + 5\\end{array}\\right] = \\left[\\begin{array}{c}3\\\\3\\end{array}\\right].$$"
     ]
    },
    {
     "cell_type": "markdown",
     "metadata": {
      "internals": {
       "frag_helper": "fragment_end",
       "frag_number": 12
      },
      "slideshow": {
       "slide_type": "-"
      }
     },
     "source": [
      "Note that vectors of different sizes cannot be compared or added.  For example, if ${\\bf u} \\in \\mathbb{R}^2$ and ${\\bf v} \\in \\mathbb{R}^3$, we cannot ask whether ${\\bf u} = {\\bf v}$, and ${\\bf u} + {\\bf v}$ is undefined."
     ]
    },
    {
     "cell_type": "markdown",
     "metadata": {
      "internals": {
       "frag_helper": "fragment_end",
       "frag_number": 14,
       "slide_helper": "subslide_end"
      },
      "slide_helper": "slide_end",
      "slideshow": {
       "slide_type": "fragment"
      }
     },
     "source": [
      "So with these three definitions, we have all the tools to write equations using vectors.  \n",
      "\n",
      "For example, if ${\\bf u} = \\left[\\begin{array}{c}1\\\\-2\\end{array}\\right]$ and  ${\\bf v} = \\left[\\begin{array}{c}2\\\\-5\\end{array}\\right]$ then \n",
      "\n",
      "$$ 4{\\bf u} - 3{\\bf v} = \\left[\\begin{array}{c}-2\\\\7\\end{array}\\right] $$"
     ]
    },
    {
     "cell_type": "heading",
     "level": 2,
     "metadata": {
      "internals": {
       "frag_helper": "fragment_end",
       "frag_number": 14,
       "slide_type": "subslide"
      },
      "slideshow": {
       "slide_type": "slide"
      }
     },
     "source": [
      "Vectors Correspond to Points"
     ]
    },
    {
     "cell_type": "markdown",
     "metadata": {
      "internals": {
       "frag_helper": "fragment_end",
       "frag_number": 14
      },
      "slideshow": {
       "slide_type": "-"
      }
     },
     "source": [
      "As already noted, an ordered sequence of $n$ numbers can be thought of as a point in $\\mathbb{R}^n$.  Hence, a vector like $\\left[\\begin{array}{c}-2\\\\-1\\end{array}\\right]$ (also denoted $(-2,-1)$) can be thought of as a point on the plane."
     ]
    },
    {
     "cell_type": "code",
     "collapsed": false,
     "input": [
      "# No need to study this code unless you want to.\n",
      "sl.hide_code_in_slideshow()\n",
      "ax = ut.plotSetup()\n",
      "ut.centerAxes(ax)\n",
      "ut.plotPoint(ax, -2,-1)\n",
      "ut.plotPoint(ax, 2,2)\n",
      "ut.plotPoint(ax, 3,-1)\n",
      "ax.plot(0,-2,'')\n",
      "ax.plot(-4,0,'')\n",
      "ax.text(3.5,-1.1,'$(3,-1)$')\n",
      "ax.text(2.5, 1.9, '$(2,2)$')\n",
      "ax.text(-3.6, -1.1, '$(-2,-1)$')\n",
      "print ''"
     ],
     "language": "python",
     "metadata": {
      "internals": {
       "frag_helper": "fragment_end",
       "frag_number": 14,
       "slide_helper": "subslide_end"
      },
      "slide_helper": "slide_end",
      "slideshow": {
       "slide_type": "-"
      }
     },
     "outputs": [
      {
       "html": [
        "<div id=\"769b83144b635329\"></div>\n",
        "    <script type=\"text/javascript\">\n",
        "        $(function(){\n",
        "            var p = $(\"#769b83144b635329\");\n",
        "            if (p.length==0) return;\n",
        "\n",
        "            while (!p.hasClass(\"cell\")) {\n",
        "                p=p.parent();\n",
        "\n",
        "                if (p.prop(\"tagName\") ==\"body\") return;\n",
        "            }\n",
        "            var cell = p;\n",
        "            cell.find(\".input\").addClass(\"hide-in-slideshow\")\n",
        "        });\n",
        "    </script>"
       ],
       "metadata": {},
       "output_type": "display_data"
      },
      {
       "output_type": "stream",
       "stream": "stdout",
       "text": [
        "\n"
       ]
      },
      {
       "metadata": {
        "png": {
         "height": 242,
         "width": 349
        }
       },
       "output_type": "display_data",
       "png": "[encoded data removed]",
       "text": [
        "<matplotlib.figure.Figure at 0x10ef91750>"
       ]
      }
     ],
     "prompt_number": 3
    },
    {
     "cell_type": "markdown",
     "metadata": {
      "internals": {
       "frag_helper": "fragment_end",
       "frag_number": 14,
       "slide_type": "subslide"
      },
      "slideshow": {
       "slide_type": "slide"
      }
     },
     "source": [
      "Sometimes we draw an arrow from the origin to the point.  This comes from physics, but can be a helpful visualization in any case."
     ]
    },
    {
     "cell_type": "code",
     "collapsed": false,
     "input": [
      "# No need to study this code unless you want to.\n",
      "sl.hide_code_in_slideshow()\n",
      "ax = ut.plotSetup()\n",
      "ut.centerAxes(ax)\n",
      "ax.arrow(0,0,-2,-1,head_width=0.2, head_length=0.2)\n",
      "ax.arrow(0,0,2,2,head_width=0.2, head_length=0.2)\n",
      "ax.arrow(0,0,3,-1,head_width=0.2, head_length=0.2)\n",
      "ax.plot(0,-2,'')\n",
      "ax.plot(-4,0,'')\n",
      "ax.plot(0,2,'')\n",
      "ax.plot(4,0,'')\n",
      "ax.text(3.5,-1.1,'$(3,-1)$')\n",
      "ax.text(2.5, 1.9, '$(2,2)$')\n",
      "ax.text(-3.6, -1.1, '$(-2,-1)$')\n",
      "print ''"
     ],
     "language": "python",
     "metadata": {
      "internals": {
       "frag_helper": "fragment_end",
       "frag_number": 14,
       "slide_helper": "subslide_end"
      },
      "slide_helper": "slide_end",
      "slideshow": {
       "slide_type": "-"
      }
     },
     "outputs": [
      {
       "html": [
        "<div id=\"2aa5509d78388ea8\"></div>\n",
        "    <script type=\"text/javascript\">\n",
        "        $(function(){\n",
        "            var p = $(\"#2aa5509d78388ea8\");\n",
        "            if (p.length==0) return;\n",
        "\n",
        "            while (!p.hasClass(\"cell\")) {\n",
        "                p=p.parent();\n",
        "\n",
        "                if (p.prop(\"tagName\") ==\"body\") return;\n",
        "            }\n",
        "            var cell = p;\n",
        "            cell.find(\".input\").addClass(\"hide-in-slideshow\")\n",
        "        });\n",
        "    </script>"
       ],
       "metadata": {},
       "output_type": "display_data"
      },
      {
       "output_type": "stream",
       "stream": "stdout",
       "text": [
        "\n"
       ]
      },
      {
       "metadata": {
        "png": {
         "height": 242,
         "width": 349
        }
       },
       "output_type": "display_data",
       "png": "[encoded data removed]",
       "text": [
        "<matplotlib.figure.Figure at 0x10ef760d0>"
       ]
      }
     ],
     "prompt_number": 4
    },
    {
     "cell_type": "heading",
     "level": 2,
     "metadata": {
      "internals": {
       "frag_helper": "fragment_end",
       "frag_number": 14,
       "slide_type": "subslide"
      },
      "slideshow": {
       "slide_type": "slide"
      }
     },
     "source": [
      "Vector Addition, Geometrically"
     ]
    },
    {
     "cell_type": "markdown",
     "metadata": {
      "internals": {
       "frag_helper": "fragment_end",
       "frag_number": 14
      },
      "slideshow": {
       "slide_type": "-"
      }
     },
     "source": [
      "A geometric interpretation of vector sum is as a parallelogram.  If ${\\bf u}$ and ${\\bf v}$ in $\\mathbb{R}^2$ are represented as points in the plane, then ${\\bf u} + {\\bf v}$ corresponds to the fourth vertex of the parallelogram whose other vertices are ${\\bf u}, 0,$ and ${\\bf v}$."
     ]
    },
    {
     "cell_type": "code",
     "collapsed": false,
     "input": [
      "sl.hide_code_in_slideshow()\n",
      "ax = ut.plotSetup()\n",
      "ut.centerAxes(ax)\n",
      "ax.arrow(0,0,1,2,head_width=0.2, head_length=0.2)\n",
      "ax.arrow(0,0,4,1,head_width=0.2, head_length=0.2)\n",
      "ax.plot([4,5],[1,3],'--')\n",
      "ax.plot([1,5],[2,3],'--')\n",
      "ax.text(5.25,3.25,'u+v')\n",
      "ax.text(1.5,2.5,'u')\n",
      "ax.text(4.75,1,'v')\n",
      "ut.plotPoint(ax,5,3)\n",
      "ax.plot(0,0,'')\n",
      "print ''"
     ],
     "language": "python",
     "metadata": {
      "internals": {
       "frag_helper": "fragment_end",
       "frag_number": 14
      },
      "slideshow": {
       "slide_type": "-"
      }
     },
     "outputs": [
      {
       "html": [
        "<div id=\"6ae9253845fcc9cd\"></div>\n",
        "    <script type=\"text/javascript\">\n",
        "        $(function(){\n",
        "            var p = $(\"#6ae9253845fcc9cd\");\n",
        "            if (p.length==0) return;\n",
        "\n",
        "            while (!p.hasClass(\"cell\")) {\n",
        "                p=p.parent();\n",
        "\n",
        "                if (p.prop(\"tagName\") ==\"body\") return;\n",
        "            }\n",
        "            var cell = p;\n",
        "            cell.find(\".input\").addClass(\"hide-in-slideshow\")\n",
        "        });\n",
        "    </script>"
       ],
       "metadata": {},
       "output_type": "display_data"
      },
      {
       "output_type": "stream",
       "stream": "stdout",
       "text": [
        "\n"
       ]
      },
      {
       "metadata": {
        "png": {
         "height": 237,
         "width": 351
        }
       },
       "output_type": "display_data",
       "png": "[encoded data removed]",
       "text": [
        "<matplotlib.figure.Figure at 0x10efd1e50>"
       ]
      }
     ],
     "prompt_number": 5
    },
    {
     "cell_type": "markdown",
     "metadata": {
      "internals": {
       "frag_helper": "fragment_end",
       "frag_number": 14,
       "slide_helper": "subslide_end"
      },
      "slide_helper": "slide_end",
      "slideshow": {
       "slide_type": "-"
      }
     },
     "source": [
      "This should be clear from the definition of vector addition (i.e., addition of corresponding elements)."
     ]
    },
    {
     "cell_type": "heading",
     "level": 2,
     "metadata": {
      "internals": {
       "frag_helper": "fragment_end",
       "frag_number": 14,
       "slide_type": "subslide"
      },
      "slideshow": {
       "slide_type": "slide"
      }
     },
     "source": [
      "Vector Scaling, Geometrically"
     ]
    },
    {
     "cell_type": "markdown",
     "metadata": {
      "internals": {
       "frag_helper": "fragment_end",
       "frag_number": 14
      },
      "slideshow": {
       "slide_type": "-"
      }
     },
     "source": [
      "For a given vector ${\\bf v}$ and a scalar $a$, multiplying $a$ and ${\\bf v}$ corresponds to _lengthening_ $\\bf v$ by a _factor_ of $a$.  So $2\\bf v$ is twice as long as $\\bf v$.  Multiplying by a negative value reverses the \"direction\" of $\\bf v$."
     ]
    },
    {
     "cell_type": "code",
     "collapsed": false,
     "input": [
      "sl.hide_code_in_slideshow()\n",
      "ax = ut.plotSetup()\n",
      "ut.centerAxes(ax)\n",
      "factors = [-1.5, 0, 1, 2]\n",
      "ftext = ['-3/2', '0', '', '2']\n",
      "for f in factors:\n",
      "    ut.plotPoint(ax, 3.0*f, f)\n",
      "ax.arrow(0,0,0.95*6,0.95*2,head_width=0.2, head_length=0.2)\n",
      "ax.arrow(0,0,0.94*-4.5,0.94*-1.5,head_width=0.2, head_length=0.2)\n",
      "for f in range(len(factors)):\n",
      "    ax.text(3.0*factors[f]+0.2, factors[f]-0.5, r'{}$\\bf v$'.format(ftext[f]), size='large')\n",
      "print ''"
     ],
     "language": "python",
     "metadata": {
      "internals": {
       "frag_helper": "fragment_end",
       "frag_number": 14,
       "slide_helper": "subslide_end"
      },
      "slide_helper": "slide_end",
      "slideshow": {
       "slide_type": "-"
      }
     },
     "outputs": [
      {
       "html": [
        "<div id=\"69f6d7a1d9387f51\"></div>\n",
        "    <script type=\"text/javascript\">\n",
        "        $(function(){\n",
        "            var p = $(\"#69f6d7a1d9387f51\");\n",
        "            if (p.length==0) return;\n",
        "\n",
        "            while (!p.hasClass(\"cell\")) {\n",
        "                p=p.parent();\n",
        "\n",
        "                if (p.prop(\"tagName\") ==\"body\") return;\n",
        "            }\n",
        "            var cell = p;\n",
        "            cell.find(\".input\").addClass(\"hide-in-slideshow\")\n",
        "        });\n",
        "    </script>"
       ],
       "metadata": {},
       "output_type": "display_data"
      },
      {
       "output_type": "stream",
       "stream": "stdout",
       "text": [
        "\n"
       ]
      },
      {
       "metadata": {
        "png": {
         "height": 242,
         "width": 376
        }
       },
       "output_type": "display_data",
       "png": "[encoded data removed]",
       "text": [
        "<matplotlib.figure.Figure at 0x10ef4edd0>"
       ]
      }
     ],
     "prompt_number": 6
    },
    {
     "cell_type": "code",
     "collapsed": false,
     "input": [
      "sl.hide_code_in_slideshow()\n",
      "ax = ut.plotSetup3d(0,4,0,6,0,8)\n",
      "ut.plotCube(ax,[2,2,3])\n",
      "ut.plotCube(ax,[4,4,6])\n",
      "ax.text(2,2,3,r'$\\bf v$',size=20)\n",
      "ax.text(4.1,4.1,6.1,r'$2\\bf v$',size=20)\n",
      "ax.plot([0,4],[0,4],'r--',zs=[0,6])\n",
      "ax.plot([4],[4],'ro',zs=[6])\n",
      "ax.plot([2],[2],'ro',zs=[3])\n",
      "print ''"
     ],
     "language": "python",
     "metadata": {
      "internals": {
       "frag_helper": "fragment_end",
       "frag_number": 14,
       "slide_helper": "subslide_end",
       "slide_type": "subslide"
      },
      "slide_helper": "slide_end",
      "slideshow": {
       "slide_type": "slide"
      }
     },
     "outputs": [
      {
       "html": [
        "<div id=\"ba1d4f5357f7fa7e\"></div>\n",
        "    <script type=\"text/javascript\">\n",
        "        $(function(){\n",
        "            var p = $(\"#ba1d4f5357f7fa7e\");\n",
        "            if (p.length==0) return;\n",
        "\n",
        "            while (!p.hasClass(\"cell\")) {\n",
        "                p=p.parent();\n",
        "\n",
        "                if (p.prop(\"tagName\") ==\"body\") return;\n",
        "            }\n",
        "            var cell = p;\n",
        "            cell.find(\".input\").addClass(\"hide-in-slideshow\")\n",
        "        });\n",
        "    </script>"
       ],
       "metadata": {},
       "output_type": "display_data"
      },
      {
       "output_type": "stream",
       "stream": "stdout",
       "text": [
        "\n"
       ]
      },
      {
       "metadata": {
        "png": {
         "height": 237,
         "width": 349
        }
       },
       "output_type": "display_data",
       "png": "[encoded data removed]",
       "text": [
        "<matplotlib.figure.Figure at 0x10efc9f50>"
       ]
      }
     ],
     "prompt_number": 7
    },
    {
     "cell_type": "heading",
     "level": 2,
     "metadata": {
      "internals": {
       "frag_helper": "fragment_end",
       "frag_number": 14,
       "slide_type": "subslide"
      },
      "slideshow": {
       "slide_type": "slide"
      }
     },
     "source": [
      "The Algebra of $\\mathbb{R}^n$"
     ]
    },
    {
     "cell_type": "markdown",
     "metadata": {
      "internals": {
       "frag_helper": "fragment_end",
       "frag_number": 14
      },
      "slideshow": {
       "slide_type": "-"
      }
     },
     "source": [
      "We've defined a new object (the vector), and it has certain algebraic properties.\n",
      "\n",
      "1. ${\\bf u} + {\\bf v} = {\\bf v} + {\\bf u}$\n",
      "2. $({\\bf u} + {\\bf v}) + {\\bf w} = {\\bf u} + ({\\bf v} + {\\bf w})$\n",
      "3. ${\\bf u} + {\\bf 0} = {\\bf 0} + {\\bf u} = {\\bf u}$\n",
      "4. ${\\bf u} + ({\\bf -u}) = {\\bf -u} + {\\bf u} = {\\bf 0}$\n",
      "5. $c({\\bf u} + {\\bf v}) = c{\\bf u} + c{\\bf v}$\n",
      "6. $(c+d){\\bf u} = c{\\bf u} + d{\\bf u}$\n",
      "7. $c(d{\\bf u}) = (cd){\\bf u}$\n",
      "8. $1{\\bf u} = {\\bf u}$"
     ]
    },
    {
     "cell_type": "markdown",
     "metadata": {
      "internals": {
       "frag_helper": "fragment_end",
       "frag_number": 14,
       "slide_helper": "subslide_end"
      },
      "slide_helper": "slide_end",
      "slideshow": {
       "slide_type": "-"
      }
     },
     "source": [
      "You can verify each of these by from the definitions of vector addition and scalar-vector multiplication.   "
     ]
    },
    {
     "cell_type": "heading",
     "level": 2,
     "metadata": {
      "internals": {
       "frag_helper": "fragment_end",
       "frag_number": 14,
       "slide_type": "subslide"
      },
      "slideshow": {
       "slide_type": "slide"
      }
     },
     "source": [
      "Linear Combinations"
     ]
    },
    {
     "cell_type": "markdown",
     "metadata": {
      "internals": {
       "frag_helper": "fragment_end",
       "frag_number": 14
      },
      "slideshow": {
       "slide_type": "-"
      }
     },
     "source": [
      "A very fundamental thing to do is to construct __linear combinations__ of vectors:\n",
      "\n",
      "$$ {\\bf y} = c_1{\\bf v_1} + ... + c_p{\\bf v_p} $$"
     ]
    },
    {
     "cell_type": "markdown",
     "metadata": {
      "internals": {
       "frag_helper": "fragment_end",
       "frag_number": 33,
       "slide_helper": "subslide_end"
      },
      "slide_helper": "slide_end",
      "slideshow": {
       "slide_type": "fragment"
      }
     },
     "source": [
      "The $c_i$ values are called __weights__.   Weights can be any real number, including zero.  So some examples of linear combinations are:\n",
      "\n",
      "$$ \\sqrt{3}{\\bf v_1} + {\\bf v_2}, $$\n",
      "\n",
      "$$ \\frac{1}{2}{\\bf v_1} \\;\\; (= \\frac{1}{2}{\\bf v_1} + 0{\\bf v_2}) $$\n",
      "and \n",
      "$$ {\\bf 0} \\;\\;(= 0{\\bf v_1} + 0{\\bf v_2}) $$"
     ]
    },
    {
     "cell_type": "heading",
     "level": 2,
     "metadata": {
      "internals": {
       "frag_helper": "fragment_end",
       "frag_number": 33,
       "slide_type": "subslide"
      },
      "slideshow": {
       "slide_type": "slide"
      }
     },
     "source": [
      "Linear Combinations, Geometrically"
     ]
    },
    {
     "cell_type": "code",
     "collapsed": false,
     "input": [
      "sl.hide_code_in_slideshow()\n",
      "ax = ut.plotSetup(-6, 6, -4, 4)\n",
      "ut.centerAxes(ax)\n",
      "ax.set_xticks([])\n",
      "ax.set_yticks([])\n",
      "factors = [-3, -2, -1, 0, 1, 2, 3]\n",
      "u = [2, 1]\n",
      "v = [-1, 1]\n",
      "for f in factors:\n",
      "    ut.plotPoint(ax, f*u[0], f*u[1])\n",
      "    ax.text(f*u[0]+0.25,f*u[1]-0.25,r'{}$\\bf u$'.format(f),size='large')\n",
      "    ut.plotPoint(ax, f*v[0], f*v[1])\n",
      "    ax.text(f*v[0]+0.25,f*v[1]-0.25,r'{}$\\bf v$'.format(f),size='large')\n",
      "ut.plotPoint(ax,2*u[0]+v[0],2*u[1]+v[1],'g')\n",
      "ax.text(2*u[0]+v[0]+0.25,2*u[1]+v[1]+0.25,r'$\\bf w$',size='large')\n",
      "ut.plotPoint(ax,-u[0]-v[0],-u[1]-v[1],'b')\n",
      "ax.text(-u[0]-v[0]+0.25,-u[1]-v[1]+0.25,r'$\\bf p$',size='large')\n",
      "ut.plotPoint(ax,-u[0]+3*v[0],-u[1]+3*v[1],'y')\n",
      "ax.text(-u[0]+3*v[0]+0.25,-u[1]+3*v[1]+0.25,r'$\\bf q$',size='large')\n",
      "print ''"
     ],
     "language": "python",
     "metadata": {
      "internals": {
       "frag_helper": "fragment_end",
       "frag_number": 33
      },
      "slideshow": {
       "slide_type": "-"
      }
     },
     "outputs": [
      {
       "html": [
        "<div id=\"22339091618419ff\"></div>\n",
        "    <script type=\"text/javascript\">\n",
        "        $(function(){\n",
        "            var p = $(\"#22339091618419ff\");\n",
        "            if (p.length==0) return;\n",
        "\n",
        "            while (!p.hasClass(\"cell\")) {\n",
        "                p=p.parent();\n",
        "\n",
        "                if (p.prop(\"tagName\") ==\"body\") return;\n",
        "            }\n",
        "            var cell = p;\n",
        "            cell.find(\".input\").addClass(\"hide-in-slideshow\")\n",
        "        });\n",
        "    </script>"
       ],
       "metadata": {},
       "output_type": "display_data"
      },
      {
       "output_type": "stream",
       "stream": "stdout",
       "text": [
        "\n"
       ]
      },
      {
       "metadata": {
        "png": {
         "height": 237,
         "width": 371
        }
       },
       "output_type": "display_data",
       "png": "[encoded data removed]",
       "text": [
        "<matplotlib.figure.Figure at 0x10f77f990>"
       ]
      }
     ],
     "prompt_number": 8
    },
    {
     "cell_type": "markdown",
     "metadata": {
      "internals": {
       "frag_helper": "fragment_end",
       "frag_number": 36
      },
      "slideshow": {
       "slide_type": "fragment"
      }
     },
     "source": [
      "$${\\bf w} = 2{\\bf u} + {\\bf v}$$"
     ]
    },
    {
     "cell_type": "markdown",
     "metadata": {
      "internals": {
       "frag_helper": "fragment_end",
       "frag_number": 37
      },
      "slideshow": {
       "slide_type": "fragment"
      }
     },
     "source": [
      "$${\\bf p} = -{\\bf u} - {\\bf v}$$"
     ]
    },
    {
     "cell_type": "markdown",
     "metadata": {
      "internals": {
       "frag_helper": "fragment_end",
       "frag_number": 38,
       "slide_helper": "subslide_end"
      },
      "slide_helper": "slide_end",
      "slideshow": {
       "slide_type": "fragment"
      }
     },
     "source": [
      "$${\\bf q} = -{\\bf u} + 3{\\bf v}$$"
     ]
    },
    {
     "cell_type": "code",
     "collapsed": false,
     "input": [
      "sl.hide_code_in_slideshow()\n",
      "ax = ut.plotSetup(-6, 6, -4, 4)\n",
      "ut.centerAxes(ax)\n",
      "ax.set_xticks([])\n",
      "ax.set_yticks([])\n",
      "factors = [-3, -2, -1, 0, 1, 2, 3]\n",
      "u = [2, 1]\n",
      "v = [-1, 1]\n",
      "for f in factors:\n",
      "    ut.plotPoint(ax, f*u[0], f*u[1])\n",
      "    ax.text(f*u[0]+0.25,f*u[1]-0.25,r'{}$\\bf u$'.format(f),size='large')\n",
      "    ut.plotPoint(ax, f*v[0], f*v[1])\n",
      "    ax.text(f*v[0]+0.25,f*v[1]-0.25,r'{}$\\bf v$'.format(f),size='large')\n",
      "ax.plot([factors[0]*u[0],factors[-1]*u[0]],[factors[0]*u[1],factors[-1]*u[1]],'b--')\n",
      "ax.plot([factors[0]*v[0],factors[-1]*v[0]],[factors[0]*v[1],factors[-1]*v[1]],'b--')\n",
      "ut.plotPoint(ax,2*u[0]+v[0],2*u[1]+v[1],'g')\n",
      "ax.text(2*u[0]+v[0]+0.25,2*u[1]+v[1]+0.25,r'${\\bf w} = 2{\\bf u} + {\\bf v}$',size='large')\n",
      "ut.plotPoint(ax,-u[0]-v[0],-u[1]-v[1],'b')\n",
      "ax.text(-u[0]-v[0]-1.2,-u[1]-v[1]-0.5,r'${\\bf p} = -{\\bf u} -{\\bf v}$',size='large')\n",
      "ut.plotPoint(ax,-u[0]+3*v[0],-u[1]+3*v[1],'y')\n",
      "ax.text(-u[0]+3*v[0]-0.25,-u[1]+3*v[1]+0.35,r'${\\bf q} = -{\\bf u} + 3{\\bf v}$',size='large')\n",
      "print ''"
     ],
     "language": "python",
     "metadata": {
      "internals": {
       "frag_helper": "fragment_end",
       "frag_number": 38,
       "slide_helper": "subslide_end",
       "slide_type": "subslide"
      },
      "slide_helper": "slide_end",
      "slideshow": {
       "slide_type": "slide"
      }
     },
     "outputs": [
      {
       "html": [
        "<div id=\"e9bfc57b6142fa41\"></div>\n",
        "    <script type=\"text/javascript\">\n",
        "        $(function(){\n",
        "            var p = $(\"#e9bfc57b6142fa41\");\n",
        "            if (p.length==0) return;\n",
        "\n",
        "            while (!p.hasClass(\"cell\")) {\n",
        "                p=p.parent();\n",
        "\n",
        "                if (p.prop(\"tagName\") ==\"body\") return;\n",
        "            }\n",
        "            var cell = p;\n",
        "            cell.find(\".input\").addClass(\"hide-in-slideshow\")\n",
        "        });\n",
        "    </script>"
       ],
       "metadata": {},
       "output_type": "display_data"
      },
      {
       "output_type": "stream",
       "stream": "stdout",
       "text": [
        "\n"
       ]
      },
      {
       "metadata": {
        "png": {
         "height": 237,
         "width": 371
        }
       },
       "output_type": "display_data",
       "png": "[encoded data removed]",
       "text": [
        "<matplotlib.figure.Figure at 0x10f7aa250>"
       ]
      }
     ],
     "prompt_number": 9
    },
    {
     "cell_type": "heading",
     "level": 2,
     "metadata": {
      "internals": {
       "frag_helper": "fragment_end",
       "frag_number": 38,
       "slide_type": "subslide"
      },
      "slideshow": {
       "slide_type": "slide"
      }
     },
     "source": [
      "A Fundamental Question"
     ]
    },
    {
     "cell_type": "markdown",
     "metadata": {
      "internals": {
       "frag_helper": "fragment_end",
       "frag_number": 38
      },
      "slideshow": {
       "slide_type": "-"
      }
     },
     "source": [
      "We are now going to take up a very basic question that will lead us to a deeper understanding of linear systems."
     ]
    },
    {
     "cell_type": "markdown",
     "metadata": {
      "internals": {
       "frag_helper": "fragment_end",
       "frag_number": 42
      },
      "slideshow": {
       "slide_type": "fragment"
      }
     },
     "source": [
      "Given some set of vectors ${\\bf a_1, a_2, ..., a_k}$, can a given vector $\\bf b$ be written as a linear combination of ${\\bf a_1, a_2, ..., a_k}$?"
     ]
    },
    {
     "cell_type": "markdown",
     "metadata": {
      "internals": {
       "frag_helper": "fragment_end",
       "frag_number": 43
      },
      "slideshow": {
       "slide_type": "fragment"
      }
     },
     "source": [
      "Let's take a specific example.\n",
      "\n",
      "Let ${\\bf a_1} = \\left[\\begin{array}{c}1\\\\-2\\\\-5\\end{array}\\right], {\\bf a_2} = \\left[\\begin{array}{c}2\\\\5\\\\6\\end{array}\\right],$ and ${\\bf b} = \\left[\\begin{array}{c}7\\\\4\\\\-3\\end{array}\\right]$.\n",
      "\n",
      "We need to determine whether ${\\bf b}$ can be generated as a linear combination of ${\\bf a_1}$ and ${\\bf a_2}$.  That is, we seek to find whether weights $x_1$ and $x_2$ exist such that\n",
      "$$ x_1{\\bf a_1} + x_2{\\bf a_2} = {\\bf b}.$$"
     ]
    },
    {
     "cell_type": "markdown",
     "metadata": {
      "internals": {
       "frag_helper": "fragment_end",
       "frag_number": 44
      },
      "slideshow": {
       "slide_type": "fragment"
      }
     },
     "source": [
      "__Solution.__ We are going to convert from a __single__ vector equation to a __set__ of linear equations, that is, a __linear system.__\n",
      "\n",
      "We start by writing the form of the solution, if it exists:\n",
      "\n",
      "$$ x_1{\\bf a_1} + x_2{\\bf a_2} = {\\bf b}.$$"
     ]
    },
    {
     "cell_type": "markdown",
     "metadata": {
      "internals": {
       "frag_helper": "fragment_end",
       "frag_number": 45
      },
      "slideshow": {
       "slide_type": "fragment"
      }
     },
     "source": [
      "Written out, this is:\n",
      "\n",
      "$$ x_1 \\left[\\begin{array}{c}1\\\\-2\\\\-5\\end{array}\\right]+ x_2\\left[\\begin{array}{c}2\\\\5\\\\6\\end{array}\\right] = \\left[\\begin{array}{c}7\\\\4\\\\-3\\end{array}\\right].$$"
     ]
    },
    {
     "cell_type": "markdown",
     "metadata": {
      "internals": {
       "frag_helper": "fragment_end",
       "frag_number": 46
      },
      "slideshow": {
       "slide_type": "fragment"
      }
     },
     "source": [
      "By the definition of scalar-vector multiplication, this is:\n",
      "\n",
      "$$\\left[\\begin{array}{c}x_1\\\\-2x_1\\\\-5x_1\\end{array}\\right]+ \\left[\\begin{array}{c}2x_2\\\\5x_2\\\\6x_2\\end{array}\\right] = \\left[\\begin{array}{c}7\\\\4\\\\-3\\end{array}\\right].$$"
     ]
    },
    {
     "cell_type": "markdown",
     "metadata": {
      "internals": {
       "frag_helper": "fragment_end",
       "frag_number": 47
      },
      "slideshow": {
       "slide_type": "fragment"
      }
     },
     "source": [
      "By the definition of vector addition, this is:\n",
      "\n",
      "$$\\left[\\begin{array}{r}x_1 + 2x_2\\\\-2x_1 + 5x_2\\\\-5x_1+6x_2\\end{array}\\right] = \\left[\\begin{array}{c}7\\\\4\\\\-3\\end{array}\\right].$$"
     ]
    },
    {
     "cell_type": "markdown",
     "metadata": {
      "internals": {
       "frag_helper": "fragment_end",
       "frag_number": 48
      },
      "slideshow": {
       "slide_type": "fragment"
      }
     },
     "source": [
      "By the definition of vector equality, this is:\n",
      "\n",
      "$$\\begin{array}{rcl}x_1 + 2x_2&=&7\\\\-2x_1 + 5x_2&=&4\\\\-5x_1+6x_2&=&-3\\end{array}.$$"
     ]
    },
    {
     "cell_type": "markdown",
     "metadata": {
      "internals": {
       "frag_helper": "fragment_end",
       "frag_number": 49
      },
      "slideshow": {
       "slide_type": "fragment"
      }
     },
     "source": [
      "We know how to solve this!  Firing up Gaussian Elimination, we first construct the augmented matrix of this system, and then find its reduced row echelon form:\n",
      "\n",
      "$$\\left[\\begin{array}{rrr}1&2&7\\\\-2&5&4\\\\-5&6&-3\\end{array}\\right] \\sim \\left[\\begin{array}{rrr}1&2&7\\\\0&9&18\\\\0&16&32\\end{array}\\right] \\sim \\left[\\begin{array}{rrr}1&2&7\\\\0&1&2\\\\0&16&32\\end{array}\\right] \\sim \\left[\\begin{array}{rrr}1&0&3\\\\0&1&2\\\\0&0&0\\end{array}\\right]$$\n",
      "\n",
      "Voila!"
     ]
    },
    {
     "cell_type": "markdown",
     "metadata": {
      "internals": {
       "frag_helper": "fragment_end",
       "frag_number": 50,
       "slide_helper": "subslide_end"
      },
      "slide_helper": "slide_end",
      "slideshow": {
       "slide_type": "fragment"
      }
     },
     "source": [
      "Now, reading off the answer, we have $x_1 = 3$, $x_2 = 2$.  So we have found the solution to our original problem:\n",
      "\n",
      "$$ 3 \\left[\\begin{array}{c}1\\\\-2\\\\-5\\end{array}\\right]+ 2\\left[\\begin{array}{c}2\\\\5\\\\6\\end{array}\\right] = \\left[\\begin{array}{c}7\\\\4\\\\-3\\end{array}\\right].$$\n",
      "\n",
      "In other words, we have found that\n",
      "$$ 3{\\bf a_1} + 2{\\bf a_2} = {\\bf b}.$$"
     ]
    },
    {
     "cell_type": "heading",
     "level": 2,
     "metadata": {
      "internals": {
       "frag_helper": "fragment_end",
       "frag_number": 50,
       "slide_type": "subslide"
      },
      "slideshow": {
       "slide_type": "slide"
      }
     },
     "source": [
      "A Vector Equation is a Linear System"
     ]
    },
    {
     "cell_type": "markdown",
     "metadata": {
      "internals": {
       "frag_helper": "fragment_end",
       "frag_number": 50
      },
      "slideshow": {
       "slide_type": "-"
      }
     },
     "source": [
      "And vice versa!"
     ]
    },
    {
     "cell_type": "markdown",
     "metadata": {
      "internals": {
       "frag_helper": "fragment_end",
       "frag_number": 53
      },
      "slideshow": {
       "slide_type": "fragment"
      }
     },
     "source": [
      "Let's state this formally.   First, of all, recalling that vectors are columns, we can write the augmented matrix for the linear system in a very simple way."
     ]
    },
    {
     "cell_type": "markdown",
     "metadata": {
      "internals": {
       "frag_helper": "fragment_end",
       "frag_number": 54
      },
      "slideshow": {
       "slide_type": "fragment"
      }
     },
     "source": [
      "For the vector equation  \n",
      "\n",
      "$$x_1{\\bf a_1} + x_2{\\bf a_2} = {\\bf b},$$ \n",
      "\n",
      "the corresponding linear system has augmented matrix:\n",
      "\n",
      "$$[{\\bf a_1}\\;{\\bf a_2}\\;{\\bf b}].$$"
     ]
    },
    {
     "cell_type": "markdown",
     "metadata": {
      "internals": {
       "frag_helper": "fragment_end",
       "frag_number": 55
      },
      "slideshow": {
       "slide_type": "fragment"
      }
     },
     "source": [
      "Then we can make the following statement:\n",
      "    \n",
      "A vector equation\n",
      "$$ x_1{\\bf a_1} + x_2{\\bf a_2} + ... + x_n{\\bf a_n} = {\\bf b} $$\n",
      "\n",
      "has the same solution set as the linear system whose augmented matrix is\n",
      "\n",
      "$$ [{\\bf a_1} \\; {\\bf a_2} \\; ... \\; {\\bf a_n} \\; {\\bf b}].$$"
     ]
    },
    {
     "cell_type": "markdown",
     "metadata": {
      "internals": {
       "frag_helper": "fragment_end",
       "frag_number": 56
      },
      "slideshow": {
       "slide_type": "fragment"
      }
     },
     "source": [
      "This is a powerful concept; we have related an equation involving _columns_ to a set of equations corresponding to _rows_."
     ]
    },
    {
     "cell_type": "heading",
     "level": 2,
     "metadata": {
      "slideshow": {
       "slide_type": "slide"
      }
     },
     "source": [
      "Span"
     ]
    },
    {
     "cell_type": "code",
     "collapsed": false,
     "input": [],
     "language": "python",
     "metadata": {},
     "outputs": []
    }
   ],
   "metadata": {}
  }
 ]
}