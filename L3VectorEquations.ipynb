{
 "metadata": {
  "celltoolbar": "Slideshow",
  "name": "",
  "signature": "sha256:4d145107099d3cba0557e3db0e594a4e3a492d6283475582c274cc8ac17c93d6"
 },
 "nbformat": 3,
 "nbformat_minor": 0,
 "worksheets": [
  {
   "cells": [
    {
     "cell_type": "heading",
     "level": 1,
     "metadata": {
      "internals": {
       "slide_type": "subslide"
      },
      "slideshow": {
       "slide_type": "slide"
      }
     },
     "source": [
      "Vector Equations"
     ]
    },
    {
     "cell_type": "code",
     "collapsed": false,
     "input": [
      "%matplotlib inline\n",
      "\n",
      "# import libraries\n",
      "import numpy as np\n",
      "import matplotlib as mp\n",
      "import pandas as pd\n",
      "import matplotlib.pyplot as plt\n",
      "import laUtilities as ut\n",
      "import slideUtilities as sl\n",
      "from IPython.display import Image\n",
      "from IPython.display import display_html\n",
      "from IPython.display import display\n",
      "reload(ut)\n",
      "print ''"
     ],
     "language": "python",
     "metadata": {
      "internals": {},
      "slideshow": {
       "slide_type": "skip"
      }
     },
     "outputs": [
      {
       "output_type": "stream",
       "stream": "stdout",
       "text": [
        "\n"
       ]
      }
     ],
     "prompt_number": 11
    },
    {
     "cell_type": "code",
     "collapsed": false,
     "input": [
      "%%html\n",
      "<style>\n",
      " .container.slides .celltoolbar, .container.slides .hide-in-slideshow {\n",
      "    display: None ! important;\n",
      "}\n",
      "</style>"
     ],
     "language": "python",
     "metadata": {
      "internals": {
       "slide_helper": "subslide_end"
      },
      "slide_helper": "slide_end",
      "slideshow": {
       "slide_type": "skip"
      }
     },
     "outputs": [
      {
       "html": [
        "<style>\n",
        " .container.slides .celltoolbar, .container.slides .hide-in-slideshow {\n",
        "    display: None ! important;\n",
        "}\n",
        "</style>"
       ],
       "metadata": {},
       "output_type": "display_data",
       "text": [
        "<IPython.core.display.HTML at 0x10dff1a90>"
       ]
      }
     ],
     "prompt_number": 12
    },
    {
     "cell_type": "heading",
     "level": 2,
     "metadata": {
      "internals": {
       "slide_type": "subslide"
      },
      "slideshow": {
       "slide_type": "slide"
      }
     },
     "source": [
      "Vectors"
     ]
    },
    {
     "cell_type": "markdown",
     "metadata": {
      "internals": {},
      "slideshow": {
       "slide_type": "-"
      }
     },
     "source": [
      "We're going to expand our view of what a linear system can represent.   Instead of thinking of it as a collection of equations, we are going to think about it as a __single__ equation.  To do that we need to introduce the idea of a __vector__."
     ]
    },
    {
     "cell_type": "markdown",
     "metadata": {
      "internals": {
       "frag_number": 5
      },
      "slideshow": {
       "slide_type": "fragment"
      }
     },
     "source": [
      "A matrix with only one column is called a __column vector__, or simply a __vector__.\n",
      "\n",
      "Here are some examples.\n",
      "\n",
      "These are vectors in $\\mathbb{R}^2$:\n",
      "$$\n",
      "\\begin{array}{ccc}\n",
      "{\\bf u} = \\left[\\begin{array}{c}3\\\\-1\\end{array}\\right] &\n",
      "{\\bf v} = \\left[\\begin{array}{c}.2\\\\.3\\end{array}\\right] &\n",
      "{\\bf w} = \\left[\\begin{array}{c}w_1\\\\w_2\\end{array}\\right]\n",
      "\\end{array}\n",
      "$$\n"
     ]
    },
    {
     "cell_type": "markdown",
     "metadata": {
      "internals": {
       "frag_helper": "fragment_end",
       "frag_number": 6
      },
      "slideshow": {
       "slide_type": "fragment"
      }
     },
     "source": [
      "These are vectors in $\\mathbb{R}^3$:\n",
      "\n",
      "$$\n",
      "\\begin{array}{ccc}\n",
      "{\\bf u} = \\left[\\begin{array}{c}2\\\\3\\\\4\\end{array}\\right] &\n",
      "{\\bf v} = \\left[\\begin{array}{c}-1\\\\0\\\\2\\end{array}\\right] &\n",
      "{\\bf w} = \\left[\\begin{array}{c}w_1\\\\w_2\\\\w_3\\end{array}\\right]\n",
      "\\end{array}\n",
      "$$"
     ]
    },
    {
     "cell_type": "heading",
     "level": 2,
     "metadata": {
      "internals": {
       "frag_helper": "fragment_end",
       "frag_number": 6
      },
      "slideshow": {
       "slide_type": "slide"
      }
     },
     "source": [
      "Vectors are Fundamental Objects"
     ]
    },
    {
     "cell_type": "markdown",
     "metadata": {
      "internals": {
       "frag_helper": "fragment_end",
       "frag_number": 6
      },
      "slideshow": {
       "slide_type": "-"
      }
     },
     "source": [
      "We are going to define operations over vectors, so that we can write equations in terms of vectors.  In particular, we now define how to compare vectors, add vectors, and multiply vectors __by a scalar__."
     ]
    },
    {
     "cell_type": "markdown",
     "metadata": {
      "internals": {
       "frag_helper": "fragment_end",
       "frag_number": 9
      },
      "slideshow": {
       "slide_type": "fragment"
      }
     },
     "source": [
      "Two vectors are __equal__ if and only if their corresponding entries are equal.\n",
      "\n",
      "Thus $\\left[\\begin{array}{c}7\\\\4\\end{array}\\right]$ and $\\left[\\begin{array}{c}4\\\\7\\end{array}\\right]$ are __not__ equal."
     ]
    },
    {
     "cell_type": "markdown",
     "metadata": {
      "internals": {
       "frag_helper": "fragment_end",
       "frag_number": 10
      },
      "slideshow": {
       "slide_type": "fragment"
      }
     },
     "source": [
      "The sum of two vectors is the vector whose entries are the corresponding sums.\n",
      "\n",
      "For example:\n",
      "\n",
      "$$\\left[\\begin{array}{c}1\\\\-2\\end{array}\\right] + \\left[\\begin{array}{c}2\\\\5\\end{array}\\right] = \\left[\\begin{array}{c}1 + 2\\\\-2 + 5\\end{array}\\right] = \\left[\\begin{array}{c}3\\\\3\\end{array}\\right].$$"
     ]
    },
    {
     "cell_type": "markdown",
     "metadata": {
      "internals": {
       "frag_helper": "fragment_end",
       "frag_number": 10
      },
      "slideshow": {
       "slide_type": "-"
      }
     },
     "source": [
      "Note that vectors of different sizes cannot be compared or added.  For example, if ${\\bf u} \\in \\mathbb{R}^2$ and ${\\bf v} \\in \\mathbb{R}^3$, we cannot ask whether ${\\bf u} = {\\bf v}$, and ${\\bf u} + {\\bf v}$ is undefined."
     ]
    },
    {
     "cell_type": "markdown",
     "metadata": {
      "internals": {
       "frag_helper": "fragment_end",
       "frag_number": 12,
       "slide_helper": "subslide_end"
      },
      "slide_helper": "slide_end",
      "slideshow": {
       "slide_type": "fragment"
      }
     },
     "source": [
      "So we have all the tools to write equations using vectors.  For example, if ${\\bf u} = \\left[\\begin{array}{c}1\\\\-2\\end{array}\\right]$ and  ${\\bf v} = \\left[\\begin{array}{c}2\\\\-5\\end{array}\\right]$ then \n",
      "\n",
      "$$ 4{\\bf u} - 3{\\bf v} = \\left[\\begin{array}{c}-2\\\\7\\end{array}\\right] $$"
     ]
    },
    {
     "cell_type": "heading",
     "level": 2,
     "metadata": {
      "internals": {
       "frag_helper": "fragment_end",
       "frag_number": 12,
       "slide_type": "subslide"
      },
      "slideshow": {
       "slide_type": "slide"
      }
     },
     "source": [
      "Vectors Correspond to Points"
     ]
    },
    {
     "cell_type": "markdown",
     "metadata": {
      "internals": {
       "frag_helper": "fragment_end",
       "frag_number": 12
      },
      "slideshow": {
       "slide_type": "-"
      }
     },
     "source": [
      "As already noted, an ordered sequence of $n$ numbers can be thought of as a point in $\\mathbb{R}^n$.  Hence, a vector like $\\left[\\begin{array}{c}-2\\\\-1\\end{array}\\right]$ (also denoted $(-2,-1)$) can be thought of as a point on the plane."
     ]
    },
    {
     "cell_type": "code",
     "collapsed": false,
     "input": [
      "# No need to study this code unless you want to.\n",
      "sl.hide_code_in_slideshow()\n",
      "ax = ut.plotSetup()\n",
      "ut.centerAxes(ax)\n",
      "ut.plotPoint(ax, -2,-1)\n",
      "ut.plotPoint(ax, 2,2)\n",
      "ut.plotPoint(ax, 3,-1)\n",
      "ax.plot(0,-2,'')\n",
      "ax.plot(-4,0,'')\n",
      "ax.text(3.5,-1.1,'$(3,-1)$')\n",
      "ax.text(2.5, 1.9, '$(2,2)$')\n",
      "ax.text(-3.6, -1.1, '$(-2,-2)$')\n",
      "print ''"
     ],
     "language": "python",
     "metadata": {
      "internals": {
       "frag_helper": "fragment_end",
       "frag_number": 12,
       "slide_helper": "subslide_end"
      },
      "slide_helper": "slide_end",
      "slideshow": {
       "slide_type": "-"
      }
     },
     "outputs": [
      {
       "html": [
        "<div id=\"17796779e6e822f2\"></div>\n",
        "    <script type=\"text/javascript\">\n",
        "        $(function(){\n",
        "            var p = $(\"#17796779e6e822f2\");\n",
        "            if (p.length==0) return;\n",
        "\n",
        "            while (!p.hasClass(\"cell\")) {\n",
        "                p=p.parent();\n",
        "\n",
        "                if (p.prop(\"tagName\") ==\"body\") return;\n",
        "            }\n",
        "            var cell = p;\n",
        "            cell.find(\".input\").addClass(\"hide-in-slideshow\")\n",
        "        });\n",
        "    </script>"
       ],
       "metadata": {},
       "output_type": "display_data"
      },
      {
       "output_type": "stream",
       "stream": "stdout",
       "text": [
        "\n"
       ]
      },
      {
       "metadata": {},
       "output_type": "display_data",
       "png": "[encoded data removed]",
       "text": [
        "<matplotlib.figure.Figure at 0x10e08f850>"
       ]
      }
     ],
     "prompt_number": 13
    },
    {
     "cell_type": "markdown",
     "metadata": {
      "internals": {
       "frag_helper": "fragment_end",
       "frag_number": 12,
       "slide_type": "subslide"
      },
      "slideshow": {
       "slide_type": "slide"
      }
     },
     "source": [
      "Sometimes we draw an arrow from the origin to the point.  This comes from physics, but can be a helpful visualization in any case."
     ]
    },
    {
     "cell_type": "code",
     "collapsed": false,
     "input": [
      "# No need to study this code unless you want to.\n",
      "sl.hide_code_in_slideshow()\n",
      "ax = ut.plotSetup()\n",
      "ut.centerAxes(ax)\n",
      "ax.arrow(0,0,-2,-1,head_width=0.2, head_length=0.2)\n",
      "ax.arrow(0,0,2,2,head_width=0.2, head_length=0.2)\n",
      "ax.arrow(0,0,3,-1,head_width=0.2, head_length=0.2)\n",
      "ax.plot(0,-2,'')\n",
      "ax.plot(-4,0,'')\n",
      "ax.plot(0,2,'')\n",
      "ax.plot(4,0,'')\n",
      "ax.text(3.5,-1.1,'$(3,-1)$')\n",
      "ax.text(2.5, 1.9, '$(2,2)$')\n",
      "ax.text(-3.6, -1.1, '$(-2,-2)$')\n",
      "print ''"
     ],
     "language": "python",
     "metadata": {
      "internals": {
       "frag_helper": "fragment_end",
       "frag_number": 12,
       "slide_helper": "subslide_end"
      },
      "slide_helper": "slide_end",
      "slideshow": {
       "slide_type": "-"
      }
     },
     "outputs": [
      {
       "html": [
        "<div id=\"b6c04aa2d80d2a55\"></div>\n",
        "    <script type=\"text/javascript\">\n",
        "        $(function(){\n",
        "            var p = $(\"#b6c04aa2d80d2a55\");\n",
        "            if (p.length==0) return;\n",
        "\n",
        "            while (!p.hasClass(\"cell\")) {\n",
        "                p=p.parent();\n",
        "\n",
        "                if (p.prop(\"tagName\") ==\"body\") return;\n",
        "            }\n",
        "            var cell = p;\n",
        "            cell.find(\".input\").addClass(\"hide-in-slideshow\")\n",
        "        });\n",
        "    </script>"
       ],
       "metadata": {},
       "output_type": "display_data"
      },
      {
       "output_type": "stream",
       "stream": "stdout",
       "text": [
        "\n"
       ]
      },
      {
       "metadata": {},
       "output_type": "display_data",
       "png": "[encoded data removed]",
       "text": [
        "<matplotlib.figure.Figure at 0x10dfb6b90>"
       ]
      }
     ],
     "prompt_number": 14
    },
    {
     "cell_type": "heading",
     "level": 2,
     "metadata": {
      "internals": {
       "frag_helper": "fragment_end",
       "frag_number": 12,
       "slide_type": "subslide"
      },
      "slideshow": {
       "slide_type": "slide"
      }
     },
     "source": [
      "Vector Sum, Geometrically"
     ]
    },
    {
     "cell_type": "markdown",
     "metadata": {
      "internals": {
       "frag_helper": "fragment_end",
       "frag_number": 12
      },
      "slideshow": {
       "slide_type": "-"
      }
     },
     "source": [
      "A geometric interpretation of vector sum is as a parallelogram.  If ${\\bf u}$ and ${\\bf v}$ in $\\mathbb{R}^2$ are represented as points in the plane, then ${\\bf u} + {\\bf v}$ corresponds to the fourth vertex of the parallelogram whose other vertices are ${\\bf u}, 0,$ and ${\\bf v}$."
     ]
    },
    {
     "cell_type": "code",
     "collapsed": false,
     "input": [
      "sl.hide_code_in_slideshow()\n",
      "ax = ut.plotSetup()\n",
      "ut.centerAxes(ax)\n",
      "ax.arrow(0,0,1,2,head_width=0.2, head_length=0.2)\n",
      "ax.arrow(0,0,4,1,head_width=0.2, head_length=0.2)\n",
      "ax.plot([4,5],[1,3],'--')\n",
      "ax.plot([1,5],[2,3],'--')\n",
      "ax.text(5.25,3.25,'u+v')\n",
      "ax.text(1.5,2.5,'u')\n",
      "ax.text(4.75,1,'v')\n",
      "ut.plotPoint(ax,5,3)\n",
      "ax.plot(0,0,'')\n",
      "print ''"
     ],
     "language": "python",
     "metadata": {
      "internals": {
       "frag_helper": "fragment_end",
       "frag_number": 12
      },
      "slideshow": {
       "slide_type": "-"
      }
     },
     "outputs": [
      {
       "html": [
        "<div id=\"53376850025b393b\"></div>\n",
        "    <script type=\"text/javascript\">\n",
        "        $(function(){\n",
        "            var p = $(\"#53376850025b393b\");\n",
        "            if (p.length==0) return;\n",
        "\n",
        "            while (!p.hasClass(\"cell\")) {\n",
        "                p=p.parent();\n",
        "\n",
        "                if (p.prop(\"tagName\") ==\"body\") return;\n",
        "            }\n",
        "            var cell = p;\n",
        "            cell.find(\".input\").addClass(\"hide-in-slideshow\")\n",
        "        });\n",
        "    </script>"
       ],
       "metadata": {},
       "output_type": "display_data"
      },
      {
       "output_type": "stream",
       "stream": "stdout",
       "text": [
        "\n"
       ]
      },
      {
       "metadata": {},
       "output_type": "display_data",
       "png": "[encoded data removed]",
       "text": [
        "<matplotlib.figure.Figure at 0x10e09ab50>"
       ]
      }
     ],
     "prompt_number": 25
    },
    {
     "cell_type": "markdown",
     "metadata": {
      "internals": {
       "frag_helper": "fragment_end",
       "frag_number": 12,
       "slide_helper": "subslide_end"
      },
      "slide_helper": "slide_end",
      "slideshow": {
       "slide_type": "-"
      }
     },
     "source": [
      "This should be clear from the definition of vector addition (i.e., addition of corresponding elements)."
     ]
    },
    {
     "cell_type": "heading",
     "level": 2,
     "metadata": {
      "internals": {
       "frag_helper": "fragment_end",
       "frag_number": 12,
       "slide_type": "subslide"
      },
      "slideshow": {
       "slide_type": "slide"
      }
     },
     "source": [
      "Vector Scaling, Geometrically"
     ]
    },
    {
     "cell_type": "code",
     "collapsed": false,
     "input": [],
     "language": "python",
     "metadata": {
      "internals": {
       "frag_helper": "fragment_end",
       "frag_number": 12,
       "slide_helper": "subslide_end"
      },
      "slide_helper": "slide_end",
      "slideshow": {
       "slide_type": "-"
      }
     },
     "outputs": []
    }
   ],
   "metadata": {}
  }
 ]
}