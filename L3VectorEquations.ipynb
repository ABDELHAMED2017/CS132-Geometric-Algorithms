{
 "metadata": {
  "celltoolbar": "Slideshow",
  "name": "",
  "signature": "sha256:fb98eb04e186f1e7fcc17a298eb5df07275f404244fafec3dc909ffc7057774b"
 },
 "nbformat": 3,
 "nbformat_minor": 0,
 "worksheets": [
  {
   "cells": [
    {
     "cell_type": "heading",
     "level": 1,
     "metadata": {
      "internals": {
       "slide_type": "subslide"
      },
      "slideshow": {
       "slide_type": "slide"
      }
     },
     "source": [
      "Linear Equations"
     ]
    },
    {
     "cell_type": "code",
     "collapsed": false,
     "input": [
      "%matplotlib inline\n",
      "\n",
      "# import libraries\n",
      "import numpy as np\n",
      "import matplotlib as mp\n",
      "import pandas as pd\n",
      "import matplotlib.pyplot as plt\n",
      "import laUtilities as ut\n",
      "import slideUtilities as sl\n",
      "from IPython.display import Image\n",
      "from IPython.display import display_html\n",
      "from IPython.display import display\n",
      "reload(ut)\n",
      "print ''"
     ],
     "language": "python",
     "metadata": {
      "internals": {},
      "slideshow": {
       "slide_type": "skip"
      }
     },
     "outputs": [
      {
       "output_type": "stream",
       "stream": "stdout",
       "text": [
        "\n"
       ]
      }
     ],
     "prompt_number": 2
    },
    {
     "cell_type": "code",
     "collapsed": false,
     "input": [
      "%%html\n",
      "<style>\n",
      " .container.slides .celltoolbar, .container.slides .hide-in-slideshow {\n",
      "    display: None ! important;\n",
      "}\n",
      "</style>"
     ],
     "language": "python",
     "metadata": {
      "internals": {},
      "slideshow": {
       "slide_type": "skip"
      }
     },
     "outputs": [
      {
       "html": [
        "<style>\n",
        " .container.slides .celltoolbar, .container.slides .hide-in-slideshow {\n",
        "    display: None ! important;\n",
        "}\n",
        "</style>"
       ],
       "metadata": {},
       "output_type": "display_data",
       "text": [
        "<IPython.core.display.HTML at 0x104805090>"
       ]
      }
     ],
     "prompt_number": 11
    },
    {
     "cell_type": "heading",
     "level": 2,
     "metadata": {
      "internals": {
       "slide_type": "subslide"
      },
      "slideshow": {
       "slide_type": "slide"
      }
     },
     "source": [
      "Some Examples in $\\mathbb{R}^2$"
     ]
    },
    {
     "cell_type": "code",
     "collapsed": false,
     "input": [
      "# No need to study this code unless you want to.\n",
      "sl.hide_code_in_slideshow()\n",
      "ax = ut.plotSetup()\n",
      "ut.centerAxes(ax)\n",
      "ut.plotLinEqn(1, -2, -1)\n",
      "ut.plotLinEqn(-1, 3, 3)\n",
      "plt.legend(loc='best')\n",
      "print ''"
     ],
     "language": "python",
     "metadata": {
      "internals": {
       "frag_number": 6
      },
      "slideshow": {
       "slide_type": "-"
      }
     },
     "outputs": [
      {
       "html": [
        "<div id=\"ad586b1fc6582785\"></div>\n",
        "    <script type=\"text/javascript\">\n",
        "        $(function(){\n",
        "            var p = $(\"#ad586b1fc6582785\");\n",
        "            if (p.length==0) return;\n",
        "\n",
        "            while (!p.hasClass(\"cell\")) {\n",
        "                p=p.parent();\n",
        "\n",
        "                if (p.prop(\"tagName\") ==\"body\") return;\n",
        "            }\n",
        "            var cell = p;\n",
        "            cell.find(\".input\").addClass(\"hide-in-slideshow\")\n",
        "        });\n",
        "    </script>"
       ],
       "metadata": {},
       "output_type": "display_data"
      },
      {
       "output_type": "stream",
       "stream": "stdout",
       "text": [
        "\n"
       ]
      },
      {
       "metadata": {},
       "output_type": "display_data",
       "png": "[encoded data removed]",
       "text": [
        "<matplotlib.figure.Figure at 0x10de41d50>"
       ]
      }
     ],
     "prompt_number": 5
    },
    {
     "cell_type": "code",
     "collapsed": false,
     "input": [
      "sl.hide_code_in_slideshow()\n",
      "display(Image(\"images/Pic_3-planes.png\"))"
     ],
     "language": "python",
     "metadata": {
      "internals": {},
      "slideshow": {
       "slide_type": "-"
      }
     },
     "outputs": [
      {
       "html": [
        "<div id=\"00a05d89e0ec4593\"></div>\n",
        "    <script type=\"text/javascript\">\n",
        "        $(function(){\n",
        "            var p = $(\"#00a05d89e0ec4593\");\n",
        "            if (p.length==0) return;\n",
        "\n",
        "            while (!p.hasClass(\"cell\")) {\n",
        "                p=p.parent();\n",
        "\n",
        "                if (p.prop(\"tagName\") ==\"body\") return;\n",
        "            }\n",
        "            var cell = p;\n",
        "            cell.find(\".input\").addClass(\"hide-in-slideshow\")\n",
        "        });\n",
        "    </script>"
       ],
       "metadata": {},
       "output_type": "display_data"
      },
      {
       "metadata": {},
       "output_type": "display_data",
       "png": "[encoded data removed]",
       "text": [
        "<IPython.core.display.Image at 0x10e077990>"
       ]
      }
     ],
     "prompt_number": 8
    }
   ],
   "metadata": {}
  }
 ]
}