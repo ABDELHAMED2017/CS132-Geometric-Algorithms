{
 "metadata": {
  "celltoolbar": "Slideshow",
  "name": "",
  "signature": "sha256:443c3343efc4ff1ebd6282f7b2d323c0d46338aecf0f2acf857208dee5e6ab44"
 },
 "nbformat": 3,
 "nbformat_minor": 0,
 "worksheets": [
  {
   "cells": [
    {
     "cell_type": "heading",
     "level": 1,
     "metadata": {
      "internals": {
       "slide_type": "subslide"
      },
      "slideshow": {
       "slide_type": "slide"
      }
     },
     "source": [
      "Welcome to CS 132"
     ]
    },
    {
     "cell_type": "code",
     "collapsed": false,
     "input": [
      "%matplotlib inline\n",
      "\n",
      "# import libraries\n",
      "import numpy as np\n",
      "import matplotlib as mp\n",
      "import pandas as pd\n",
      "import matplotlib.pyplot as plt\n",
      "import laUtilities as ut\n",
      "import slideUtilities as sl\n",
      "from IPython.display import Image\n",
      "from IPython.display import display_html\n",
      "from IPython.display import display\n",
      "reload(ut)\n",
      "print ''"
     ],
     "language": "python",
     "metadata": {
      "internals": {},
      "slideshow": {
       "slide_type": "skip"
      }
     },
     "outputs": [
      {
       "output_type": "stream",
       "stream": "stdout",
       "text": [
        "\n"
       ]
      }
     ],
     "prompt_number": 4
    },
    {
     "cell_type": "code",
     "collapsed": false,
     "input": [
      "%%html\n",
      "<style>\n",
      " .container.slides .celltoolbar, .container.slides .hide-in-slideshow {\n",
      "    display: None ! important;\n",
      "}\n",
      "</style>"
     ],
     "language": "python",
     "metadata": {
      "internals": {},
      "slideshow": {
       "slide_type": "skip"
      }
     },
     "outputs": [
      {
       "html": [
        "<style>\n",
        " .container.slides .celltoolbar, .container.slides .hide-in-slideshow {\n",
        "    display: None ! important;\n",
        "}\n",
        "</style>"
       ],
       "metadata": {},
       "output_type": "display_data",
       "text": [
        "<IPython.core.display.HTML at 0x10e007fd0>"
       ]
      }
     ],
     "prompt_number": 5
    },
    {
     "cell_type": "markdown",
     "metadata": {
      "internals": {
       "slide_helper": "subslide_end"
      },
      "slide_helper": "slide_end",
      "slideshow": {
       "slide_type": "-"
      }
     },
     "source": [
      "Who I am:\n",
      "* Professor Mark Crovella\n",
      "* Email: crovella@bu.edu\n",
      "* Office: MCS 140E\n",
      "* Office Hours: W 3-4, F 2-3\n",
      "    \n",
      "Teaching Fellow:\n",
      "* Mr. Qinxun Bai\n",
      "* Email: qinxun@bu.edu\n",
      "* Office: MCS-208\n",
      "* Office Hours: TBD\n",
      "![](images/qinxun.jpg \"Qinxun\")"
     ]
    },
    {
     "cell_type": "markdown",
     "metadata": {
      "internals": {
       "slide_type": "subslide"
      },
      "slideshow": {
       "slide_type": "slide"
      }
     },
     "source": [
      "In this course we will study _linear algebra_ from an algorithmic standpoint.\n",
      "\n",
      "> Linear algebra is a fantastic subject.  On the one hand it is clean and beautiful.  If you have three vectors in 12-dimensional space, you can almost see them. [...]\n",
      "> [And] It is _needed_ and _used_. [...] Linear algebra has become as basic and as applicable as calculus, and fortunately it is easier.\n",
      "\n",
      "_Linear Algebra,_ Gilbert Strang"
     ]
    },
    {
     "cell_type": "markdown",
     "metadata": {
      "internals": {
       "slide_helper": "subslide_end"
      },
      "slide_helper": "slide_end",
      "slideshow": {
       "slide_type": "skip"
      }
     },
     "source": [
      "In this course we will study linear algebra.  Linear algebra is such a useful tool that it is crucially important to a number of areas in Computer Science.  If you study optimization, the starting point is linear algebra.  If you study computer graphics, the language you use every day is linear algebra.  If you study the performance of computer systems, you need linear algebra.  If you study algorithms -- especially graph algorithms -- you will absolutely need linear algebra.  If you study data mining, you will use linear algebra all the time.  And if you study quantum computing, the standard computations you use are in the language of linear algebra.\n",
      "\n",
      "The dominance of linear algebra arises because it is so fundamental, and in some ways, very simple.  It deals with objects that almost always can be interpreted geometrically.  So often we can use linear algebra in a very intuitive manner -- so much so that many times it is actually the best way to think about geometric problems.  But it is also rigorous and captures situations that sometimes we would overlook if we were proceeding purely intuitively.  This is because it is also about solving equations, and finding solutions to various kinds of problems.  So the advantage of being basic and fundamental is that it can be used and applied in so many ways."
     ]
    },
    {
     "cell_type": "heading",
     "level": 2,
     "metadata": {
      "internals": {
       "slide_type": "subslide"
      },
      "slideshow": {
       "slide_type": "slide"
      }
     },
     "source": [
      "What we will study"
     ]
    },
    {
     "cell_type": "markdown",
     "metadata": {
      "internals": {
       "slide_helper": "subslide_end"
      },
      "slide_helper": "slide_end",
      "slideshow": {
       "slide_type": "-"
      }
     },
     "source": [
      "1. Linear Equations\n",
      "2. Matrix Algebra\n",
      "3. Vector Spaces\n",
      "4. Eigensystems \n",
      "5. Orthogonality and Least Squares"
     ]
    },
    {
     "cell_type": "heading",
     "level": 2,
     "metadata": {
      "internals": {
       "slide_type": "subslide"
      },
      "slideshow": {
       "slide_type": "slide"
      }
     },
     "source": [
      "Resources"
     ]
    },
    {
     "cell_type": "markdown",
     "metadata": {
      "internals": {
       "slide_helper": "subslide_end"
      },
      "slide_helper": "slide_end",
      "slideshow": {
       "slide_type": "-"
      }
     },
     "source": [
      "* Text: _Linear Algebra and Its Applications_, by David C. Lay, 4th edition. (Required).\n",
      "    * Readings will be assigned for each class.\n",
      "    * Homeworks will be taken from the book.\n",
      "* Web Resources: All slides will be made available online.\n",
      "    * https://github.com/mcrovella/CS132-Geometric-Algorithms\n",
      "    * Also PDF versions of slide material in handout form.\n",
      "* Piazza \n",
      "    * For online discussion"
     ]
    },
    {
     "cell_type": "heading",
     "level": 2,
     "metadata": {
      "internals": {
       "slide_type": "subslide"
      },
      "slideshow": {
       "slide_type": "slide"
      }
     },
     "source": [
      "How the course is structured"
     ]
    },
    {
     "cell_type": "markdown",
     "metadata": {
      "internals": {
       "slide_helper": "subslide_end"
      },
      "slide_helper": "slide_end",
      "slideshow": {
       "slide_type": "-"
      }
     },
     "source": [
      "* Two lectures a week: Tuesday and Thursday\n",
      "* Discussion section on Monday\n",
      "* Homework assigned on Thursday, due on Tuesday before class"
     ]
    },
    {
     "cell_type": "heading",
     "level": 2,
     "metadata": {
      "internals": {
       "slide_type": "subslide"
      },
      "slideshow": {
       "slide_type": "slide"
      }
     },
     "source": [
      "Grading"
     ]
    },
    {
     "cell_type": "markdown",
     "metadata": {
      "internals": {
       "slide_helper": "subslide_end"
      },
      "slide_helper": "slide_end",
      "slideshow": {
       "slide_type": "-"
      }
     },
     "source": [
      "Homeworks will be submitted via `websubmit`.  \n",
      "\n",
      "__NOTE: (IMPORTANT)__ Late homeworks will not be accepted.  However your final grade will be based on the top 10 homeworks submitted (out of 12).\n",
      "\n",
      "Final grades will be computed based on the following:\n",
      "* 60% Homework assignmentsThe top 10 homework grades (out of the 12 assigned) will be used to compute this score\n",
      "* 5% Attendance and In-class participation via clicker\n",
      "* 10% Midterm\n",
      "* 25% Final (Cumulative)"
     ]
    },
    {
     "cell_type": "heading",
     "level": 2,
     "metadata": {
      "internals": {
       "slide_type": "subslide"
      },
      "slideshow": {
       "slide_type": "slide"
      }
     },
     "source": [
      "Academic Honesty"
     ]
    },
    {
     "cell_type": "markdown",
     "metadata": {
      "internals": {},
      "slideshow": {
       "slide_type": "-"
      }
     },
     "source": [
      "You may discuss homework assignments with classmates, but you are \n",
      "solely responsible for what you turn in. Collaboration in the form of\n",
      "discussion is allowed, but all forms of cheating (copying parts of a\n",
      "classmate's assignment, plagiarism from books or old posted solutions)\n",
      "are NOT allowed.\n",
      "\n",
      "I have brought students before the Academic Conduct Committee in the past.  It's not pleasant.   Students have been suspended or have voluntarily left in the past.  Let's not do that."
     ]
    },
    {
     "cell_type": "code",
     "collapsed": false,
     "input": [],
     "language": "python",
     "metadata": {
      "internals": {
       "slide_helper": "subslide_end"
      },
      "slide_helper": "slide_end",
      "slideshow": {
       "slide_type": "-"
      }
     },
     "outputs": []
    }
   ],
   "metadata": {}
  }
 ]
}