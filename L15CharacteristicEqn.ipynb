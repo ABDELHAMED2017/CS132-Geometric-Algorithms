{
 "cells": [
  {
   "cell_type": "markdown",
   "metadata": {
    "internals": {
     "slide_type": "subslide"
    },
    "slideshow": {
     "slide_type": "slide"
    }
   },
   "source": [
    "# The Characteristic Equation"
   ]
  },
  {
   "cell_type": "code",
   "execution_count": 2,
   "metadata": {
    "collapsed": false,
    "internals": {},
    "slideshow": {
     "slide_type": "skip"
    }
   },
   "outputs": [
    {
     "name": "stdout",
     "output_type": "stream",
     "text": [
      "\n"
     ]
    }
   ],
   "source": [
    "%matplotlib inline\n",
    "%config InlineBackend.figure_format='retina'\n",
    "# import libraries\n",
    "import numpy as np\n",
    "import matplotlib as mp\n",
    "import pandas as pd\n",
    "import matplotlib.pyplot as plt\n",
    "import laUtilities as ut\n",
    "import slideUtilities as sl\n",
    "import demoUtilities as dm\n",
    "import pandas as pd\n",
    "from datetime import datetime\n",
    "from IPython.display import Image\n",
    "from IPython.display import display_html\n",
    "from IPython.display import display\n",
    "from IPython.display import Math\n",
    "from IPython.display import Latex\n",
    "from IPython.display import HTML\n",
    "reload(dm)\n",
    "reload(ut)\n",
    "print ''"
   ]
  },
  {
   "cell_type": "code",
   "execution_count": 3,
   "metadata": {
    "collapsed": false,
    "internals": {},
    "slideshow": {
     "slide_type": "skip"
    }
   },
   "outputs": [
    {
     "data": {
      "text/html": [
       "<style>\n",
       " .container.slides .celltoolbar, .container.slides .hide-in-slideshow {\n",
       "    display: None ! important;\n",
       "}\n",
       "</style>"
      ],
      "text/plain": [
       "<IPython.core.display.HTML object>"
      ]
     },
     "metadata": {},
     "output_type": "display_data"
    }
   ],
   "source": [
    "%%html\n",
    "<style>\n",
    " .container.slides .celltoolbar, .container.slides .hide-in-slideshow {\n",
    "    display: None ! important;\n",
    "}\n",
    "</style>"
   ]
  },
  {
   "cell_type": "markdown",
   "metadata": {
    "internals": {},
    "slideshow": {
     "slide_type": "skip"
    }
   },
   "source": [
    "%Set up useful MathJax (Latex) macros.\n",
    "%See http://docs.mathjax.org/en/latest/tex.html#defining-tex-macros\n",
    "%These are for use in the slideshow\n",
    "$\\newcommand{\\mat}[1]{\\left[\\begin{array}#1\\end{array}\\right]}$\n",
    "$\\newcommand{\\vx}{{\\mathbf x}}$\n",
    "$\\newcommand{\\R}{{\\mathbb{R}}}$\n",
    "$\\newcommand{\\vu}{{\\mathbf u}}$\n",
    "$\\newcommand{\\vv}{{\\mathbf v}}$\n",
    "$\\newcommand{\\col}{{\\operatorname{Col}}}$\n",
    "$\\newcommand{\\nul}{{\\operatorname{Nul}}}$\n",
    "$\\newcommand{\\vb}{{\\mathbf b}}$\n",
    "$\\newcommand{\\va}{{\\mathbf a}}$\n",
    "$\\newcommand{\\ve}{{\\mathbf e}}$\n",
    "$\\newcommand{\\setb}{{\\mathcal{B}}}$\n",
    "$\\newcommand{\\rank}{{\\operatorname{rank}}}$"
   ]
  },
  {
   "cell_type": "raw",
   "metadata": {
    "internals": {
     "slide_helper": "subslide_end"
    },
    "slide_helper": "slide_end",
    "slideshow": {
     "slide_type": "skip"
    }
   },
   "source": [
    "\\newcommand{\\mat}[1]{\\left[\\begin{array}#1\\end{array}\\right]}\n",
    "\\newcommand{\\vx}{{\\mathbf x}}\n",
    "\\newcommand{\\vb}{{\\mathbf b}}\n",
    "\\newcommand{\\vu}{{\\mathbf u}}\n",
    "\\newcommand{\\vv}{{\\mathbf v}}\n",
    "\\newcommand{\\va}{{\\mathbf a}}\n",
    "\\newcommand{\\ve}{{\\mathbf e}}\n",
    "\\newcommand{\\R}{{\\mathbb{R}}}\n",
    "\\newcommand{\\col}{{\\operatorname{Col}}}\n",
    "\\newcommand{\\nul}{{\\operatorname{Nul}}}\n",
    "\\newcommand{\\rank}{{\\operatorname{rank}}}\n",
    "\\newcommand{\\setb}{{\\mathcal{B}}}"
   ]
  },
  {
   "cell_type": "markdown",
   "metadata": {},
   "source": [
    "In the last lecture we saw that, if we know an eigenvalue $\\lambda$ of a matrix $A,$ then computing the corresponding eigenspace can be done by constructing a basis for $\\nul\\ (A-\\lambda I).$"
   ]
  },
  {
   "cell_type": "markdown",
   "metadata": {},
   "source": [
    "Today we'll discuss how to determine the eigenvalues of a matrix $A$."
   ]
  },
  {
   "cell_type": "markdown",
   "metadata": {},
   "source": [
    "The theory will make use of the _determinant_ of a matrix."
   ]
  },
  {
   "cell_type": "markdown",
   "metadata": {},
   "source": [
    "Let's recall that the determinant of a $2\\times 2$ matrix $A = \\mat{{rr}a&b\\\\c&d}$ is $ad-bc.$"
   ]
  },
  {
   "cell_type": "markdown",
   "metadata": {},
   "source": [
    "We also have learned that $A$ is invertible if and only if its determinant is not zero.    (Recall that the inverse of of $A$ is $\\frac{1}{ad-bc}\\mat{{cc}d&-b\\\\-c&a}).$"
   ]
  },
  {
   "cell_type": "markdown",
   "metadata": {},
   "source": [
    "Let's use these facts to help us find the eigenvalues of a $2\\times 2$ matrix."
   ]
  },
  {
   "cell_type": "markdown",
   "metadata": {},
   "source": [
    "__Example.__  Find the eigenvalues of $A = \\mat{{rr}2&3\\\\3&-6}.$"
   ]
  },
  {
   "cell_type": "markdown",
   "metadata": {},
   "source": [
    "__Solution.__  We must find all scalars $\\lambda$ such that the matrix equation\n",
    "\n",
    "$$(A-\\lambda I)\\vx = {\\bf 0}$$\n",
    "\n",
    "has a nontrivial solution.   By the Invertible Matrix Theorem, this problem is equivalent to finding all $\\lambda$ such that the matrix $A-\\lambda I$ is _not_ invertible."
   ]
  },
  {
   "cell_type": "markdown",
   "metadata": {},
   "source": [
    "Now,\n",
    "\n",
    "$$ A - \\lambda I = \\mat{{rr}2&3\\\\3&-6} - \\mat{{rr}\\lambda&0\\\\0&\\lambda} = \\mat{{cc}2-\\lambda&3\\\\3&-6-\\lambda}.$$"
   ]
  },
  {
   "cell_type": "markdown",
   "metadata": {},
   "source": [
    "We know that $A$ is not invertible exactly when its determinant is zero.   "
   ]
  },
  {
   "cell_type": "markdown",
   "metadata": {},
   "source": [
    "So the eigenvalues of $A$ are the solutions of the equation\n",
    "\n",
    "$$\\det(A-\\lambda I) = \\det\\mat{{cc}2-\\lambda&3\\\\3&-6-\\lambda} = 0.$$"
   ]
  },
  {
   "cell_type": "markdown",
   "metadata": {},
   "source": [
    "Since $\\det\\mat{{rr}a&b\\\\c&d} = ad-bc,$ then\n",
    "\n",
    "$$\\det(A-\\lambda I) = (2-\\lambda)(-6-\\lambda)-(3)(3)$$"
   ]
  },
  {
   "cell_type": "markdown",
   "metadata": {},
   "source": [
    "$$ = -12 + 6\\lambda -2\\lambda + \\lambda^2 - 9$$"
   ]
  },
  {
   "cell_type": "markdown",
   "metadata": {},
   "source": [
    "$$= \\lambda^2+4\\lambda-21$$"
   ]
  },
  {
   "cell_type": "markdown",
   "metadata": {},
   "source": [
    "$$=(\\lambda-3)(\\lambda + 7)$$"
   ]
  },
  {
   "cell_type": "markdown",
   "metadata": {
    "collapsed": true
   },
   "source": [
    "If $\\det(A-\\lambda I) = 0,$ then $\\lambda = 3$ or $\\lambda = 7.$  So the eigenvalues of $A$ are $3$ and $-7$."
   ]
  },
  {
   "cell_type": "markdown",
   "metadata": {},
   "source": [
    "The same idea works for $n\\times n$ matrices -- but, for that, we need to define a _determinant_ for larger matrices."
   ]
  },
  {
   "cell_type": "markdown",
   "metadata": {},
   "source": [
    "__Determinants.__\n",
    "\n",
    "Previously, we've defined a determinant for a $2\\times 2$ matrix.   "
   ]
  },
  {
   "cell_type": "markdown",
   "metadata": {},
   "source": [
    "To find eigenvalues for larger matrices, we need to define the determinant for any sized (ie, $n\\times n$) matrix."
   ]
  },
  {
   "cell_type": "markdown",
   "metadata": {},
   "source": [
    "__Definition.__   Let $A$ be an $n\\times n$ matrix, and let $U$ be any echelon form obtained from $A$ by row replacements and row interchanges (no row scalings), and let $r$ be the number of such row interchanges."
   ]
  },
  {
   "cell_type": "markdown",
   "metadata": {},
   "source": [
    "Then the __determinant__ of $A$, written as $\\det\\ A$, is $(-1)^r$ times the product of the diagonal entries $u_{11},\\dots,u_{nn}$ in $U$."
   ]
  },
  {
   "cell_type": "markdown",
   "metadata": {},
   "source": [
    "If $A$ is invertible, then $u_{11},\\dots,u_{nn}$ are all _pivots_.  "
   ]
  },
  {
   "cell_type": "markdown",
   "metadata": {},
   "source": [
    "If $A$ is not invertible, then at least one diagonal entry is zero, adn so the product $u_{11} \\dots u_{nn}$ is zero."
   ]
  },
  {
   "cell_type": "markdown",
   "metadata": {},
   "source": [
    "In other words:\n",
    "\n",
    "$$\\det\\ A = \\left\\{\\begin{array}{ll}(-1)^r\\cdot\\left(\\mbox{product of pivots in $U$}\\right),&\\mbox{when $A$ is invertible}\\\\\n",
    "0,&\\mbox{when $A$ is not invertible}\\end{array}\\right.$$"
   ]
  },
  {
   "cell_type": "markdown",
   "metadata": {},
   "source": [
    "__Example.__  Compute $\\det\\ A$ for $A = \\mat{{rrr}1&5&0\\\\2&4&-1\\\\0&-2&0}.$"
   ]
  },
  {
   "cell_type": "markdown",
   "metadata": {},
   "source": [
    "__Solution.__  The following row reduction uses __one__ row interchange:\n",
    "\n",
    "$$A \\sim \\mat{{rrr}1&5&0\\\\0&-6&-1\\\\0&-2&0} \\sim \\mat{{rrr}1&5&0\\\\0&-2&0\\\\0&-6&-1} \\sim \\mat{{rrr}1&5&0\\\\0&-2&0\\\\0&0&-1} = $U_1.$$"
   ]
  },
  {
   "cell_type": "markdown",
   "metadata": {},
   "source": [
    "So $\\det\\ A$ equals $(-1)^1(1)(-2)(-1) = (-2).$  "
   ]
  },
  {
   "cell_type": "markdown",
   "metadata": {},
   "source": [
    "The remarkable thing is that __any other__ way of computing the echelon form gives the same determinant.  For example,  this row reduction does not use a row interchange:\n",
    "\n",
    "$$A \\sim \\mat{{rrr}1&5&0\\\\0&-6&-1\\\\0&-2&0} \\sim \\mat{{rrr}1&5&0\\\\0&-6&-1\\\\0&0&-1/3}.$$"
   ]
  },
  {
   "cell_type": "markdown",
   "metadata": {},
   "source": [
    "Using this echelon form to compute the determinant yields $(-1)^0(1)(-6)(1/3) = -2,$ the same as before."
   ]
  },
  {
   "cell_type": "markdown",
   "metadata": {},
   "source": [
    "__Invertibility.__"
   ]
  },
  {
   "cell_type": "markdown",
   "metadata": {},
   "source": [
    "The formula for the determinant shows that $A$ is invertible if and only if $\\det\\ A$ is nonzero.   "
   ]
  },
  {
   "cell_type": "markdown",
   "metadata": {},
   "source": [
    "We have __yet another__ part to add to the Invertible Matrix Theorem:"
   ]
  },
  {
   "cell_type": "markdown",
   "metadata": {},
   "source": [
    "Let $A$ be an $n\\times n$ matrix.   Then $A$ is invertible if and only if:\n",
    "\n",
    "1. The number 0 is _not_ an eigenvalue of $A$.\n",
    "2. The determinant of $A$ is _not_ zero."
   ]
  },
  {
   "cell_type": "markdown",
   "metadata": {},
   "source": [
    "Some facts about determinants (proved in the book):\n",
    "\n",
    "1. $\\det AB = (\\det A) (\\det B).$\n",
    "1. $\\det A^T = \\det A.$\n",
    "1. If $A$ is triangular, then $\\det A$ is the product of the entries on the main diagonal of $A$."
   ]
  },
  {
   "cell_type": "markdown",
   "metadata": {},
   "source": [
    "## The Characteristic Equation\n",
    "\n",
    "So, $A$ is invertible if and only if $\\det\\ A$ is not zero."
   ]
  },
  {
   "cell_type": "markdown",
   "metadata": {},
   "source": [
    "To return to the question of how to compute eigenvalues of $A,$ recall that $\\lambda$ is an eigenvalue if and only if $(A-\\lambda I)$ is _not_ invertible."
   ]
  },
  {
   "cell_type": "markdown",
   "metadata": {},
   "source": [
    "We capture this fact using the __characteristic equation:__\n",
    "\n",
    "$$\\det(A-\\lambda I) = 0.$$"
   ]
  },
  {
   "cell_type": "markdown",
   "metadata": {},
   "source": [
    "We can conclude that $\\lambda$ is an eigenvalue of an $n\\times n$ matrix $A$ if and only if $\\lambda$ satisfies the characteristic equation $\\det(A-\\lambda I) = 0.$"
   ]
  },
  {
   "cell_type": "markdown",
   "metadata": {},
   "source": [
    "__Example.__  Find the characteristic equation of \n",
    "\n",
    "$$A = \\mat{{rrrr}5&-2&6&-1\\\\0&3&-8&0\\\\0&0&5&4\\\\0&0&0&1}$$"
   ]
  },
  {
   "cell_type": "markdown",
   "metadata": {},
   "source": [
    "__Solution.__  Form $A - \\lambda I,$ and note that $\\det A$ is the product of the entries on the diagonal of $A,$ if $A$ is triangular."
   ]
  },
  {
   "cell_type": "markdown",
   "metadata": {},
   "source": [
    "$$\\det(A-\\lamdba I) = \\det\\mat{{cccc}5-\\lambda&-2&6&-1\\\\0&3-\\lambda&-8&0\\\\0&0&5-\\lambda&4\\\\0&0&0&1-\\lambda}$$"
   ]
  },
  {
   "cell_type": "markdown",
   "metadata": {},
   "source": [
    "$$=(5-\\lambda)(3-\\lambda)(5-\\lambda)(1-\\lambda).$$"
   ]
  },
  {
   "cell_type": "markdown",
   "metadata": {},
   "source": [
    "So the characteristic equation is:\n",
    "\n",
    "$$(\\lambda-5)^2(\\lambda-3)(\\lambda-1) = 0.$$"
   ]
  },
  {
   "cell_type": "markdown",
   "metadata": {},
   "source": [
    "Expanding this out we get:\n",
    "\n",
    "$$\\lambda^4 - 14\\lambda^3 + 68 \\lambda^2 - 130\\lambda + 75 = 0.$$"
   ]
  },
  {
   "cell_type": "markdown",
   "metadata": {},
   "source": [
    "Notice that, once again, $\\det(A-\\lambda I)$ is a polynomial in $\\lambda$."
   ]
  },
  {
   "cell_type": "markdown",
   "metadata": {},
   "source": [
    "In fact, for any $n\\times n$ matrix, $\\det(A-\\lambda I)$ is a polynomial of degree $n$, called the __characteristic polynomial__ of $A$."
   ]
  },
  {
   "cell_type": "markdown",
   "metadata": {},
   "source": [
    "We say that the eigenvalue 5 in this example has __multiplicity__ 2, because $(\\lambda -5)$ occures two times as a factor of the characteristic polynomial.   In general, the mutiplicity fo an eigenvalue $\\lambda$ is its multiplicity as a root of the characteristic equation."
   ]
  },
  {
   "cell_type": "markdown",
   "metadata": {},
   "source": [
    "__Example.__  The characteristic polynomial of a $6\\times 6$ matrix is $\\lambda^6 - 4\\lambda^5 - 12\\lambda^4.$  Find the eigenvalues and their multiplicity."
   ]
  },
  {
   "cell_type": "markdown",
   "metadata": {},
   "source": [
    "__Solution__  Factor the polynomial\n",
    "\n",
    "$$\\lambda^6 - 4\\lambda^5 - 12\\lambda^4 = \\lambda^4(\\lambda^2-4\\lambda-12) = \\lambda^4(\\lambda-6)(\\lambda+2)$$\n",
    "\n",
    "So the eigenvalues are 0 (with multiplicity 4), 6, and 1."
   ]
  },
  {
   "cell_type": "markdown",
   "metadata": {},
   "source": [
    "Since the characteristic polynomial for an $n\\times n$ matrix has degree $n,$ the equation has $n$ roots, couting multiplicities -- provided complex numbers are allowed."
   ]
  },
  {
   "cell_type": "markdown",
   "metadata": {},
   "source": [
    "This shows that even for a real matrix, eigenvalues may sometimes be complex."
   ]
  },
  {
   "cell_type": "markdown",
   "metadata": {},
   "source": [
    "__Practical Issues.__\n",
    "\n",
    "This shows that there is, in principle, a way to find eigenvalues of any matrix.   However, you need not copmute eigenvalues for matrices larger than $2\\times 2$ by hand.   For any matrix $3\\times 3$ or larger, you should use a computer."
   ]
  },
  {
   "cell_type": "markdown",
   "metadata": {},
   "source": [
    "## Similarity\n",
    "\n",
    "An important concept for things that come later is the notion of __similar__ matrices."
   ]
  },
  {
   "cell_type": "markdown",
   "metadata": {},
   "source": [
    "__Definition.__ If $A$ and $B$ are $n\\times n$ matrices, then $A$ __is similar to__ $B$ if there is an invertible matrix $P$ sch that $P^{-1}AP = B,$ or, equivalently, $A = PBP^{-1}.$ "
   ]
  },
  {
   "cell_type": "markdown",
   "metadata": {},
   "source": [
    " Similarity is symmetric, so if $A$ is similar to $B$, then $B$ is similar to $A$.  Hence we just say that $A$ and $B$ __are similar.__\n",
    " \n",
    "Changing $A$ into $B$ is called a __similarity transformation.__"
   ]
  },
  {
   "cell_type": "markdown",
   "metadata": {},
   "source": [
    "An important way to think of similarity between $A$ and $B$ is that they __have the same eigenvalues.__"
   ]
  },
  {
   "cell_type": "markdown",
   "metadata": {},
   "source": [
    "__Theorem.__  IF $n\\times n$ matrices $A$ and $B$ are similar, then they have the same characteristic polynomial, and hence the same eigenvalues (with the same multiplicities.)"
   ]
  },
  {
   "cell_type": "markdown",
   "metadata": {},
   "source": [
    "__Proof.__  If $B = P^{-1}AP,$ then\n",
    "\n",
    "$$B - \\lambda I = P^{-1}AP - \\lambda P^{-1}P = P^{-1}(AP-\\lambda P) = P^{-1}(A-\\lambda I)P$$"
   ]
  },
  {
   "cell_type": "markdown",
   "metadata": {},
   "source": [
    "Using the properties of determinants we discussed earlier, we compute\n",
    "\n",
    "$$\\det(B-\\lambda I) = \\det[P^{-1}(A-\\lambda I)P]$$\n",
    "$$ = \\det(P^-1)\\cdot\\det(A-\\lambda I)\\cdot\\det(P).$$"
   ]
  },
  {
   "cell_type": "markdown",
   "metadata": {},
   "source": [
    "Since $\\det(P^-1)\\cdot\\det(P) = \\det(P^{-1}P) = \\det I = 1,$ we can see that \n",
    "\n",
    "$$\\det(B-\\lambda I) = \\det(A - \\lambda I).$$"
   ]
  },
  {
   "cell_type": "markdown",
   "metadata": {},
   "source": [
    "## Markov Chains\n",
    "\n",
    "Let's return to the problem of solving a Markov Chain.  "
   ]
  },
  {
   "cell_type": "markdown",
   "metadata": {},
   "source": [
    "At this point, we can place the theory of Markov Chains into the broader context of eigenvalues and eigenvectors."
   ]
  },
  {
   "cell_type": "markdown",
   "metadata": {},
   "source": [
    "__Theorem.__ The largest eigenvalue of a Markov Chain is 1."
   ]
  },
  {
   "cell_type": "markdown",
   "metadata": {},
   "source": [
    "__Proof.__ It is obvious that 1 is an eigenvalue of a Markov chain since we know that every Markov Chain $A$ has a steady-state vector $\\vv$ such that $A\\vv = \\vv.$\n",
    "\n",
    "To prove that 1 is the largest eigenvalue, recall that each column of a Markov Chain sums to 1. \n",
    "\n",
    "Then, consider the sum of the values in the vector $A\\vx$.\n",
    "\n",
    "$$A\\vx = \\mat{{ccc}a_{11}&\\dots &a_{1n}\\\\\\vdots&\\ddots&\\vdots\\\\a_{n1}&\\dots&a_{nn}}\\mat{{c}x_1\\\\\\vdots\\\\x_n} = \\mat{{c}a_{11}x_1 + \\dots + a_{1n}x_n\\\\\\vdots\\\\ a_{n1}x_1 + \\dots + a_{nn}x_n}.$$"
   ]
  },
  {
   "cell_type": "markdown",
   "metadata": {},
   "source": [
    "Let's just sum the first terms in each component of $A\\vx$: \n",
    "\n",
    "$$ a_{11}x_1 + a_{21}x_1 + \\dots + a_{n1}x_1 = x_1 \\sum_i a_{i1} = x_1. $$"
   ]
  },
  {
   "cell_type": "markdown",
   "metadata": {},
   "source": [
    "So we can see that the sum of all terms in $A\\vx$ is equal to $x_1 + x_2 + \\dots + x_n$ -- i.e., the sum of all terms in $\\vx$.  \n",
    "\n",
    "So there can be no $\\lambda > 1$ such that $A\\vx = \\lambda \\vx.$"
   ]
  },
  {
   "cell_type": "markdown",
   "metadata": {},
   "source": [
    "__A complete solution for the evolution of a Markov Chain.__"
   ]
  },
  {
   "cell_type": "markdown",
   "metadata": {},
   "source": [
    "Previously, we were only able to ask about the \"eventual\" steady state of a Markov Chain.  But a crucial question is: how long is it until a particular Markov Chaing reaches steady state from some initial starting condition?"
   ]
  },
  {
   "cell_type": "markdown",
   "metadata": {},
   "source": [
    "Let's use an example: we previously studied the Markov Chain defined by $A = \\mat{{rr}0.95&0.03\\\\0.05&0.97}.$  Let's ask how long until it reaches steady state, from the starting point defined as $\\vx_0 = \\mat{{r}0.6\\\\0.4}.$"
   ]
  },
  {
   "cell_type": "markdown",
   "metadata": {},
   "source": [
    "Using the methods we studeied today, we can find the characteristic equation:\n",
    "    \n",
    "$$\\lambda^2 -1.92\\lambda +0.92 $$"
   ]
  },
  {
   "cell_type": "markdown",
   "metadata": {},
   "source": [
    "Using the quadratic formula, we find the roots of this equation to be 1 and 0.92.  (Note that 1 is the largest eigenvalue.)"
   ]
  },
  {
   "cell_type": "markdown",
   "metadata": {},
   "source": [
    "Next, using the methods in the previous lecture, we find a basis for each eigenspace of $A$ (each nullspace of $A-\\lambda I$).  \n",
    "\n",
    "For $\\lambda = 1$, a corresponding eigenvector is $\\vv_1 = \\mat{{r}3\\\\5}.$\n",
    "\n",
    "For $\\lambda = 0.92$, a corresponding eigenvector is $\\vv_2 = \\mat{{r}1\\\\-1}.$"
   ]
  },
  {
   "cell_type": "markdown",
   "metadata": {},
   "source": [
    "Next, we write $\\vx_0$ as a linear combination of $\\vv_1$ and $\\vv_2.$  This can be done because $\\{\\vv_1,\\vv_2\\}$ is obviously a basis for $\\R^2.$"
   ]
  },
  {
   "cell_type": "markdown",
   "metadata": {},
   "source": [
    "So we want to solve the vecrtor equation \n",
    "\n",
    "$$c_1\\vv_1 + c_2\\vv_2 = \\vx_0$$\n",
    "\n",
    "In other words:\n",
    "\n",
    "$$[\\vv_1\\;\\vv_2]\\mat{{r}c_1\\\\c_2} = \\vx_0.$$"
   ]
  },
  {
   "cell_type": "markdown",
   "metadata": {},
   "source": [
    "The matrix $[\\vv_1\\;\\vv_2]$ is invertible, so, \n",
    "\n",
    "$$\\mat{{r}c_1\\\\c_2} = [\\vv_1\\;\\vv_2]^{-1} \\vx_0 = \\mat{{rr}3&1\\\\5&-1}^{-1}\\mat{{r}0.6\\\\0.4}.$$"
   ]
  },
  {
   "cell_type": "markdown",
   "metadata": {},
   "source": [
    "$$ = \\frac{1}{-8}\\mat{{rr}-1&-1\\\\-5&3}\\mat{{r}0.6\\\\0.4} = \\mat{{r}0.125\\\\0.225}.$$"
   ]
  },
  {
   "cell_type": "markdown",
   "metadata": {},
   "source": [
    "So, now let's compute each $\\vx_k$:\n",
    "\n",
    "$$\\vx_1 = a\\vx_0 = c_1A\\vv_1 + c_2A\\vv_2$$"
   ]
  },
  {
   "cell_type": "markdown",
   "metadata": {},
   "source": [
    "$$ = c_1\\vv_1 + c_2(0.92)\\vv_2.$$"
   ]
  },
  {
   "cell_type": "markdown",
   "metadata": {},
   "source": [
    "Now note the power of the eigenvalue approach:\n",
    "\n",
    "$$\\vx_2 = A\\vx_1 = c_1A\\vv_1 + c_2(0.92)A\\vv_2$$"
   ]
  },
  {
   "cell_type": "markdown",
   "metadata": {},
   "source": [
    "$$=c_1\\vv_2 + c_2(0.92)^2\\vv_2.$$"
   ]
  },
  {
   "cell_type": "markdown",
   "metadata": {},
   "source": [
    "And so in general:\n",
    "$$\\vx_k = c_1\\v_1 + c_2(0.92)^k\\vv_2\\;\\;\\;(k = 0, 1, 2, \\dots)$$"
   ]
  },
  {
   "cell_type": "markdown",
   "metadata": {},
   "source": [
    "And using the $c_1$ and $c_2$ and $\\vv_1,$ $\\vv_2$ we computed above:"
   ]
  },
  {
   "cell_type": "markdown",
   "metadata": {},
   "source": [
    "$$\\vx_k = 0.125\\mat{{r}3\\\\5} + 0.225(0.92)^k\\mat{{r}1\\\\-1}\\;\\;\\;(k = 0, 1, 2, \\dots)$$"
   ]
  },
  {
   "cell_type": "markdown",
   "metadata": {},
   "source": [
    "This explicit formula for $\\vx_k$ gives the solution of the Markov Chain $\\vx_{k+1} = A\\vx_k$ starting from the initial state $\\vx_0$."
   ]
  },
  {
   "cell_type": "markdown",
   "metadata": {},
   "source": [
    "As $k\\rightarrow\\infty$, $(0.92)^k\\rightarrow0$.  "
   ]
  },
  {
   "cell_type": "markdown",
   "metadata": {},
   "source": [
    "Thus $\\vx_k \\rightarrow 0.125\\vv_1 = \\mat{{r}0.375\\\\0.625}.$"
   ]
  },
  {
   "cell_type": "code",
   "execution_count": 42,
   "metadata": {
    "collapsed": false
   },
   "outputs": [
    {
     "data": {
      "text/html": [
       "<div id=\"23b08d80aa13201b\"></div>\n",
       "    <script type=\"text/javascript\">\n",
       "        $(function(){\n",
       "            var p = $(\"#23b08d80aa13201b\");\n",
       "            if (p.length==0) return;\n",
       "\n",
       "            while (!p.hasClass(\"cell\")) {\n",
       "                p=p.parent();\n",
       "\n",
       "                if (p.prop(\"tagName\") ==\"body\") return;\n",
       "            }\n",
       "            var cell = p;\n",
       "            cell.find(\".input\").addClass(\"hide-in-slideshow\")\n",
       "        });\n",
       "    </script>"
      ]
     },
     "metadata": {},
     "output_type": "display_data"
    },
    {
     "name": "stdout",
     "output_type": "stream",
     "text": [
      "\n"
     ]
    },
    {
     "data": {
      "image/png": "[encoded data removed]",
      "text/plain": [
       "<matplotlib.figure.Figure at 0x10f1ca850>"
      ]
     },
     "metadata": {
      "image/png": {
       "height": 237,
       "width": 349
      }
     },
     "output_type": "display_data"
    }
   ],
   "source": [
    "sl.hide_code_in_slideshow()\n",
    "ax = ut.plotSetup(-0.1,1.2,-0.1,1.2)\n",
    "ut.centerAxes(ax)\n",
    "A = np.array([[0.95,0.03],[0.05,0.97]])\n",
    "v1 = np.array([0.375,0.625])\n",
    "v2 = np.array([0.225,-0.225])\n",
    "x0 = v1 + v2\n",
    "#\n",
    "ax.plot([1,0],[0,1],'b--')\n",
    "ax.text(v1[0]+0.02,v1[1]+0.02,r'${\\bf v_1}$',size=16)\n",
    "ax.plot(x0[0],x0[1],'bo')\n",
    "v = np.zeros((40,2))\n",
    "for i in range(40):\n",
    "    v[i] = v1+(0.92**i)*v2\n",
    "    ax.plot(v[i,0],v[i,1],'o')\n",
    "ax.text(v[4][0]+0.02,v[4][1]+0.02,r'${\\bf x_4}$',size=12)\n",
    "ax.text(v[10][0]+0.02,v[10][1]+0.02,r'${\\bf x_{10}}$',size=12)\n",
    "ax.text(x0[0]+0.02,x0[1]+0.02,r'${\\bf x_0}$',size=16)\n",
    "ax.plot(v1[0],v1[1],'ro')\n",
    "#ax.text(A.dot(x0)[0]+0.2,A.dot(x0)[1]+0.2,r'$A{\\bf x_0}$',size=16)\n",
    "# ax.plot([-10,10],[5*10/6.0,-5*10/6.0],'b-')\n",
    "#\n",
    "ax.annotate('Steady State', xy=(v1[0], v1[1]),  xycoords='data',\n",
    "                xytext=(0.1, 0.2), textcoords='data',\n",
    "                size=15,\n",
    "                #bbox=dict(boxstyle=\"round\", fc=\"0.8\"),\n",
    "                arrowprops={'arrowstyle': 'simple',\n",
    "                                'fc': '0.5', \n",
    "                                'ec': 'none',\n",
    "                                'connectionstyle' : 'arc3,rad=-0.3'},\n",
    "                )\n",
    "ax.annotate('Initial State', xy=(v[0,0], v[0,1]),  xycoords='data',\n",
    "                xytext=(0.4, 0.8), textcoords='data',\n",
    "                size=15,\n",
    "                #bbox=dict(boxstyle=\"round\", fc=\"0.8\"),\n",
    "                arrowprops={'arrowstyle': 'simple',\n",
    "                                'fc': '0.5', \n",
    "                                'ec': 'none',\n",
    "                                'connectionstyle' : 'arc3,rad=-0.3'},\n",
    "                )\n",
    "print ''"
   ]
  },
  {
   "cell_type": "code",
   "execution_count": null,
   "metadata": {
    "collapsed": true
   },
   "outputs": [],
   "source": []
  }
 ],
 "metadata": {
  "celltoolbar": "Slideshow",
  "kernelspec": {
   "display_name": "Python 2",
   "language": "python",
   "name": "python2"
  },
  "language_info": {
   "codemirror_mode": {
    "name": "ipython",
    "version": 2
   },
   "file_extension": ".py",
   "mimetype": "text/x-python",
   "name": "python",
   "nbconvert_exporter": "python",
   "pygments_lexer": "ipython2",
   "version": "2.7.6"
  }
 },
 "nbformat": 4,
 "nbformat_minor": 0
}
