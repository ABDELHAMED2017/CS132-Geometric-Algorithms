{
 "cells": [
  {
   "cell_type": "markdown",
   "metadata": {
    "internals": {
     "slide_type": "subslide"
    },
    "slideshow": {
     "slide_type": "slide"
    }
   },
   "source": [
    "# The Characteristic Equation"
   ]
  },
  {
   "cell_type": "code",
   "execution_count": 1,
   "metadata": {
    "collapsed": false,
    "internals": {},
    "slideshow": {
     "slide_type": "skip"
    }
   },
   "outputs": [
    {
     "name": "stdout",
     "output_type": "stream",
     "text": [
      "\n"
     ]
    }
   ],
   "source": [
    "%matplotlib inline\n",
    "%config InlineBackend.figure_format='retina'\n",
    "# import libraries\n",
    "import numpy as np\n",
    "import matplotlib as mp\n",
    "import pandas as pd\n",
    "import matplotlib.pyplot as plt\n",
    "import laUtilities as ut\n",
    "import slideUtilities as sl\n",
    "import demoUtilities as dm\n",
    "import pandas as pd\n",
    "from datetime import datetime\n",
    "from IPython.display import Image\n",
    "from IPython.display import display_html\n",
    "from IPython.display import display\n",
    "from IPython.display import Math\n",
    "from IPython.display import Latex\n",
    "from IPython.display import HTML\n",
    "reload(dm)\n",
    "reload(ut)\n",
    "reload(sl)\n",
    "print ''"
   ]
  },
  {
   "cell_type": "code",
   "execution_count": 2,
   "metadata": {
    "collapsed": false,
    "internals": {},
    "slideshow": {
     "slide_type": "skip"
    }
   },
   "outputs": [
    {
     "data": {
      "text/html": [
       "<style>\n",
       " .container.slides .celltoolbar, .container.slides .hide-in-slideshow {\n",
       "    display: None ! important;\n",
       "}\n",
       "</style>"
      ],
      "text/plain": [
       "<IPython.core.display.HTML object>"
      ]
     },
     "metadata": {},
     "output_type": "display_data"
    }
   ],
   "source": [
    "%%html\n",
    "<style>\n",
    " .container.slides .celltoolbar, .container.slides .hide-in-slideshow {\n",
    "    display: None ! important;\n",
    "}\n",
    "</style>"
   ]
  },
  {
   "cell_type": "markdown",
   "metadata": {
    "internals": {},
    "slideshow": {
     "slide_type": "skip"
    }
   },
   "source": [
    "%Set up useful MathJax (Latex) macros.\n",
    "%See http://docs.mathjax.org/en/latest/tex.html#defining-tex-macros\n",
    "%These are for use in the slideshow\n",
    "$\\newcommand{\\mat}[1]{\\left[\\begin{array}#1\\end{array}\\right]}$\n",
    "$\\newcommand{\\vx}{{\\mathbf x}}$\n",
    "$\\newcommand{\\R}{{\\mathbb{R}}}$\n",
    "$\\newcommand{\\vu}{{\\mathbf u}}$\n",
    "$\\newcommand{\\vv}{{\\mathbf v}}$\n",
    "$\\newcommand{\\col}{{\\operatorname{Col}}}$\n",
    "$\\newcommand{\\nul}{{\\operatorname{Nul}}}$\n",
    "$\\newcommand{\\vb}{{\\mathbf b}}$\n",
    "$\\newcommand{\\va}{{\\mathbf a}}$\n",
    "$\\newcommand{\\ve}{{\\mathbf e}}$\n",
    "$\\newcommand{\\setb}{{\\mathcal{B}}}$\n",
    "$\\newcommand{\\rank}{{\\operatorname{rank}}}$"
   ]
  },
  {
   "cell_type": "raw",
   "metadata": {
    "internals": {
     "slide_helper": "subslide_end"
    },
    "slide_helper": "slide_end",
    "slideshow": {
     "slide_type": "skip"
    }
   },
   "source": [
    "\\newcommand{\\mat}[1]{\\left[\\begin{array}#1\\end{array}\\right]}\n",
    "\\newcommand{\\vx}{{\\mathbf x}}\n",
    "\\newcommand{\\vb}{{\\mathbf b}}\n",
    "\\newcommand{\\vu}{{\\mathbf u}}\n",
    "\\newcommand{\\vv}{{\\mathbf v}}\n",
    "\\newcommand{\\va}{{\\mathbf a}}\n",
    "\\newcommand{\\ve}{{\\mathbf e}}\n",
    "\\newcommand{\\R}{{\\mathbb{R}}}\n",
    "\\newcommand{\\col}{{\\operatorname{Col}}}\n",
    "\\newcommand{\\nul}{{\\operatorname{Nul}}}\n",
    "\\newcommand{\\rank}{{\\operatorname{rank}}}\n",
    "\\newcommand{\\setb}{{\\mathcal{B}}}"
   ]
  },
  {
   "cell_type": "markdown",
   "metadata": {
    "slideshow": {
     "slide_type": "slide"
    }
   },
   "source": [
    "We continue our study of _linear dynamical systems_, systems that evolve according to the equation:\n",
    "\n",
    "$$\\vx_{k+1} = A\\vx_k.$$"
   ]
  },
  {
   "cell_type": "code",
   "execution_count": 3,
   "metadata": {
    "collapsed": false,
    "slideshow": {
     "slide_type": "skip"
    }
   },
   "outputs": [
    {
     "data": {
      "text/html": [
       "<video controls>\n",
       " <source src=\"data:video/x-m4v;base64,AAAAIGZ0eXBpc29tAAACAGlzb21pc28yYXZjMW1wNDEAAAAIZnJlZQAAJultZGF0AAACrQYF//+p\n",
       "3EXpvebZSLeWLNgg2SPu73gyNjQgLSBjb3JlIDE0MiByMjQ1NSAwMjFjMGRjIC0gSC4yNjQvTVBF\n",
       "Ry00IEFWQyBjb2RlYyAtIENvcHlsZWZ0IDIwMDMtMjAxNCAtIGh0dHA6Ly93d3cudmlkZW9sYW4u\n",
       "b3JnL3gyNjQuaHRtbCAtIG9wdGlvbnM6IGNhYmFjPTEgcmVmPTMgZGVibG9jaz0xOjA6MCBhbmFs\n",
       "eXNlPTB4MzoweDExMyBtZT1oZXggc3VibWU9NyBwc3k9MSBwc3lfcmQ9MS4wMDowLjAwIG1peGVk\n",
       "X3JlZj0xIG1lX3JhbmdlPTE2IGNocm9tYV9tZT0xIHRyZWxsaXM9MSA4eDhkY3Q9MSBjcW09MCBk\n",
       "ZWFkem9uZT0yMSwxMSBmYXN0X3Bza2lwPTEgY2hyb21hX3FwX29mZnNldD00IHRocmVhZHM9NiBs\n",
       "b29rYWhlYWRfdGhyZWFkcz0xIHNsaWNlZF90aHJlYWRzPTAgbnI9MCBkZWNpbWF0ZT0xIGludGVy\n",
       "bGFjZWQ9MCBibHVyYXlfY29tcGF0PTAgY29uc3RyYWluZWRfaW50cmE9MCBiZnJhbWVzPTMgYl9w\n",
       "eXJhbWlkPTIgYl9hZGFwdD0xIGJfYmlhcz0wIGRpcmVjdD0xIHdlaWdodGI9MSBvcGVuX2dvcD0w\n",
       "IHdlaWdodHA9MiBrZXlpbnQ9MjUwIGtleWludF9taW49MjAgc2NlbmVjdXQ9NDAgaW50cmFfcmVm\n",
       "cmVzaD0wIHJjX2xvb2thaGVhZD00MCByYz1jcmYgbWJ0cmVlPTEgY3JmPTIzLjAgcWNvbXA9MC42\n",
       "MCBxcG1pbj0wIHFwbWF4PTY5IHFwc3RlcD00IGlwX3JhdGlvPTEuNDAgYXE9MToxLjAwAIAAAAi/\n",
       "ZYiEADv//vb8/AptFl7dP/9P+VxN2UIE1zAAAAMB/aj/pgERBGsVLrPK//7Y6Rc2Z1y++nhwR4qq\n",
       "8mGV7hsKcn/ZGJbQj/jlirzB5M7K/2FNSm/UEqgbGuu0iwY/UikFFkovAU/Vgeo5GSgT/+LO6jZM\n",
       "Stjp9fh9TM1DQvQnV6fYpi8ghdsIkCte9EjR4TKouvlPDP9fbhx0F/74tv/xbf6yvta3DCUTYvs9\n",
       "MOXb2PhLituZOzqX6L6dcBUj2PpWlX9G2fK1pTR72X9cRZoiIryTQFpZ3YAAA9gYnNXlFwH5nQNR\n",
       "IZvjq3QJhVck9HRpqjqjjzwpoibFc2sVX8UpozHdGErAM7alzNNikPlCEYBcZKFz4+DlexjwNz/z\n",
       "jgLQ5dsz3rugRSYEAmBmz2BkX26MuNzVnhq+Qs9u+aP6QXAcgdJdbo5RdjsIiT7hWkaBpOkf64cY\n",
       "KDudqBRHu1kb0tJiHx/5vfoBgk24VrdQadQ5qVep3IsXAZedDiSfV5TVVU82zVqYcAe5ZzAkLQPL\n",
       "x3pdOd4yeeNDZID+B8qpyW4VN7o2oq4jV44f+gXorYD8G2vgT04JFkXPVJdENBw/tyrTW7rN8TZ/\n",
       "NuDwkPftCA4MRJo2XQwYIlOv2qKbyyjN2LORoXHBfkIxsxE5m89x2fKvtV8WTJXTa2TxQJESpIEN\n",
       "JFFWjnDfpNsjhwtDlU1fbO5MP/OfKJcvUL2la6zbmZ406aFOlBjsHd/JJoLitQcRIMHp6NQVWcES\n",
       "+ndiR1NgbYZfbtKf6uhKbAa3KZJx8SVA23mtjSPFkRzna85vOKJ3utv9RTQPwRgdzvrXyB8oqJh1\n",
       "iede7Y2LyPQzX9yRVmCs9SzY6Ch1aSbnxYw+aFZuhKW3fNInOw5oE1UeJU+/NlJQYHKd+XfLZTnO\n",
       "3o2y1bmgWqf/rXfJsk7jD2ZiwV/YS8zMNCsALcPp2kqrQrNgRSz04DNYmjp27G5OO2hl0WuExQ+m\n",
       "wOwJrVBYKIc7VoSfKU0TtzKfSmQnNieWou53gZPJABwpbUYfXhUCun/+3Z+ezoZxIYS1nR+KrRpO\n",
       "otXTIVWYwL73coMoEnKmyRFLCHDBYI5Uwm/Tz2m5tRJqQLABQ0+cfv8ILSg6gPzicG0Oytbkp/KN\n",
       "XiZgSEYnZJNPxh2yOeHvMkcx+kkdf+6ITWjlctbXD3VZ3Eao+ctpSHmyN+PoDAx//JOZI37B+mZI\n",
       "pzpxg+TR3WfX3Y254fhw+OqAjXXuVejWmuRRmM4w0VeDbMwuOC5vcPyEK2NsNyY6VRszn2UKRh0f\n",
       "I3Ju9OW0zH5kgQM0FtQsprx+xIWHDMJSuZ18EhIQOSbrGgGE1KqeYW1OOsuGMgJwSeffMU1FfYAW\n",
       "qDgWgT0h32q38hv6eSAAJsI1sDY1cUbrV06lGPIyd+Y+H7j7HBo/Jn27eulFXD2dVgADYYGohAPj\n",
       "sxu3nT4Bp+uQCHrcAc5JflVw83Gfj1UXhBTkMiqqHoNW7oIasNQjysWfGRZ7iDUWf/jl2qDdx/U4\n",
       "r5e9zr3IafHz011BrD/mzteLJWxJ32zSc3+BBMant2molyZ3CvgaKh9P/89vlajQnV0ZBHHyC5pU\n",
       "jCzmX+KLJMyPyeowJnyZUhw23oO0XEaEblSAh7o2tPSYJiQYTsgteJ05TPPutOszciz+XJzdWydB\n",
       "hl8kLWBpwt+6KkYxUMaWxvRKZ1N4c7QVeW6WmEaNY4YrF5NFbT0qHT/5UvYWKP0HWJpRfhUR9lJF\n",
       "0QfwIxwap3lqa+z7LN3LJImQCSmIRsGgJmwFLiXIIvn+69dTYUv3sGBILGKOi2Ar7+VMuvC+OTCT\n",
       "dBWacFT8+GsVrNEvl9KEVNPID7kI2oO5rnoQNHA7BwGXsE8zcdCCDi7ZbU1JAelsVctp7x+tumny\n",
       "QL9tG1M7nyKtLxL/5UimgmJC8sXA+KePfI5EyKSKgeA+k8NtSDFpo/t9pymJcm68b31c6iW+XAv8\n",
       "aSg17R3QYjOMqDVODK/31/yFqOF6MM3Lxw3klQ6qQfu3+Gfv42KSvK6JMAqskdtv1lJz+wqTIDQj\n",
       "+wuJiwtychnWnfvTRZnpAKgUOGGdlROkj97CSI/Qqz3RQoXIlS1TTyaBT2cufQKL9g+FqkbXsxiC\n",
       "Ov611xlg4DGLplGVquuO8UyfjdC31/otyRcTp9kgAnidJXhSA4ll8a4st0hgsx+FnUrLbDRgDPSG\n",
       "zXRuj8GHAa2rhYACXnCS5Zifd3ThxKCSsEhaywLHO1dU1BrRlAXhvVRRUHhmnIno2lYVf1UifVlY\n",
       "te8oAlUnYHeJcrQrgkv0iwr2bc++snStGxUjHp1SP7mcfgDuQvAATR4kd0xFKjLcT1uIhJzJTttB\n",
       "L2sPsV+glqWwvBlL4CnRZB9kNi475h9n3/NzNX7VcAJ/jySA60UId6T5ThNUC9Qzcb98ht153P1D\n",
       "l6QJpZSpAmhDSAOBb2xxel1kifzKbnrI1Qse6o37BENTsD7Lvm8KZmFnYAAdKzzJyk51RxUjyVYk\n",
       "VDf9AxnktQf+A7UZxqD1Z+pqLElUCqfj7jzn9y9AZ7v4tI8iwECSdqG1G2DTn0lMyu10UHan6Hul\n",
       "vzp5Wvrgpnj/yYPguB2ri79wAsh9cY4eLEWd1dFq2jGgG7NkpubvLd1ImHHAAlfkrjnLBG3RPqhC\n",
       "+eAhxfzzh9P3mrBnZx85M/GPy59p6j+kYiePozKLT4HzgfaGTYm/zoJ84GAP9jmVSUvecmhP/5A2\n",
       "UmRdrqREojcnsdZeKOWWi2LUHbPF+Fm2WlhCQGc97VLX5H5UE8OzxzPm2R3a7qoox/wgt4kGoB8h\n",
       "6k1TiExXH12ZKP2ZB247hBz66mlCLf+5kD5JrUqBJySjUW0jnBo1ZISxnKHX0ie4dkr3yeMhdsLf\n",
       "dvEGU/x5kU4FPdUBEowJaSemaNl4jkNoNS89kPNTFXMj7iTUes/TE1Tq6NpTwg7Xr0m1iEjug4wE\n",
       "ImSR76oCWuL5LEognoABKQAAAspBmiRsQ7/+qZYTAMNALXcL0uf2Q9rK40f9zhbSCnS9THq/FYnN\n",
       "qsjT0nqoOaLCYUL2aJ4lhp0vagJx50BQX+nxw/EhJ0FGLqSpdG7v1aDdIPg0r+OkzkkClfE9s4jF\n",
       "NCXLxDLUsEItRxGQADt4dtM+LkvRtd5LoNXKklKqW3pxfaduumcSTboo42jyYvE+KG4Y+vzQaWtI\n",
       "9WblMkrT4DJng1IHimZn9smrs+VlsFo52YBOGxY8w2ecnqxWOj5njahXBGjgXXVhn73lQsby4iFg\n",
       "RYnmrBjWOb7eVF30x25xZ0CSA2l/o1zl14ZjiE8bjTICEkYhwzacxUVlTffE3SGhBm8LeRhiiq2S\n",
       "AYGirWbpspXxcvnjRudmJVh1rc9XdBdSBhBIe/lFK3R3d1w3rzvyEBywlUw9+Pl8tYANQS3nw/5O\n",
       "yXyek7ps02sHvRffHefdPHVWUNFfB4Ao4FekiA08Caz2OW5BUT2egWJxMKHafcrS2VnBSnCxMSxR\n",
       "qonFemFuhqo3RqjAW8N/Zwuq/kWOPRyopjyTK1PhuJyrpOMdYnLTxkRuq3h2WVBhSe+9EceQRT7/\n",
       "VU1GD0lG/hOvfwP7a/e/0CW0YE26rSmmUloSgmPSga5MYmLuXkFWdZU1B8k4T8HsqYGzrV04pDYb\n",
       "JRYUmvNFkWeniBn8eAD+6C3OVwBaZq4fzNCwQd0uz5WeKVDerCeCgQK6Z/i2/AAwOq9BSutX5Ccq\n",
       "SR0vT5n9WXH2ULVDcxsiFl2HUmnaIH8DmF3OjzQrecjQMagTQRBzSQFjFWBmkuh16FZJvWQd25rH\n",
       "SQW3kj5I2x0CwPMHQkYPh4oFYDmS8F0jIwNJ65XMpD8AWaTtspM8daAqQiTOGmxc9jYw658JlApR\n",
       "bED51OApJIYjmvwP+r0eCOhkiPTu4N75+JO/oNphP8ScZeoIiaH2NJq8GUi+ipYO9tgAAAA5QZ5C\n",
       "eIZ/AhXvp7EZLUS3Ta9A538NgATPXCF/BsmpTwxOVXjTGSuL+gvyf/FZ75USZcnjaGMNkO2BAAAA\n",
       "MAGeYXRCvwOZsW92EaBpgBYJ7CzkTOSp4Py/tP52bLd0MeX6ZUY/4w+WrBdQ/eF2eQAAABwBnmNq\n",
       "Qr8AX52xqYw9E7Fg6FfBdRgjvd4Ef8ZFAAAA40GaZUmoQWiZTAh///6plgBCeraz6wyBAxiLCjID\n",
       "N9V2PSj5HCXpyDEBkNFnUPx6+EXXvkStMDaet0jLGwcEAfARWXWDyY/5STOPsqqZKmOrly4I/qcC\n",
       "9q/0Lbe6JS9TgHoMa5EfJ/oQA7LHDYO2gPQ5J7CkqHGc/sAE6Q5JN/vgMtGx8AAoGO7ZcYJ7lXRk\n",
       "6vXJxpF+XEd1coLvlfedza630eihvafWrgc1oRfKu7YXTtNLqtBhvx8zgQeiVaQdJlBFS1KVeAkv\n",
       "s+QHt8JzRcPBdAd5DUtgKoY/2ZDEbcG5hWPTAAAC3UGaiUnhClJlMCH//qmWAARnldzwFXtMUAAq\n",
       "4DeeEGmoFuq9u8ONkuT73pkmgVOwe/dlyPxx0EXZDUMIprZ5kkapTZwYwGK0jjw3zFJwOzhLW44T\n",
       "G7K2Y89lDw0PDXWHVnRoKZ/PgtOJLeYjh094+Ib2qftsdu6vTWHq2Bv4ShH2buZHsX260IlvL23g\n",
       "HZym0upW1ZNjX3uJZxw8cG0jd5TzbwsURIVFrurnfbdxsjvZ4Jzub7zgSFxWaqWY43ci5JQjCyBk\n",
       "3EHCtcokt/HJDda4p26rMYAT4H/uy8/11KsBSCHXkl22aIltc7Nz3nl+lCbOdFdTJ9wQ8Os3I8d0\n",
       "ihUyxXwxaDYi6xQZ0X/nWWdOzD2LcxsAmXVvFWwLGBkovlBC4zN6EDFzkAbUFv54t8BmucMop4wv\n",
       "QTU4EZFru9rDEOW1R68ifc35ywJ7tV3FHp1WZz0TeH73XS1c+2CiXzaVMt6utIdt6ruLKpiGoDA/\n",
       "F4zA8DUT9SfGp93V5RHHnfQ/tnt9x++j4ckmGOSC1UJ6i5IUl4Ud8JnacNxfan6lJYwBTj1TEaWS\n",
       "IddsAUuZ4ndqncZg++VgEChSQQxP3SH8Vsjm6EV0i2yw/kiuyygzwp3sX7WdghBRAjCCweNxmuSX\n",
       "YiUF7uHKbl00F49FUTCewOx2iMaxVJhY1isSWTP/I25BNUeGORjCCKLEQ7NBh8TzFXA9ZFBkcQUH\n",
       "1EqhUZn6C8NCDqw5vXTc9Qyz1E0Q1KX1/nCxlZvedf28Pmb4Q5JUnj7BxYDaSY/F7MdjSPLxex1i\n",
       "pvCUjDsfNAydpvak71NbvurzGhjHkPabizLeawr38S9yFLJhlL23lSNOY+2l4k9tlrA7ibtmjInv\n",
       "Bj8H20DO+x+yuvW9daXeAtwoB7KXARkaljnFQUbw6n/CQSgEwaTNLwctfaodYOgl3Bx+ZHBdDoEv\n",
       "Eq5+9GlnUmoTUDRXUEVV3+arg6U9a7sAAAAwQZ6nRTRMM/8Ac+6gJKlT1edECGsEqjKQAMfGh3mq\n",
       "1QH5RQ+5TI45Q9jpfEFa/lJBAAAAMQGexnRCvwBfgEFDUPxQgP6AEJz1Xgr7LqfXOuQ7v4X8vcuz\n",
       "CyQ8l77cugUhDUnjTHcAAAAvAZ7IakK/AF+dqfclYom5O3vN2D7XBZPQBVtUZPjG1akdzUxqFGrV\n",
       "gx/v5tuF1IAAAAKpQZrNSahBaJlMCH///qmWAAJAgM6AFh0uYc4w1/ojt/+HwfjpWjLwnu16fK35\n",
       "elr03+qOfxq8Aeps7SY081TqiKIYRm0/MKrXkS/WSlO8X9fZOBfbcvvxIEQlpuSu07wiwO6P8cgS\n",
       "aDm8yqW5vIOXcIBB4QbK6Ete9li2b1kjbQEqRC4jPd68yIFetH43bmeZvRbcJV9Cad6hlcC3IfyC\n",
       "4vhoDIBVOxnHTg1u5kK2ZDqkW7pIKuHyMs54bVpUtHu+DtoQ0O/D5jZ21WBgZQXquVAkM2RTeQa+\n",
       "ni5fnr3mpbkssZQ7EOCAmFTLOgHWbmoTgxkBdvOA3egrI1ixGlNbtj5uE30pBjDl0rg9vB7PZZnY\n",
       "S7+PbEapxJOu1IhMAFu84YNVRhBYh0iwbjsqb1ALbfGcaumG/dNWVpCZCMKd2IvX5iPccAY3rTTJ\n",
       "S9wFfRoV5J1Xh3Ve5C5OK8VuI6k8DMB7eAzmD+2mK7qVuZK4dNvVO3fVGlMt01HrsM8CeR8+aUM6\n",
       "MIYqWuAbkvtZAdPvbcgNsmmPRNUwRCrcPcQeDuCDTR7rfG5TFemAMiIXeQlLjWNggOBoBgCrbI//\n",
       "TJ8BRFlc4TrErZJltXe070FrqYVmStvkg62C8PyyTHS9DYvJdqqm9HBDvQmVTjwloACD8vkNRKX+\n",
       "v8nzMqCzqlwepEMzHnUsOKbXKTEcjWfmlqbdlnjsXE0ddqYvTiPLCM1Hc+CBgUVjYdZX3a34WCuW\n",
       "xtNSBlk+62hub4VXuCRVFQv+caYbYvo3aN1DdI2mTANT5LOxpBgUZLmPEbIbsNdvqfOx6PQEffBH\n",
       "UJaYkxbjvaEFq9aRkrWpUElnc8H2pkvJ11VEQNOw288IERxwwAQOQWNLiDfR1YiamKsRnvx/lbRP\n",
       "EtcC+1nsf3GBAAAAL0Ge60URLDP/AHPuoCTuEog2jhllCZif4KM9+R7rw4AKjmJ2gAPpMIkQKyXN\n",
       "MWBAAAAALwGfCnRCvwBfgEFDUJjvty9EqHOkgrqvYAPaDPfDqtuE+xDmh37PeDrDAhPTxGxJAAAA\n",
       "GAGfDGpCvwBfnan3JRDmkoykFdfJ4sba4QAAAXtBmxFJqEFsmUwIf//+qZYAAW/hb95hp1ABL1ET\n",
       "PgsTO0x1GdONjMoyz9/0Wyi52z8zxkjmNJJXoVdu9kPbWrF7VqEwOKpKbvQeL6AGEaV49PIPKB/O\n",
       "I2Cg4nsCmDn7uKpatniA2k01oCezH92nbrkxFZFcKZIerTopHZ38eIAI4orpnX/9xCZ+Jxat4Vof\n",
       "+j5UBVccdX1nT/suWK8Bp2Y93iPUaL51Lov0JPXMA6NTKXfxFMQf5kC5JJ8OUqmSobsAw8OuBhb9\n",
       "YVUBUkCO9qod5/9HPKplNJAwbH+eTzShymhAPU9T9iBBOHLmjpTknz/H4cvvyJjTVoitTbZVj+2g\n",
       "mOeeze/cdE9rT45dfJ0mYM4hHz8VUv/RrfZKkFdsbJ6ET3SWuBO4CRAdPApbfJthm/cbCSWpkY2e\n",
       "LNZ3guNqTfxy2TixqJZvSy+8yZBR0UahOpS7zruU+Jwo7/FeKRqp2cx8OkduZ7u4V04VKQiwdYct\n",
       "z0Leaff/dwqBAAAAP0GfL0UVLDP/AHPuoCTuEog2jhhkx5bP6gUsO9GiADaX9iA+UGZMpWbcLyMT\n",
       "EAUpoHJnrIxWZMGSxx+86L19MwAAADYBn050Qr8AX4BBQ1CY746PuQJkwd74AJ284FOhWgzH8Zt5\n",
       "wY8xr7QLnWfBNaLuVbRC7I/Fo5QAAAA2AZ9QakK/AF+dqfclEOanYGvbKwAgVxV+6QzBfg81+EyD\n",
       "A15ERQOP4zCzmI4JJ/Aq8Q3YP8nzAAABQUGbVUmoQWyZTAh3//6plgAC38LfBbvUAVqu95BNF0EP\n",
       "9O53SHyusSp+NohBnCS/sUqmWkrHSCir/TlEBuU57IwPUqBjSNKYpI6+LcyHs7iyXTndHD2k7huc\n",
       "Qk2Jn8zq61h9FJouGyjdKcmncV0hJxeTuylWXR2EKxlGfTbIo09fFbs7ZNmMJ81HbKrEfthHRC+G\n",
       "XIOMLK7HrUtdHwf/rstDjtxlOj82eZgI+InTiv71KRTT8prDxowCk5OlKia+5DNXoXZPkbCT/U/a\n",
       "2yNrF7xDQJkdrZF6onN+M1CFD3cmY7oMGvDumqWj2HCeDXzTKtlL1HbQUKDxcT0zoFTUk5dr2Zi1\n",
       "AGErvAAntx23AFDs+8CHbUFS+BP5ij10fmIi3Mz/w2WAKDPXpX0MouK/cBbAhjqPTTh2fKAxNlVp\n",
       "VNf6QQAAAERBn3NFFSwz/wBz7qAk7hKINsXnqsqIBb9EJ6ADKedP7farKpXHR4qvK9A0uQemQBGe\n",
       "YY2S5uEswYvZnfv1ZhpIqHDFgAAAADMBn5J0Qr8AX4BBQ1CY79TKOSkQAatAOVjY+wZzzYWyVBpO\n",
       "gyfKYzt7tq2U638YuuBEgrwAAAAsAZ+UakK/AF+dqfclIhsxpPuuI1yR+UAGlhBI2K7wyqX+1mCw\n",
       "zbk23ZN2/4EAAAEhQZuZSahBbJlMCHf//qmWAALbx9QBPCALyK1DHAhwZd0VGFdkmtsYGaURXDXr\n",
       "+cwhVv5C+EK4jxcqobgrJTCM/8HrUUV9o7AIlI5NS7EU72tbOunHLbcYuf/DW7I2Hv8q2rse4/zA\n",
       "SQYSJKd8HgqSnvFXE1pVCBOkQTsoV4vynpRLClZ+U8ihbRxVPHWTFVekYEMo8FdVUwSM1gOKrWqI\n",
       "KXY9y62CfR300YVNCZO4Smnh50PHwYm6esjZBSqFQJgUrZJfeYO0BAeLz5TOjHUEIoUboCuo5B81\n",
       "ub6sB5qRfIEM9N9gNbvglAUtVawVvMe6afxh7iziNQ7FQFPXv++TMDWctJwr7Zuby4XDFNgbbbGm\n",
       "6bRiyTKv3vgzWjcH8PgQ4AAAACdBn7dFFSwz/wBz7qAk7hKINsUewB3ogwJztLdzKcogfNzuY9NB\n",
       "D2kAAAAZAZ/WdEK/AF+AQUNQrJP/fNLg1fOuVGVf8QAAABsBn9hqQr8AX52p9yUfdpr1NweqP8W9\n",
       "0/c1b8AAAAA9QZvaSahBbJlMCH///qmWAAK6Mm8NNkoAOEoR7ikglFjVUgtQqBlp/2cpWsE3xuZw\n",
       "KUS80ThIMiywNkRCCQAAAJNBm/5J4QpSZTAh//6plgACuMRBpGWwA/x1FnRMPpUJBH+wYJafFLoh\n",
       "95zIfFLDY/nBhpRjJ3bfEkHaXtxdg+JM7bjsHUKVP3OxCt8bVIbYsee7JnaMODroCWSzricgs7qh\n",
       "Yyx9u//JIo6zYP/gRMBau7CZ9tM2n3s7Fxct8MKS6DM8/RPqfTXkE6qnEnhz//PMR/gAAAA5QZ4c\n",
       "RTRMM/8Ac+6gJKlT1ea+1gjOZ1t3V1ycAJbOsgNwjj2/Bkd/znoNWbMOxUX7JHCTSB4GlwHBAAAA\n",
       "HgGeO3RCvwBfgEFDURxLP/i6qWWPk+jaY+X4fhoh4QAAACwBnj1qQr8AX52p9yV+b4uSjEO58qCA\n",
       "DahE0E4ASW4qRgreAiZwPELrtoECbgAAAIpBmiJJqEFomUwId//+qZYAAqVdeniaVX4T5EgA48+n\n",
       "jdVPlyCDX5ItV0s+CXH3Wl0oKjoqoZork+FPfxzTuGNAYvHPRIoGugm04zFGcmpGbjNdAP58M0K4\n",
       "hE5etUudHPhxYrXAT6DrEMRpY5tZ8Jfhffm+KcfnAuMjzXhjXBeZfPMaU6Qq/03W9nAAAAA0QZ5A\n",
       "RREsM/8Ac+6gJO4SiDapaYXX7lSl8R54gAOxvKcGNJhXwOtflQ9t3Ejsa1a4jBkEbQAAACUBnn90\n",
       "Qr8AX4BBQ1EcSe9YFxanSaAD6NGkQf9cvpsrEbsPbNl4AAAAKAGeYWpCvwBfnan3JX5vks4oxUwA\n",
       "OUwo68Sltc4mtauggCVvfEvxAh8AAADAQZpmSahBbJlMCHf//qmWAAKlSaJQnkj2mwA22nQNGFt6\n",
       "IHklF2EJGCQjtL+xXOISsWZP2MKHIT4j2bl9gitd3zkZ5kyy0ToBOYnvOob8lbx1NVgnVEm3NJcw\n",
       "IG/EmzEZP8lKNVdu8c8DTz+n9zFeqo2yMcGB3vtxSPNwjeDhPHMAv/OHba2GgIXNmeoJ8ZI/HUrU\n",
       "nNh12ZHgR46JHTudVZAfUrjU/N5GGy1BFCxdDWeIQNBAmhsPH/3l+4VUa+4MAAAANkGehEUVLDP/\n",
       "AHPuoCTuEog2qYXOAXlJiQAcqNnq8FsassXZr0VZn9hcfR/+Z2IVg9bEeRCwIQAAADABnqN0Qr8A\n",
       "X4BBQ1Cii2jAjZAAC9EmItLyY5u/PlVfVFB1P7pEg3FLv+pxcD2teWEAAAAfAZ6lakK/AF+dqfcl\n",
       "GSzWLvnkDvOE4za+xF+ghKSkwQAAAJZBmqpJqEFsmUwId//+qZYAArdFvnynwiADaQQevUu9W91f\n",
       "b2PERhPXdTYg1WtNi+HAihEMSysr6BI36/BvmFuZK3HcKYSERgweGpctxEzNnZFqsEsHtd9TKjaO\n",
       "YehMqubFjpyH+Vsrz3v0Wlgop10rFiRAguvZtxl0of35rjNh5gpqa4tnmi1n+JhZR0RumqDVCyO6\n",
       "q/8AAAA2QZ7IRRUsM/8Ac+6gJO4SiDaxhyqZwydUgAczobR5362nffwpV3NaL3QdlW3CGGRs2TX9\n",
       "Oy6mAAAAIQGe53RCvwBfgEFDURxLOx2DJfVw3Ef7n97YK8xpKYrp7gAAAB0BnulqQr8AX52p9yV+\n",
       "caEePq4qs84KlVun5ORvmQAAAE1BmutJqEFsmUwId//+qZYAArdFv1TCADiB+2JfcKK5ti0P9c9C\n",
       "rzWqne0b5l4Wdne9NRav3yzEAuBO8S38i7X2ZXCZJmwY5cw7Zz5mBAAAAFFBmwxJ4QpSZTAh//6p\n",
       "lgACt2bhYUVgBqtYjghJC6osteR2VuDLWW5KMK6ftTP8rzAAMsR86ZSPzcAtGFpRKTHK5+P9RU4X\n",
       "bN8Lt+mlj/kwMCAAAACQQZswSeEOiZTAh//+qZYAArhfzgA2+hK4x45N1bou3Xuf56sDzBPuqbhI\n",
       "2jA799AXAL0gDHIcqn3vKts17/8cR1sVvUHxA94KiWqWv1ZtaMUyLXOHH6lc1q8et8E/DBMzpJtf\n",
       "ZEhFIM4r2zxHKwSvQtm8FoJ3MnqePnP8ISdZXNvJD+m36jOY11BLxG8jdhGpAAAANUGfTkURPDP/\n",
       "AHPuoCSpU9Xmv81oAL64eJ3X7qT0c2eQfkXDCDee8mVZn3wunBceYqCsajmzAAAAFAGfbXRCvwBf\n",
       "gEFDUKblUpgArcBBAAAAKAGfb2pCvwBfnan3JR0c8AAL62lsPuaf/n8rafB8nkqdH8QSSkrb0mAA\n",
       "AABkQZt0SahBaJlMCH///qmWAAK3Xb8ZhLQAW0SM7/9t7dzX3KEMc8dm3e62oPO1D2rvbQo2CNE6\n",
       "MLdCR+2K+zO16uOrtepTvOV5ej0rZy8jqj72C6m4H+AAMKwG6CwAj9f4OwjUgAAAACdBn5JFESwz\n",
       "/wBz7qAk7hKINrGFyknDdABdWQDqACzTN/06y1hlLZkAAAAZAZ+xdEK/AF+AQUNQpqPFQAXH/m3o\n",
       "O3GAgAAAAB0Bn7NqQr8AX52p9yUc/EgAGn/jDD0X+1VLzbjAQAAAAHVBm7hJqEFsmUwIf//+qZYA\n",
       "Ardhqf9pYANmBnn+N3eHAMU2L9wELQBapvoWykVe32OJ5g8qc/0Vpjf0MiGlR6fjsMv8XS3p5dsH\n",
       "/r5DWin8mLtlKBICFo08fQ5Lk58ZvdTwqqj0KtxkPAPv17UVndUOSddBH+EAAAArQZ/WRRUsM/8A\n",
       "c+6gJO4SiDaxh0IChgA4fjbwEO/8YywNAJ6Zll8Lww2bMAAAABcBn/V0Qr8AX4BBQ1ClS387Bhyi\n",
       "CfFpeQAAABUBn/dqQr8AX52p9yUdGX4rTC+MSUEAAABVQZv8SahBbJlMCH///qmWAAK3Yapy1wAk\n",
       "iRChd+uwzvL4TwHk1zWvSPZnWwjjVpR6X4VD4oGXPMvkyYAGqo3q3JNlrtbPBNZRRq59tyO0q+dE\n",
       "XmSNmAAAACNBnhpFFSwz/wBz7qAk7hKINq3uqwAIRpB5MQpf/5bPpvcrZwAAABUBnjl0Qr8AX4BB\n",
       "Q1EcSzYp+TZ93YMAAAAVAZ47akK/AF+dqfclfnBUV47VF+JfAAAAN0GaIEmoQWyZTAh3//6plgAC\n",
       "uBSpABb7yc4/w/AeZsx6nLUcX8yzKJKWOowClzi2WTC9aJRxH+EAAAAZQZ5eRRUsM/8Ac+6gJO4S\n",
       "iDa15FWWhi02YAAAABEBnn10Qr8AX4BBQ1A6/AeWwAAAABQBnn9qQr8AX52p9yUdGX4rSS+7gQAA\n",
       "ADpBmmRJqEFsmUwId//+qZYAArfH1ABOIhK0JY9HZilmBqs3DVfxHfoXK3+cuhsnFTGAW4+Erhbw\n",
       "o4j/AAAAGUGegkUVLDP/AHPuoCTuEog31z6iKWrVtbMAAAATAZ6hdEK/AF+AQUNQpuVSlGHwgAAA\n",
       "ABEBnqNqQr8AX52p9yTCk0nLYQAAADRBmqhJqEFsmUwIZ//+nhAAFPxtAAJtg4UaSfF8jXba/ID+\n",
       "0okv7GIFB31+IF8rtVD+eTFJAAAAGUGexkUVLDP/AHPuoCTuEog31z6iKWrVtbMAAAATAZ7ldEK/\n",
       "AF+AQUNQpuQEdpKeXwAAABEBnudqQr8AX52p9yTCk0nLYAAAABRBmupJqEFsmUwUTCv//jhAAAAc\n",
       "cAAAABUBnwlqQr8A19iyEE2/cd2ffAnVjg0AAAaMbW9vdgAAAGxtdmhkAAAAAAAAAAAAAAAAAAAD\n",
       "6AAADqYAAQAAAQAAAAAAAAAAAAAAAAEAAAAAAAAAAAAAAAAAAAABAAAAAAAAAAAAAAAAAABAAAAA\n",
       "AAAAAAAAAAAAAAAAAAAAAAAAAAAAAAAAAAAAAgAABbd0cmFrAAAAXHRraGQAAAADAAAAAAAAAAAA\n",
       "AAABAAAAAAAADqYAAAAAAAAAAAAAAAAAAAAAAAEAAAAAAAAAAAAAAAAAAAABAAAAAAAAAAAAAAAA\n",
       "AABAAAAAAbAAAAEgAAAAAAAkZWR0cwAAABxlbHN0AAAAAAAAAAEAAA6mAAAEAAABAAAAAAUvbWRp\n",
       "YQAAACBtZGhkAAAAAAAAAAAAAAAAAAAoAAAAlgBVxAAAAAAALWhkbHIAAAAAAAAAAHZpZGUAAAAA\n",
       "AAAAAAAAAABWaWRlb0hhbmRsZXIAAAAE2m1pbmYAAAAUdm1oZAAAAAEAAAAAAAAAAAAAACRkaW5m\n",
       "AAAAHGRyZWYAAAAAAAAAAQAAAAx1cmwgAAAAAQAABJpzdGJsAAAAlnN0c2QAAAAAAAAAAQAAAIZh\n",
       "dmMxAAAAAAAAAAEAAAAAAAAAAAAAAAAAAAAAAbABIABIAAAASAAAAAAAAAABAAAAAAAAAAAAAAAA\n",
       "AAAAAAAAAAAAAAAAAAAAAAAAAAAAGP//AAAAMGF2Y0MB9AAV/+EAF2f0ABWRmyg2EtCAAAADAIAA\n",
       "ABQHixbLAQAGaOvjxEhEAAAAGHN0dHMAAAAAAAAAAQAAAEsAAAIAAAAAFHN0c3MAAAAAAAAAAQAA\n",
       "AAEAAAJgY3R0cwAAAAAAAABKAAAAAQAABAAAAAABAAAKAAAAAAEAAAQAAAAAAQAAAAAAAAABAAAC\n",
       "AAAAAAEAAAQAAAAAAQAACgAAAAABAAAEAAAAAAEAAAAAAAAAAQAAAgAAAAABAAAKAAAAAAEAAAQA\n",
       "AAAAAQAAAAAAAAABAAACAAAAAAEAAAoAAAAAAQAABAAAAAABAAAAAAAAAAEAAAIAAAAAAQAACgAA\n",
       "AAABAAAEAAAAAAEAAAAAAAAAAQAAAgAAAAABAAAKAAAAAAEAAAQAAAAAAQAAAAAAAAABAAACAAAA\n",
       "AAEAAAQAAAAAAQAACgAAAAABAAAEAAAAAAEAAAAAAAAAAQAAAgAAAAABAAAKAAAAAAEAAAQAAAAA\n",
       "AQAAAAAAAAABAAACAAAAAAEAAAoAAAAAAQAABAAAAAABAAAAAAAAAAEAAAIAAAAAAQAACgAAAAAB\n",
       "AAAEAAAAAAEAAAAAAAAAAQAAAgAAAAACAAAEAAAAAAEAAAoAAAAAAQAABAAAAAABAAAAAAAAAAEA\n",
       "AAIAAAAAAQAACgAAAAABAAAEAAAAAAEAAAAAAAAAAQAAAgAAAAABAAAKAAAAAAEAAAQAAAAAAQAA\n",
       "AAAAAAABAAACAAAAAAEAAAoAAAAAAQAABAAAAAABAAAAAAAAAAEAAAIAAAAAAQAACgAAAAABAAAE\n",
       "AAAAAAEAAAAAAAAAAQAAAgAAAAABAAAKAAAAAAEAAAQAAAAAAQAAAAAAAAABAAACAAAAAAEAAAoA\n",
       "AAAAAQAABAAAAAABAAAAAAAAAAEAAAIAAAAAAQAABgAAAAABAAACAAAAABxzdHNjAAAAAAAAAAEA\n",
       "AAABAAAASwAAAAEAAAFAc3RzegAAAAAAAAAAAAAASwAAC3QAAALOAAAAPQAAADQAAAAgAAAA5wAA\n",
       "AuEAAAA0AAAANQAAADMAAAKtAAAAMwAAADMAAAAcAAABfwAAAEMAAAA6AAAAOgAAAUUAAABIAAAA\n",
       "NwAAADAAAAElAAAAKwAAAB0AAAAfAAAAQQAAAJcAAAA9AAAAIgAAADAAAACOAAAAOAAAACkAAAAs\n",
       "AAAAxAAAADoAAAA0AAAAIwAAAJoAAAA6AAAAJQAAACEAAABRAAAAVQAAAJQAAAA5AAAAGAAAACwA\n",
       "AABoAAAAKwAAAB0AAAAhAAAAeQAAAC8AAAAbAAAAGQAAAFkAAAAnAAAAGQAAABkAAAA7AAAAHQAA\n",
       "ABUAAAAYAAAAPgAAAB0AAAAXAAAAFQAAADgAAAAdAAAAFwAAABUAAAAYAAAAGQAAABRzdGNvAAAA\n",
       "AAAAAAEAAAAwAAAAYXVkdGEAAABZbWV0YQAAAAAAAAAhaGRscgAAAAAAAAAAbWRpcmFwcGwAAAAA\n",
       "AAAAAAAAAAAsaWxzdAAAACSpdG9vAAAAHGRhdGEAAAABAAAAAExhdmY1Ni40LjEwMQ==\n",
       "\" type=\"video/mp4\">\n",
       " Your browser does not support the video tag.\n",
       "</video>"
      ],
      "text/plain": [
       "<IPython.core.display.HTML object>"
      ]
     },
     "execution_count": 3,
     "metadata": {},
     "output_type": "execute_result"
    },
    {
     "data": {
      "image/png": "[encoded data removed]",
      "text/plain": [
       "<matplotlib.figure.Figure at 0x10e3f9450>"
      ]
     },
     "metadata": {
      "image/png": {
       "height": 255,
       "width": 387
      }
     },
     "output_type": "display_data"
    }
   ],
   "source": [
    "import matplotlib.animation as animation\n",
    "# A = np.array([[1.1, 0],[0, 0.9]])\n",
    "A = np.array([[0.8, 0.5],[-0.1, 1.0]])\n",
    "# A = np.array([[np.cos(0.1),-np.sin(0.1)],[ np.sin(0.1),np.cos(0.1)]])\n",
    "\n",
    "# we are putting x into an array so that it can be read inside the\n",
    "# animate() closure.   Currently can only read env variables in a closure\n",
    "x = [np.array([1,500.])]\n",
    "\n",
    "fig = plt.figure()\n",
    "ax = plt.axes(xlim=(-500,500),ylim=(-500,500))\n",
    "plt.plot(-500, -500,'')\n",
    "plt.plot(500, 500,'')\n",
    "plt.axis('equal')\n",
    "\n",
    "lines = ax.plot([],[],'o-')\n",
    "\n",
    "xvals = []\n",
    "yvals = []\n",
    "\n",
    "# this is the routine that will be called on each timestep\n",
    "def animate(i):\n",
    "    newx = A.dot(x[0])\n",
    "    plt.plot([x[0][0],newx[0]],[x[0][1],newx[1]],'r-')\n",
    "    plt.plot(newx[0],newx[1],'ro')\n",
    "    x[0] = newx\n",
    "    xvals.append(x[0][0])\n",
    "    yvals.append(x[0][1])\n",
    "    lines[0].set_data(xvals,yvals)\n",
    "    fig.canvas.draw()\n",
    "\n",
    "# instantiate the animator.\n",
    "# we are animating at 3Hz\n",
    "anim = animation.FuncAnimation(fig, animate, \n",
    "                                    frames=75, interval=1000, repeat=False, blit=False)\n",
    "# this function requires ffmpeg to be installed on your system\n",
    "sl.display_animation(anim)"
   ]
  },
  {
   "cell_type": "markdown",
   "metadata": {
    "slideshow": {
     "slide_type": "fragment"
    }
   },
   "source": [
    "In the last lecture we saw that, if we know an eigenvalue $\\lambda$ of a matrix $A,$ then computing the corresponding eigenspace can be done by constructing a basis for $\\nul\\ (A-\\lambda I).$"
   ]
  },
  {
   "cell_type": "markdown",
   "metadata": {
    "slideshow": {
     "slide_type": "fragment"
    }
   },
   "source": [
    "Today we'll discuss how to determine the eigenvalues of a matrix $A$."
   ]
  },
  {
   "cell_type": "markdown",
   "metadata": {
    "slideshow": {
     "slide_type": "fragment"
    }
   },
   "source": [
    "The theory will make use of the _determinant_ of a matrix."
   ]
  },
  {
   "cell_type": "markdown",
   "metadata": {
    "slideshow": {
     "slide_type": "fragment"
    }
   },
   "source": [
    "Let's recall that the determinant of a $2\\times 2$ matrix $A = \\mat{{rr}a&b\\\\c&d}$ is $ad-bc.$"
   ]
  },
  {
   "cell_type": "markdown",
   "metadata": {
    "slideshow": {
     "slide_type": "fragment"
    }
   },
   "source": [
    "We also have learned that $A$ is invertible if and only if its determinant is not zero.    (Recall that the inverse of of $A$ is $\\frac{1}{ad-bc}\\mat{{cc}d&-b\\\\-c&a}).$"
   ]
  },
  {
   "cell_type": "markdown",
   "metadata": {
    "slideshow": {
     "slide_type": "fragment"
    }
   },
   "source": [
    "Let's use these facts to help us find the eigenvalues of a $2\\times 2$ matrix."
   ]
  },
  {
   "cell_type": "markdown",
   "metadata": {
    "slideshow": {
     "slide_type": "slide"
    }
   },
   "source": [
    "__Example.__  Find the eigenvalues of $A = \\mat{{rr}2&3\\\\3&-6}.$"
   ]
  },
  {
   "cell_type": "markdown",
   "metadata": {
    "slideshow": {
     "slide_type": "fragment"
    }
   },
   "source": [
    "__Solution.__  We must find all scalars $\\lambda$ such that the matrix equation\n",
    "\n",
    "$$(A-\\lambda I)\\vx = {\\bf 0}$$\n",
    "\n",
    "has a nontrivial solution.   \n",
    "\n",
    "By the Invertible Matrix Theorem, this problem is equivalent to finding all $\\lambda$ such that the matrix $A-\\lambda I$ is _not_ invertible."
   ]
  },
  {
   "cell_type": "markdown",
   "metadata": {
    "slideshow": {
     "slide_type": "fragment"
    }
   },
   "source": [
    "Now,\n",
    "\n",
    "$$ A - \\lambda I = \\mat{{rr}2&3\\\\3&-6} - \\mat{{rr}\\lambda&0\\\\0&\\lambda} = \\mat{{cc}2-\\lambda&3\\\\3&-6-\\lambda}.$$"
   ]
  },
  {
   "cell_type": "markdown",
   "metadata": {
    "slideshow": {
     "slide_type": "fragment"
    }
   },
   "source": [
    "We know that $A$ is not invertible exactly when its determinant is zero.   "
   ]
  },
  {
   "cell_type": "markdown",
   "metadata": {
    "slideshow": {
     "slide_type": "fragment"
    }
   },
   "source": [
    "So the eigenvalues of $A$ are the solutions of the equation\n",
    "\n",
    "$$\\det(A-\\lambda I) = \\det\\mat{{cc}2-\\lambda&3\\\\3&-6-\\lambda} = 0.$$"
   ]
  },
  {
   "cell_type": "markdown",
   "metadata": {
    "slideshow": {
     "slide_type": "fragment"
    }
   },
   "source": [
    "Since $\\det\\mat{{rr}a&b\\\\c&d} = ad-bc,$ then\n",
    "\n",
    "$$\\det(A-\\lambda I) = (2-\\lambda)(-6-\\lambda)-(3)(3)$$"
   ]
  },
  {
   "cell_type": "markdown",
   "metadata": {
    "slideshow": {
     "slide_type": "fragment"
    }
   },
   "source": [
    "$$ = -12 + 6\\lambda -2\\lambda + \\lambda^2 - 9$$"
   ]
  },
  {
   "cell_type": "markdown",
   "metadata": {
    "slideshow": {
     "slide_type": "fragment"
    }
   },
   "source": [
    "$$= \\lambda^2+4\\lambda-21$$"
   ]
  },
  {
   "cell_type": "markdown",
   "metadata": {
    "slideshow": {
     "slide_type": "fragment"
    }
   },
   "source": [
    "$$=(\\lambda-3)(\\lambda + 7)$$"
   ]
  },
  {
   "cell_type": "markdown",
   "metadata": {
    "collapsed": true,
    "slideshow": {
     "slide_type": "fragment"
    }
   },
   "source": [
    "If $\\det(A-\\lambda I) = 0,$ then $\\lambda = 3$ or $\\lambda = 7.$  So the eigenvalues of $A$ are $3$ and $-7$."
   ]
  },
  {
   "cell_type": "markdown",
   "metadata": {
    "slideshow": {
     "slide_type": "slide"
    }
   },
   "source": [
    "## Question Time! Q15.1"
   ]
  },
  {
   "cell_type": "markdown",
   "metadata": {
    "slideshow": {
     "slide_type": "slide"
    }
   },
   "source": [
    "The same idea works for $n\\times n$ matrices -- but, for that, we need to define a _determinant_ for larger matrices."
   ]
  },
  {
   "cell_type": "markdown",
   "metadata": {
    "slideshow": {
     "slide_type": "fragment"
    }
   },
   "source": [
    "__Determinants.__\n",
    "\n",
    "Previously, we've defined a determinant for a $2\\times 2$ matrix.   "
   ]
  },
  {
   "cell_type": "markdown",
   "metadata": {
    "slideshow": {
     "slide_type": "fragment"
    }
   },
   "source": [
    "To find eigenvalues for larger matrices, we need to define the determinant for any sized (ie, $n\\times n$) matrix."
   ]
  },
  {
   "cell_type": "markdown",
   "metadata": {
    "slideshow": {
     "slide_type": "fragment"
    }
   },
   "source": [
    "__Definition.__   Let $A$ be an $n\\times n$ matrix, and let $U$ be any echelon form obtained from $A$ by row replacements and row interchanges (no row scalings), and let $r$ be the number of such row interchanges."
   ]
  },
  {
   "cell_type": "markdown",
   "metadata": {
    "slideshow": {
     "slide_type": "fragment"
    }
   },
   "source": [
    "Then the __determinant__ of $A$, written as $\\det A$, is $(-1)^r$ times the product of the diagonal entries $u_{11},\\dots,u_{nn}$ in $U$."
   ]
  },
  {
   "cell_type": "markdown",
   "metadata": {
    "slideshow": {
     "slide_type": "fragment"
    }
   },
   "source": [
    "If $A$ is invertible, then $u_{11},\\dots,u_{nn}$ are all _pivots_.  "
   ]
  },
  {
   "cell_type": "markdown",
   "metadata": {
    "slideshow": {
     "slide_type": "fragment"
    }
   },
   "source": [
    "If $A$ is not invertible, then at least one diagonal entry is zero, and so the product $u_{11} \\dots u_{nn}$ is zero."
   ]
  },
  {
   "cell_type": "markdown",
   "metadata": {
    "slideshow": {
     "slide_type": "fragment"
    }
   },
   "source": [
    "In other words:\n",
    "\n",
    "$$\\det\\ A = \\left\\{\\begin{array}{ll}(-1)^r\\cdot\\left(\\mbox{product of pivots in $U$}\\right),&\\mbox{when $A$ is invertible}\\\\\n",
    "0,&\\mbox{when $A$ is not invertible}\\end{array}\\right.$$"
   ]
  },
  {
   "cell_type": "markdown",
   "metadata": {
    "slideshow": {
     "slide_type": "fragment"
    }
   },
   "source": [
    "__Example.__  Compute $\\det A$ for $A = \\mat{{rrr}1&5&0\\\\2&4&-1\\\\0&-2&0}.$"
   ]
  },
  {
   "cell_type": "markdown",
   "metadata": {
    "slideshow": {
     "slide_type": "fragment"
    }
   },
   "source": [
    "__Solution.__  The following row reduction uses __one__ row interchange:\n",
    "\n",
    "$$A \\sim \\mat{{rrr}1&5&0\\\\0&-6&-1\\\\0&-2&0} \\sim \\mat{{rrr}1&5&0\\\\0&-2&0\\\\0&-6&-1} \\sim \\mat{{rrr}1&5&0\\\\0&-2&0\\\\0&0&-1}.$$"
   ]
  },
  {
   "cell_type": "markdown",
   "metadata": {
    "slideshow": {
     "slide_type": "fragment"
    }
   },
   "source": [
    "So $\\det A$ equals $(-1)^1(1)(-2)(-1) = (-2).$  "
   ]
  },
  {
   "cell_type": "markdown",
   "metadata": {
    "slideshow": {
     "slide_type": "fragment"
    }
   },
   "source": [
    "The remarkable thing is that __any other__ way of computing the echelon form gives the same determinant.  For example,  this row reduction does not use a row interchange:\n",
    "\n",
    "$$A \\sim \\mat{{rrr}1&5&0\\\\0&-6&-1\\\\0&-2&0} \\sim \\mat{{rrr}1&5&0\\\\0&-6&-1\\\\0&0&1/3}.$$"
   ]
  },
  {
   "cell_type": "markdown",
   "metadata": {
    "slideshow": {
     "slide_type": "fragment"
    }
   },
   "source": [
    "Using this echelon form to compute the determinant yields $(-1)^0(1)(-6)(1/3) = -2,$ the same as before."
   ]
  },
  {
   "cell_type": "markdown",
   "metadata": {
    "slideshow": {
     "slide_type": "slide"
    }
   },
   "source": [
    "## Question Time! Q15.2"
   ]
  },
  {
   "cell_type": "markdown",
   "metadata": {
    "slideshow": {
     "slide_type": "slide"
    }
   },
   "source": [
    "__Invertibility.__"
   ]
  },
  {
   "cell_type": "markdown",
   "metadata": {
    "slideshow": {
     "slide_type": "fragment"
    }
   },
   "source": [
    "The formula for the determinant shows that $A$ is invertible if and only if $\\det A$ is nonzero.   "
   ]
  },
  {
   "cell_type": "markdown",
   "metadata": {
    "slideshow": {
     "slide_type": "fragment"
    }
   },
   "source": [
    "We have __yet another__ part to add to the Invertible Matrix Theorem:"
   ]
  },
  {
   "cell_type": "markdown",
   "metadata": {
    "slideshow": {
     "slide_type": "fragment"
    }
   },
   "source": [
    "Let $A$ be an $n\\times n$ matrix.   Then $A$ is invertible if and only if:\n",
    "\n",
    "1. The number 0 is _not_ an eigenvalue of $A$.\n",
    "2. The determinant of $A$ is _not_ zero."
   ]
  },
  {
   "cell_type": "markdown",
   "metadata": {
    "slideshow": {
     "slide_type": "fragment"
    }
   },
   "source": [
    "Some facts about determinants (proved in the book):\n",
    "\n",
    "1. $\\det AB = (\\det A) (\\det B).$\n",
    "1. $\\det A^T = \\det A.$\n",
    "1. If $A$ is triangular, then $\\det A$ is the product of the entries on the main diagonal of $A$."
   ]
  },
  {
   "cell_type": "markdown",
   "metadata": {
    "slideshow": {
     "slide_type": "slide"
    }
   },
   "source": [
    "## Question Time! Q15.2"
   ]
  },
  {
   "cell_type": "markdown",
   "metadata": {
    "slideshow": {
     "slide_type": "slide"
    }
   },
   "source": [
    "## The Characteristic Equation"
   ]
  },
  {
   "cell_type": "markdown",
   "metadata": {
    "slideshow": {
     "slide_type": "fragment"
    }
   },
   "source": [
    "So, $A$ is invertible if and only if $\\det A$ is not zero."
   ]
  },
  {
   "cell_type": "markdown",
   "metadata": {
    "slideshow": {
     "slide_type": "fragment"
    }
   },
   "source": [
    "To return to the question of how to compute eigenvalues of $A,$ recall that $\\lambda$ is an eigenvalue if and only if $(A-\\lambda I)$ is _not_ invertible."
   ]
  },
  {
   "cell_type": "markdown",
   "metadata": {
    "slideshow": {
     "slide_type": "fragment"
    }
   },
   "source": [
    "We capture this fact using the __characteristic equation:__\n",
    "\n",
    "$$\\det(A-\\lambda I) = 0.$$"
   ]
  },
  {
   "cell_type": "markdown",
   "metadata": {
    "slideshow": {
     "slide_type": "fragment"
    }
   },
   "source": [
    "We can conclude that $\\lambda$ is an eigenvalue of an $n\\times n$ matrix $A$ if and only if $\\lambda$ satisfies the characteristic equation $\\det(A-\\lambda I) = 0.$"
   ]
  },
  {
   "cell_type": "markdown",
   "metadata": {
    "slideshow": {
     "slide_type": "fragment"
    }
   },
   "source": [
    "__Example.__  Find the characteristic equation of \n",
    "\n",
    "$$A = \\mat{{rrrr}5&-2&6&-1\\\\0&3&-8&0\\\\0&0&5&4\\\\0&0&0&1}$$"
   ]
  },
  {
   "cell_type": "markdown",
   "metadata": {
    "slideshow": {
     "slide_type": "fragment"
    }
   },
   "source": [
    "__Solution.__  Form $A - \\lambda I,$ and note that $\\det A$ is the product of the entries on the diagonal of $A,$ if $A$ is triangular."
   ]
  },
  {
   "cell_type": "markdown",
   "metadata": {
    "slideshow": {
     "slide_type": "fragment"
    }
   },
   "source": [
    "$$\\det(A-\\lambda I) = \\det\\mat{{cccc}5-\\lambda&-2&6&-1\\\\0&3-\\lambda&-8&0\\\\0&0&5-\\lambda&4\\\\0&0&0&1-\\lambda}$$"
   ]
  },
  {
   "cell_type": "markdown",
   "metadata": {
    "slideshow": {
     "slide_type": "fragment"
    }
   },
   "source": [
    "$$=(5-\\lambda)(3-\\lambda)(5-\\lambda)(1-\\lambda).$$"
   ]
  },
  {
   "cell_type": "markdown",
   "metadata": {
    "slideshow": {
     "slide_type": "fragment"
    }
   },
   "source": [
    "So the characteristic equation is:\n",
    "\n",
    "$$(\\lambda-5)^2(\\lambda-3)(\\lambda-1) = 0.$$"
   ]
  },
  {
   "cell_type": "markdown",
   "metadata": {
    "slideshow": {
     "slide_type": "fragment"
    }
   },
   "source": [
    "Expanding this out we get:\n",
    "\n",
    "$$\\lambda^4 - 14\\lambda^3 + 68 \\lambda^2 - 130\\lambda + 75 = 0.$$"
   ]
  },
  {
   "cell_type": "markdown",
   "metadata": {
    "slideshow": {
     "slide_type": "fragment"
    }
   },
   "source": [
    "Notice that, once again, $\\det(A-\\lambda I)$ is a polynomial in $\\lambda$."
   ]
  },
  {
   "cell_type": "markdown",
   "metadata": {
    "slideshow": {
     "slide_type": "fragment"
    }
   },
   "source": [
    "In fact, for any $n\\times n$ matrix, $\\det(A-\\lambda I)$ is a polynomial of degree $n$, called the __characteristic polynomial__ of $A$."
   ]
  },
  {
   "cell_type": "markdown",
   "metadata": {
    "slideshow": {
     "slide_type": "fragment"
    }
   },
   "source": [
    "We say that the eigenvalue 5 in this example has __multiplicity__ 2, because $(\\lambda -5)$ occures two times as a factor of the characteristic polynomial.   In general, the mutiplicity fo an eigenvalue $\\lambda$ is its multiplicity as a root of the characteristic equation."
   ]
  },
  {
   "cell_type": "markdown",
   "metadata": {
    "slideshow": {
     "slide_type": "slide"
    }
   },
   "source": [
    "__Example.__  The characteristic polynomial of a $6\\times 6$ matrix is $\\lambda^6 - 4\\lambda^5 - 12\\lambda^4.$  Find the eigenvalues and their multiplicity."
   ]
  },
  {
   "cell_type": "markdown",
   "metadata": {
    "slideshow": {
     "slide_type": "fragment"
    }
   },
   "source": [
    "__Solution__  Factor the polynomial\n",
    "\n",
    "$$\\lambda^6 - 4\\lambda^5 - 12\\lambda^4 = \\lambda^4(\\lambda^2-4\\lambda-12) = \\lambda^4(\\lambda-6)(\\lambda+2)$$\n",
    "\n",
    "So the eigenvalues are 0 (with multiplicity 4), 6, and -2."
   ]
  },
  {
   "cell_type": "markdown",
   "metadata": {
    "slideshow": {
     "slide_type": "fragment"
    }
   },
   "source": [
    "Since the characteristic polynomial for an $n\\times n$ matrix has degree $n,$ the equation has $n$ roots, counting multiplicities -- provided complex numbers are allowed."
   ]
  },
  {
   "cell_type": "markdown",
   "metadata": {
    "slideshow": {
     "slide_type": "fragment"
    }
   },
   "source": [
    "Note that even for a real matrix, eigenvalues may sometimes be complex."
   ]
  },
  {
   "cell_type": "markdown",
   "metadata": {
    "slideshow": {
     "slide_type": "fragment"
    }
   },
   "source": [
    "__Practical Issues.__\n",
    "\n",
    "These facts show that there is, in principle, a way to find eigenvalues of any matrix.   However, you need not compute eigenvalues for matrices larger than $2\\times 2$ by hand.   For any matrix $3\\times 3$ or larger, you should use a computer."
   ]
  },
  {
   "cell_type": "markdown",
   "metadata": {
    "slideshow": {
     "slide_type": "slide"
    }
   },
   "source": [
    "## Similarity\n",
    "\n",
    "An important concept for things that come later is the notion of __similar__ matrices."
   ]
  },
  {
   "cell_type": "markdown",
   "metadata": {
    "slideshow": {
     "slide_type": "fragment"
    }
   },
   "source": [
    "__Definition.__ If $A$ and $B$ are $n\\times n$ matrices, then $A$ __is similar to__ $B$ if there is an invertible matrix $P$ sch that $P^{-1}AP = B,$ or, equivalently, $A = PBP^{-1}.$ "
   ]
  },
  {
   "cell_type": "markdown",
   "metadata": {
    "slideshow": {
     "slide_type": "fragment"
    }
   },
   "source": [
    " Similarity is symmetric, so if $A$ is similar to $B$, then $B$ is similar to $A$.  Hence we just say that $A$ and $B$ __are similar.__\n",
    " \n",
    "Changing $A$ into $B$ is called a __similarity transformation.__"
   ]
  },
  {
   "cell_type": "markdown",
   "metadata": {
    "slideshow": {
     "slide_type": "fragment"
    }
   },
   "source": [
    "An important way to think of similarity between $A$ and $B$ is that they __have the same eigenvalues.__"
   ]
  },
  {
   "cell_type": "markdown",
   "metadata": {
    "slideshow": {
     "slide_type": "fragment"
    }
   },
   "source": [
    "__Theorem.__  IF $n\\times n$ matrices $A$ and $B$ are similar, then they have the same characteristic polynomial, and hence the same eigenvalues (with the same multiplicities.)"
   ]
  },
  {
   "cell_type": "markdown",
   "metadata": {
    "slideshow": {
     "slide_type": "fragment"
    }
   },
   "source": [
    "__Proof.__  If $B = P^{-1}AP,$ then\n",
    "\n",
    "$$B - \\lambda I = P^{-1}AP - \\lambda P^{-1}P$$"
   ]
  },
  {
   "cell_type": "markdown",
   "metadata": {
    "slideshow": {
     "slide_type": "fragment"
    }
   },
   "source": [
    "$$ = P^{-1}(AP-\\lambda P)$$"
   ]
  },
  {
   "cell_type": "markdown",
   "metadata": {
    "slideshow": {
     "slide_type": "fragment"
    }
   },
   "source": [
    "$$ = P^{-1}(A-\\lambda I)P$$"
   ]
  },
  {
   "cell_type": "markdown",
   "metadata": {
    "slideshow": {
     "slide_type": "fragment"
    }
   },
   "source": [
    "Now let's construct the characteristic polynomial by taking the determinant:\n",
    "\n",
    "$$\\det(B-\\lambda I) = \\det[P^{-1}(A-\\lambda I)P]$$"
   ]
  },
  {
   "cell_type": "markdown",
   "metadata": {
    "slideshow": {
     "slide_type": "fragment"
    }
   },
   "source": [
    "Using the properties of determinants we discussed earlier, we compute:\n",
    "\n",
    "$$ = \\det(P^{-1})\\cdot\\det(A-\\lambda I)\\cdot\\det(P).$$"
   ]
  },
  {
   "cell_type": "markdown",
   "metadata": {
    "slideshow": {
     "slide_type": "fragment"
    }
   },
   "source": [
    "Since $\\det(P^{-1})\\cdot\\det(P) = \\det(P^{-1}P) = \\det I = 1,$ we can see that \n",
    "\n",
    "$$\\det(B-\\lambda I) = \\det(A - \\lambda I).$$"
   ]
  },
  {
   "cell_type": "markdown",
   "metadata": {
    "slideshow": {
     "slide_type": "slide"
    }
   },
   "source": [
    "## Question Time! Q15.3"
   ]
  },
  {
   "cell_type": "markdown",
   "metadata": {
    "slideshow": {
     "slide_type": "slide"
    }
   },
   "source": [
    "## Markov Chains\n",
    "\n",
    "Let's return to the problem of solving a Markov Chain.  "
   ]
  },
  {
   "cell_type": "markdown",
   "metadata": {
    "slideshow": {
     "slide_type": "fragment"
    }
   },
   "source": [
    "At this point, we can place the theory of Markov Chains into the broader context of eigenvalues and eigenvectors."
   ]
  },
  {
   "cell_type": "markdown",
   "metadata": {
    "slideshow": {
     "slide_type": "fragment"
    }
   },
   "source": [
    "__Theorem.__ The largest eigenvalue of a Markov Chain is 1."
   ]
  },
  {
   "cell_type": "markdown",
   "metadata": {
    "slideshow": {
     "slide_type": "fragment"
    }
   },
   "source": [
    "__Proof.__ It is obvious that 1 is an eigenvalue of a Markov chain since we know that every Markov Chain $A$ has a steady-state vector $\\vv$ such that $A\\vv = \\vv.$|"
   ]
  },
  {
   "cell_type": "markdown",
   "metadata": {
    "slideshow": {
     "slide_type": "fragment"
    }
   },
   "source": [
    "To prove that 1 is the largest eigenvalue, recall that each column of a Markov Chain sums to 1. "
   ]
  },
  {
   "cell_type": "markdown",
   "metadata": {
    "slideshow": {
     "slide_type": "fragment"
    }
   },
   "source": [
    "Then, consider the sum of the values in the vector $A\\vx$.\n",
    "\n",
    "$$A\\vx = \\mat{{ccc}a_{11}&\\dots &a_{1n}\\\\\\vdots&\\ddots&\\vdots\\\\a_{n1}&\\dots&a_{nn}}\\mat{{c}x_1\\\\\\vdots\\\\x_n} = \\mat{{c}a_{11}x_1 + \\dots + a_{1n}x_n\\\\\\vdots\\\\ a_{n1}x_1 + \\dots + a_{nn}x_n}.$$"
   ]
  },
  {
   "cell_type": "markdown",
   "metadata": {
    "slideshow": {
     "slide_type": "fragment"
    }
   },
   "source": [
    "Let's just sum the first terms in each component of $A\\vx$: \n",
    "\n",
    "$$ a_{11}x_1 + a_{21}x_1 + \\dots + a_{n1}x_1 = x_1 \\sum_i a_{i1} = x_1. $$"
   ]
  },
  {
   "cell_type": "markdown",
   "metadata": {
    "slideshow": {
     "slide_type": "fragment"
    }
   },
   "source": [
    "So we can see that the sum of all terms in $A\\vx$ is equal to $x_1 + x_2 + \\dots + x_n$ -- i.e., the sum of all terms in $\\vx$.  \n",
    "\n",
    "So there can be no $\\lambda > 1$ such that $A\\vx = \\lambda \\vx.$"
   ]
  },
  {
   "cell_type": "markdown",
   "metadata": {
    "slideshow": {
     "slide_type": "slide"
    }
   },
   "source": [
    "__A complete solution for the evolution of a Markov Chain.__"
   ]
  },
  {
   "cell_type": "markdown",
   "metadata": {
    "slideshow": {
     "slide_type": "fragment"
    }
   },
   "source": [
    "Previously, we were only able to ask about the \"eventual\" steady state of a Markov Chain.  \n",
    "\n",
    "But a crucial question is: __how long does it take__ for a particular Markov Chain to reach steady state from some initial starting condition?"
   ]
  },
  {
   "cell_type": "markdown",
   "metadata": {
    "slideshow": {
     "slide_type": "fragment"
    }
   },
   "source": [
    "Let's use an example: we previously studied the Markov Chain defined by $A = \\mat{{rr}0.95&0.03\\\\0.05&0.97}.$  "
   ]
  },
  {
   "cell_type": "markdown",
   "metadata": {
    "slideshow": {
     "slide_type": "fragment"
    }
   },
   "source": [
    "Let's ask how long until it reaches steady state, from the starting point defined as $\\vx_0 = \\mat{{r}0.6\\\\0.4}.$"
   ]
  },
  {
   "cell_type": "markdown",
   "metadata": {
    "slideshow": {
     "slide_type": "fragment"
    }
   },
   "source": [
    "Using the methods we studied today, we can find the characteristic equation:\n",
    "    \n",
    "$$\\lambda^2 -1.92\\lambda +0.92 $$"
   ]
  },
  {
   "cell_type": "markdown",
   "metadata": {
    "slideshow": {
     "slide_type": "fragment"
    }
   },
   "source": [
    "Using the quadratic formula, we find the roots of this equation to be 1 and 0.92.  (Note that, as expected, 1 is the largest eigenvalue.)"
   ]
  },
  {
   "cell_type": "markdown",
   "metadata": {
    "slideshow": {
     "slide_type": "fragment"
    }
   },
   "source": [
    "Next, using the methods in the previous lecture, we find a basis for each eigenspace of $A$ (each nullspace of $A-\\lambda I$).  \n",
    "\n",
    "For $\\lambda = 1$, a corresponding eigenvector is $\\vv_1 = \\mat{{r}3\\\\5}.$\n",
    "\n",
    "For $\\lambda = 0.92$, a corresponding eigenvector is $\\vv_2 = \\mat{{r}1\\\\-1}.$"
   ]
  },
  {
   "cell_type": "markdown",
   "metadata": {
    "slideshow": {
     "slide_type": "fragment"
    }
   },
   "source": [
    "Next, we write $\\vx_0$ as a linear combination of $\\vv_1$ and $\\vv_2.$  This can be done because $\\{\\vv_1,\\vv_2\\}$ is obviously a basis for $\\R^2.$"
   ]
  },
  {
   "cell_type": "markdown",
   "metadata": {
    "slideshow": {
     "slide_type": "fragment"
    }
   },
   "source": [
    "To write $\\vx_0$ this way, we want to solve the vector equation \n",
    "\n",
    "$$c_1\\vv_1 + c_2\\vv_2 = \\vx_0$$\n",
    "\n",
    "In other words:\n",
    "\n",
    "$$[\\vv_1\\;\\vv_2]\\mat{{r}c_1\\\\c_2} = \\vx_0.$$"
   ]
  },
  {
   "cell_type": "markdown",
   "metadata": {
    "slideshow": {
     "slide_type": "fragment"
    }
   },
   "source": [
    "The matrix $[\\vv_1\\;\\vv_2]$ is invertible, so, \n",
    "\n",
    "$$\\mat{{r}c_1\\\\c_2} = [\\vv_1\\;\\vv_2]^{-1} \\vx_0 = \\mat{{rr}3&1\\\\5&-1}^{-1}\\mat{{r}0.6\\\\0.4}.$$"
   ]
  },
  {
   "cell_type": "markdown",
   "metadata": {
    "slideshow": {
     "slide_type": "fragment"
    }
   },
   "source": [
    "$$ = \\frac{1}{-8}\\mat{{rr}-1&-1\\\\-5&3}\\mat{{r}0.6\\\\0.4} = \\mat{{r}0.125\\\\0.225}.$$"
   ]
  },
  {
   "cell_type": "markdown",
   "metadata": {
    "slideshow": {
     "slide_type": "fragment"
    }
   },
   "source": [
    "So, now we can put it all together.\n",
    "\n",
    "Let's compute each $\\vx_k$:\n",
    "\n",
    "$$\\vx_1 = A\\vx_0 = c_1A\\vv_1 + c_2A\\vv_2$$"
   ]
  },
  {
   "cell_type": "markdown",
   "metadata": {
    "slideshow": {
     "slide_type": "fragment"
    }
   },
   "source": [
    "$$ = c_1\\vv_1 + c_2(0.92)\\vv_2.$$"
   ]
  },
  {
   "cell_type": "markdown",
   "metadata": {
    "slideshow": {
     "slide_type": "fragment"
    }
   },
   "source": [
    "Now note the power of the eigenvalue approach:\n",
    "\n",
    "$$\\vx_2 = A\\vx_1 = c_1A\\vv_1 + c_2(0.92)A\\vv_2$$"
   ]
  },
  {
   "cell_type": "markdown",
   "metadata": {
    "slideshow": {
     "slide_type": "fragment"
    }
   },
   "source": [
    "$$=c_1\\vv_2 + c_2(0.92)^2\\vv_2.$$"
   ]
  },
  {
   "cell_type": "markdown",
   "metadata": {
    "slideshow": {
     "slide_type": "fragment"
    }
   },
   "source": [
    "And so in general:\n",
    "$$\\vx_k = c_1\\vv_1 + c_2(0.92)^k\\vv_2\\;\\;\\;(k = 0, 1, 2, \\dots)$$"
   ]
  },
  {
   "cell_type": "markdown",
   "metadata": {
    "slideshow": {
     "slide_type": "fragment"
    }
   },
   "source": [
    "And using the $c_1$ and $c_2$ and $\\vv_1,$ $\\vv_2$ we computed above:"
   ]
  },
  {
   "cell_type": "markdown",
   "metadata": {
    "slideshow": {
     "slide_type": "fragment"
    }
   },
   "source": [
    "$$\\vx_k = 0.125\\mat{{r}3\\\\5} + 0.225(0.92)^k\\mat{{r}1\\\\-1}\\;\\;\\;(k = 0, 1, 2, \\dots)$$"
   ]
  },
  {
   "cell_type": "markdown",
   "metadata": {
    "slideshow": {
     "slide_type": "fragment"
    }
   },
   "source": [
    "This explicit formula for $\\vx_k$ gives the solution of the Markov Chain $\\vx_{k+1} = A\\vx_k$ starting from the initial state $\\vx_0$."
   ]
  },
  {
   "cell_type": "markdown",
   "metadata": {
    "slideshow": {
     "slide_type": "fragment"
    }
   },
   "source": [
    "As $k\\rightarrow\\infty$, $(0.92)^k\\rightarrow0$.  "
   ]
  },
  {
   "cell_type": "markdown",
   "metadata": {
    "slideshow": {
     "slide_type": "fragment"
    }
   },
   "source": [
    "Thus $\\vx_k \\rightarrow 0.125\\vv_1 = \\mat{{r}0.375\\\\0.625}.$"
   ]
  },
  {
   "cell_type": "code",
   "execution_count": 4,
   "metadata": {
    "collapsed": false,
    "slideshow": {
     "slide_type": "fragment"
    }
   },
   "outputs": [
    {
     "data": {
      "text/html": [
       "<div id=\"3a5cf2cf750ff358\"></div>\n",
       "    <script type=\"text/javascript\">\n",
       "        $(function(){\n",
       "            var p = $(\"#3a5cf2cf750ff358\");\n",
       "            if (p.length==0) return;\n",
       "\n",
       "            while (!p.hasClass(\"cell\")) {\n",
       "                p=p.parent();\n",
       "\n",
       "                if (p.prop(\"tagName\") ==\"body\") return;\n",
       "            }\n",
       "            var cell = p;\n",
       "            cell.find(\".input\").addClass(\"hide-in-slideshow\")\n",
       "        });\n",
       "    </script>"
      ]
     },
     "metadata": {},
     "output_type": "display_data"
    },
    {
     "name": "stdout",
     "output_type": "stream",
     "text": [
      "\n"
     ]
    },
    {
     "data": {
      "image/png": "[encoded data removed]",
      "text/plain": [
       "<matplotlib.figure.Figure at 0x10ea6a110>"
      ]
     },
     "metadata": {
      "image/png": {
       "height": 237,
       "width": 349
      }
     },
     "output_type": "display_data"
    }
   ],
   "source": [
    "sl.hide_code_in_slideshow()\n",
    "ax = ut.plotSetup(-0.1,1.2,-0.1,1.2)\n",
    "ut.centerAxes(ax)\n",
    "A = np.array([[0.95,0.03],[0.05,0.97]])\n",
    "v1 = np.array([0.375,0.625])\n",
    "v2 = np.array([0.225,-0.225])\n",
    "x0 = v1 + v2\n",
    "#\n",
    "ax.plot([1,0],[0,1],'b--')\n",
    "ax.text(v1[0]+0.02,v1[1]+0.02,r'${\\bf v_1}$',size=16)\n",
    "ax.plot(x0[0],x0[1],'bo')\n",
    "v = np.zeros((40,2))\n",
    "for i in range(40):\n",
    "    v[i] = v1+(0.92**i)*v2\n",
    "    ax.plot(v[i,0],v[i,1],'o')\n",
    "ax.text(v[4][0]+0.02,v[4][1]+0.02,r'${\\bf x_4}$',size=12)\n",
    "ax.text(v[10][0]+0.02,v[10][1]+0.02,r'${\\bf x_{10}}$',size=12)\n",
    "ax.text(x0[0]+0.02,x0[1]+0.02,r'${\\bf x_0}$',size=16)\n",
    "ax.plot(v1[0],v1[1],'ro')\n",
    "#ax.text(A.dot(x0)[0]+0.2,A.dot(x0)[1]+0.2,r'$A{\\bf x_0}$',size=16)\n",
    "# ax.plot([-10,10],[5*10/6.0,-5*10/6.0],'b-')\n",
    "#\n",
    "ax.annotate('Steady State', xy=(v1[0], v1[1]),  xycoords='data',\n",
    "                xytext=(0.1, 0.2), textcoords='data',\n",
    "                size=15,\n",
    "                #bbox=dict(boxstyle=\"round\", fc=\"0.8\"),\n",
    "                arrowprops={'arrowstyle': 'simple',\n",
    "                                'fc': '0.5', \n",
    "                                'ec': 'none',\n",
    "                                'connectionstyle' : 'arc3,rad=-0.3'},\n",
    "                )\n",
    "ax.annotate('Initial State', xy=(v[0,0], v[0,1]),  xycoords='data',\n",
    "                xytext=(0.4, 0.8), textcoords='data',\n",
    "                size=15,\n",
    "                #bbox=dict(boxstyle=\"round\", fc=\"0.8\"),\n",
    "                arrowprops={'arrowstyle': 'simple',\n",
    "                                'fc': '0.5', \n",
    "                                'ec': 'none',\n",
    "                                'connectionstyle' : 'arc3,rad=-0.3'},\n",
    "                )\n",
    "print ''"
   ]
  }
 ],
 "metadata": {
  "kernelspec": {
   "display_name": "Python 2",
   "language": "python",
   "name": "python2"
  },
  "language_info": {
   "codemirror_mode": {
    "name": "ipython",
    "version": 2
   },
   "file_extension": ".py",
   "mimetype": "text/x-python",
   "name": "python",
   "nbconvert_exporter": "python",
   "pygments_lexer": "ipython2",
   "version": "2.7.6"
  }
 },
 "nbformat": 4,
 "nbformat_minor": 0
}
