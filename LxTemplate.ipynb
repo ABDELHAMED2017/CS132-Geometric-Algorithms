{
 "metadata": {
  "celltoolbar": "Slideshow",
  "name": "",
  "signature": "sha256:838a8cd223015d59a914ad4ef5e0238281b151e77c4e18d58486fe20cb45c402"
 },
 "nbformat": 3,
 "nbformat_minor": 0,
 "worksheets": [
  {
   "cells": [
    {
     "cell_type": "heading",
     "level": 1,
     "metadata": {
      "internals": {
       "slide_type": "subslide"
      },
      "slideshow": {
       "slide_type": "slide"
      }
     },
     "source": [
      "Lecture Title"
     ]
    },
    {
     "cell_type": "code",
     "collapsed": false,
     "input": [
      "%matplotlib inline\n",
      "%config InlineBackend.figure_format='retina'\n",
      "# possible questions: 35, 60, 61\n",
      "# import libraries\n",
      "import numpy as np\n",
      "import matplotlib as mp\n",
      "import pandas as pd\n",
      "import matplotlib.pyplot as plt\n",
      "import laUtilities as ut\n",
      "import slideUtilities as sl\n",
      "from IPython.display import Image\n",
      "from IPython.display import display_html\n",
      "from IPython.display import display\n",
      "reload(ut)\n",
      "print ''"
     ],
     "language": "python",
     "metadata": {
      "internals": {},
      "slideshow": {
       "slide_type": "skip"
      }
     },
     "outputs": [
      {
       "output_type": "stream",
       "stream": "stdout",
       "text": [
        "\n"
       ]
      }
     ],
     "prompt_number": 1
    }
   ],
   "metadata": {}
  }
 ]
}