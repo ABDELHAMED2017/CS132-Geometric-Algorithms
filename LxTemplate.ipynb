{
 "metadata": {
  "celltoolbar": "Slideshow",
  "name": "",
  "signature": "sha256:b7f5dd9ffa31b72352bde85c07036bb9fa60d9b7e2767e98d5ed231ce52722bd"
 },
 "nbformat": 3,
 "nbformat_minor": 0,
 "worksheets": [
  {
   "cells": [
    {
     "cell_type": "heading",
     "level": 1,
     "metadata": {
      "internals": {
       "slide_type": "subslide"
      },
      "slideshow": {
       "slide_type": "slide"
      }
     },
     "source": [
      "Title"
     ]
    },
    {
     "cell_type": "code",
     "collapsed": false,
     "input": [
      "%matplotlib inline\n",
      "%config InlineBackend.figure_format='retina'\n",
      "# import libraries\n",
      "import numpy as np\n",
      "import matplotlib as mp\n",
      "import pandas as pd\n",
      "import matplotlib.pyplot as plt\n",
      "import laUtilities as ut\n",
      "import slideUtilities as sl\n",
      "import demoUtilities as dm\n",
      "from IPython.display import Image\n",
      "from IPython.display import display_html\n",
      "from IPython.display import display\n",
      "from IPython.display import Math\n",
      "from IPython.display import Latex\n",
      "reload(dm)\n",
      "reload(ut)\n",
      "print ''"
     ],
     "language": "python",
     "metadata": {
      "internals": {},
      "slideshow": {
       "slide_type": "skip"
      }
     },
     "outputs": [
      {
       "output_type": "stream",
       "stream": "stdout",
       "text": [
        "\n"
       ]
      }
     ],
     "prompt_number": 25
    },
    {
     "cell_type": "code",
     "collapsed": false,
     "input": [
      "%%html\n",
      "<style>\n",
      " .container.slides .celltoolbar, .container.slides .hide-in-slideshow {\n",
      "    display: None ! important;\n",
      "}\n",
      "</style>"
     ],
     "language": "python",
     "metadata": {
      "internals": {},
      "slideshow": {
       "slide_type": "skip"
      }
     },
     "outputs": [
      {
       "html": [
        "<style>\n",
        " .container.slides .celltoolbar, .container.slides .hide-in-slideshow {\n",
        "    display: None ! important;\n",
        "}\n",
        "</style>"
       ],
       "metadata": {},
       "output_type": "display_data",
       "text": [
        "<IPython.core.display.HTML at 0x10485a490>"
       ]
      }
     ],
     "prompt_number": 26
    },
    {
     "cell_type": "markdown",
     "metadata": {
      "slideshow": {
       "slide_type": "skip"
      }
     },
     "source": [
      "Set up useful MathJax (Latex) macros.\n",
      "See http://docs.mathjax.org/en/latest/tex.html#defining-tex-macros\n",
      "$\\newcommand{\\mat}[1]{\\left[\\begin{array}#1\\end{array}\\right]}$\n",
      "$\\newcommand{\\x}{{\\mathbf x}}$\n",
      "$\\newcommand{\\b}{{\\mathbf b}}$\n",
      "$\\newcommand{\\R}{{\\mathbb{R}}}$\n",
      "\n",
      "$\\require{extension}$\n",
      "Another useful extension is bbox.  See doc."
     ]
    },
    {
     "cell_type": "code",
     "collapsed": false,
     "input": [],
     "language": "python",
     "metadata": {},
     "outputs": []
    }
   ],
   "metadata": {}
  }
 ]
}